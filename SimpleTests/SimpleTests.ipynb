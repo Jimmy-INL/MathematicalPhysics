{
 "cells": [
  {
   "cell_type": "code",
   "execution_count": null,
   "metadata": {
    "collapsed": true,
    "deletable": true,
    "editable": true
   },
   "outputs": [],
   "source": [
    "import matplotlib.pyplot as plt\n",
    "from ipywidgets import interact\n",
    "\n",
    "def f(n):\n",
    "    plt.plot([0,1,2],[0,1,n])\n",
    "    plt.show()\n",
    "interact(f,n=(0,10))"
   ]
  },
  {
   "cell_type": "code",
   "execution_count": 3,
   "metadata": {
    "collapsed": false,
    "deletable": true,
    "editable": true
   },
   "outputs": [
    {
     "data": {
      "application/vnd.jupyter.widget-view+json": {
       "model_id": "1d96b087e4e245979dd1aa16597b1e8f"
      }
     },
     "metadata": {},
     "output_type": "display_data"
    },
    {
     "data": {
      "text/plain": [
       "<function __main__.f>"
      ]
     },
     "execution_count": 3,
     "metadata": {},
     "output_type": "execute_result"
    }
   ],
   "source": [
    "import bqplot.pyplot as plt\n",
    "from ipywidgets import interact\n",
    "\n",
    "def f(n):\n",
    "    plt.clear()\n",
    "    plt.plot([0,1,2],[0,1,n])\n",
    "    plt.show()\n",
    "interact(f,n=(0,10))"
   ]
  },
  {
   "cell_type": "code",
   "execution_count": 4,
   "metadata": {
    "collapsed": false,
    "deletable": true,
    "editable": true
   },
   "outputs": [
    {
     "data": {
      "text/plain": [
       "'6.0.0'"
      ]
     },
     "execution_count": 4,
     "metadata": {},
     "output_type": "execute_result"
    }
   ],
   "source": [
    "import ipywidgets\n",
    "ipywidgets.__version__"
   ]
  },
  {
   "cell_type": "code",
   "execution_count": 5,
   "metadata": {
    "collapsed": false,
    "deletable": true,
    "editable": true
   },
   "outputs": [
    {
     "data": {
      "text/plain": [
       "'0.9.0.b10'"
      ]
     },
     "execution_count": 5,
     "metadata": {},
     "output_type": "execute_result"
    }
   ],
   "source": [
    "import bqplot\n",
    "bqplot.__version__"
   ]
  },
  {
   "cell_type": "code",
   "execution_count": 3,
   "metadata": {
    "collapsed": false,
    "deletable": true,
    "editable": true
   },
   "outputs": [
    {
     "data": {
      "application/vnd.jupyter.widget-view+json": {
       "model_id": "ae557c5b1b1442f898fdbf7c3b479d47"
      }
     },
     "metadata": {},
     "output_type": "display_data"
    }
   ],
   "source": [
    "plt.plot([0,1,2],[0,1,5])\n",
    "plt.show()"
   ]
  },
  {
   "cell_type": "code",
   "execution_count": null,
   "metadata": {
    "collapsed": true,
    "deletable": true,
    "editable": true
   },
   "outputs": [],
   "source": [
    "import numpy as np"
   ]
  },
  {
   "cell_type": "code",
   "execution_count": null,
   "metadata": {
    "collapsed": false,
    "deletable": true,
    "editable": true
   },
   "outputs": [],
   "source": [
    "plt.figure(1, title='Line Chart')\n",
    "np.random.seed(0)\n",
    "n = 200\n",
    "x = np.linspace(0.0, 10.0, n)\n",
    "y = np.cumsum(np.random.randn(n))\n",
    "plt.plot(x, y)\n",
    "plt.show()"
   ]
  },
  {
   "cell_type": "code",
   "execution_count": 2,
   "metadata": {
    "collapsed": false,
    "deletable": true,
    "editable": true
   },
   "outputs": [
    {
     "data": {
      "application/vnd.jupyter.widget-view+json": {
       "model_id": "8952ea602ed54b10a0d70404e6fa026e"
      }
     },
     "metadata": {},
     "output_type": "display_data"
    }
   ],
   "source": [
    "import bqplot\n",
    "\n",
    "from bqplot import pyplot as plt\n",
    "import numpy as np\n",
    "\n",
    "plt.figure(1, title='Line Chart')\n",
    "np.random.seed(0)\n",
    "n = 200\n",
    "x = np.linspace(0.0, 10.0, n)\n",
    "y = np.cumsum(np.random.randn(n))\n",
    "plt.plot(x, y)\n",
    "plt.show()"
   ]
  },
  {
   "cell_type": "code",
   "execution_count": 1,
   "metadata": {
    "collapsed": false,
    "deletable": true,
    "editable": true
   },
   "outputs": [
    {
     "data": {
      "application/vnd.jupyter.widget-view+json": {
       "model_id": "a26eb5e955b048bcb76bcd0557a1cc83"
      }
     },
     "metadata": {},
     "output_type": "display_data"
    },
    {
     "data": {
      "text/plain": [
       "<function __main__.f>"
      ]
     },
     "execution_count": 1,
     "metadata": {},
     "output_type": "execute_result"
    }
   ],
   "source": [
    "import matplotlib.pyplot as plt\n",
    "from ipywidgets import interact\n",
    "%matplotlib inline\n",
    "\n",
    "def f(n):\n",
    "    plt.plot([0,1,2],[0,1,n])\n",
    "    plt.show()\n",
    "interact(f,n=(0,10))"
   ]
  },
  {
   "cell_type": "code",
   "execution_count": null,
   "metadata": {
    "collapsed": true,
    "deletable": true,
    "editable": true
   },
   "outputs": [],
   "source": []
  }
 ],
 "metadata": {
  "kernelspec": {
   "display_name": "Python 3",
   "language": "python",
   "name": "python3"
  },
  "language_info": {
   "codemirror_mode": {
    "name": "ipython",
    "version": 3
   },
   "file_extension": ".py",
   "mimetype": "text/x-python",
   "name": "python",
   "nbconvert_exporter": "python",
   "pygments_lexer": "ipython3",
   "version": "3.6.0"
  },
  "widgets": {
   "application/vnd.jupyter.widget-state+json": {
    "state": {
     "0173b418f2d248d5a5e05d0a59176381": {
      "model_module": "jupyter-js-widgets",
      "model_module_version": "~2.1.4",
      "model_name": "LayoutModel",
      "state": {
       "_model_module_version": "~2.1.4",
       "_view_module_version": "~2.1.4"
      }
     },
     "0343e953411e4e25b71141e5ce50299a": {
      "model_module": "bqplot",
      "model_module_version": "*",
      "model_name": "AxisModel",
      "state": {
       "scale": "IPY_MODEL_560b61300eb14d0a9582c2e99dfbf1db",
       "side": "bottom",
       "tick_values": {
        "type": null,
        "values": null
       }
      }
     },
     "0467883e5e4248a98d9111782d5acb3c": {
      "model_module": "bqplot",
      "model_module_version": "*",
      "model_name": "AxisModel",
      "state": {
       "orientation": "vertical",
       "scale": "IPY_MODEL_ee9ab4b1a19648839203af6f486cc109",
       "side": "left",
       "tick_values": {
        "type": null,
        "values": null
       }
      }
     },
     "06a9a60422614555a672f272d023b39b": {
      "model_module": "bqplot",
      "model_module_version": "*",
      "model_name": "LinearScaleModel",
      "state": {
       "stabilized": false
      }
     },
     "08d8593748754ef18353ffd57899a7e3": {
      "model_module": "bqplot",
      "model_module_version": "*",
      "model_name": "AxisModel",
      "state": {
       "scale": "IPY_MODEL_0b9f3ade35cb493fa85ae597de193db2",
       "side": "bottom",
       "tick_values": {
        "type": null,
        "values": null
       }
      }
     },
     "094be452620740e0b928e96a19f6ebd4": {
      "model_module": "jupyter-js-widgets",
      "model_module_version": "~2.1.4",
      "model_name": "VBoxModel",
      "state": {
       "_model_module_version": "~2.1.4",
       "_view_module_version": "~2.1.4",
       "children": [
        "IPY_MODEL_2c6b417cc73a4a708a665e20774b09db",
        "IPY_MODEL_ece03df086fb4f529a2a7120548beb0f"
       ],
       "layout": "IPY_MODEL_0efb231832864df7b449348038dd5f85"
      }
     },
     "0a096b8cd9aa492e93c86958cb8b483f": {
      "model_module": "jupyter-js-widgets",
      "model_module_version": "~2.1.4",
      "model_name": "LayoutModel",
      "state": {
       "_model_module_version": "~2.1.4",
       "_view_module_version": "~2.1.4"
      }
     },
     "0aad97edc0b24db5a30d7c281c56b49e": {
      "model_module": "bqplot",
      "model_module_version": "*",
      "model_name": "AxisModel",
      "state": {
       "scale": "IPY_MODEL_8eaa349dfdb14edaad60a2a06e6cf59a",
       "side": "bottom",
       "tick_values": {
        "type": null,
        "values": null
       }
      }
     },
     "0b9f3ade35cb493fa85ae597de193db2": {
      "model_module": "bqplot",
      "model_module_version": "*",
      "model_name": "LinearScaleModel",
      "state": {
       "stabilized": false
      }
     },
     "0efb231832864df7b449348038dd5f85": {
      "model_module": "jupyter-js-widgets",
      "model_module_version": "~2.1.4",
      "model_name": "LayoutModel",
      "state": {
       "_model_module_version": "~2.1.4",
       "_view_module_version": "~2.1.4"
      }
     },
     "0f5dd0b96edf48d482d806b80f3ada0c": {
      "model_module": "bqplot",
      "model_module_version": "*",
      "model_name": "LinearScaleModel",
      "state": {
       "stabilized": false
      }
     },
     "1034ec81df8e4d15951880004e41f0ed": {
      "model_module": "bqplot",
      "model_module_version": "*",
      "model_name": "AxisModel",
      "state": {
       "scale": "IPY_MODEL_7e95701033d7431cb8198a81edf7e835",
       "side": "bottom",
       "tick_values": {
        "type": null,
        "values": null
       }
      }
     },
     "10af9ae1de7e4347a76539a999af2048": {
      "model_module": "bqplot",
      "model_module_version": "*",
      "model_name": "LinearScaleModel",
      "state": {
       "stabilized": false
      }
     },
     "11b0dc2fb37b46d4baf3c9687d895729": {
      "model_module": "jupyter-js-widgets",
      "model_module_version": "~2.1.4",
      "model_name": "LayoutModel",
      "state": {
       "_model_module_version": "~2.1.4",
       "_view_module_version": "~2.1.4"
      }
     },
     "15855e7bfe5e4a1d81956d9823420b51": {
      "model_module": "bqplot",
      "model_module_version": "*",
      "model_name": "LinesModel",
      "state": {
       "color": {
        "type": null,
        "values": null
       },
       "display_legend": false,
       "fill_colors": [],
       "labels": [
        "C1"
       ],
       "scales": {
        "x": "IPY_MODEL_54dc6771135a44159cacb11cc010fff8",
        "y": "IPY_MODEL_cf5a727cbf714375a2d790ec12a58658"
       },
       "selected": [],
       "x": {
        "type": "float",
        "values": [
         0,
         1,
         2
        ]
       },
       "y": {
        "type": "float",
        "values": [
         0,
         1,
         3
        ]
       }
      }
     },
     "16985028444540159e35de984f0f4442": {
      "model_module": "bqplot",
      "model_module_version": "*",
      "model_name": "AxisModel",
      "state": {
       "orientation": "vertical",
       "scale": "IPY_MODEL_cf5a727cbf714375a2d790ec12a58658",
       "side": "left",
       "tick_values": {
        "type": null,
        "values": null
       }
      }
     },
     "1828aa5c8a304a4799cab9740ec7d8ed": {
      "model_module": "jupyter-js-widgets",
      "model_module_version": "~2.1.4",
      "model_name": "LayoutModel",
      "state": {
       "_model_module_version": "~2.1.4",
       "_view_module_version": "~2.1.4"
      }
     },
     "18d3ac28ce16494294ae54546cf18bec": {
      "model_module": "bqplot",
      "model_module_version": "*",
      "model_name": "AxisModel",
      "state": {
       "scale": "IPY_MODEL_54dc6771135a44159cacb11cc010fff8",
       "side": "bottom",
       "tick_values": {
        "type": null,
        "values": null
       }
      }
     },
     "1950c20abe1f4aa3a31b9975ad0cf16c": {
      "model_module": "jupyter-js-widgets",
      "model_module_version": "~2.1.4",
      "model_name": "VBoxModel",
      "state": {
       "_model_module_version": "~2.1.4",
       "_view_module_version": "~2.1.4",
       "children": [
        "IPY_MODEL_2c6b417cc73a4a708a665e20774b09db",
        "IPY_MODEL_ece03df086fb4f529a2a7120548beb0f"
       ],
       "layout": "IPY_MODEL_fe44732bd49c4a6b8ff3f9d7056c7f82"
      }
     },
     "1c528a71160041b1a5a94a325fcf9b5d": {
      "model_module": "bqplot",
      "model_module_version": "*",
      "model_name": "AxisModel",
      "state": {
       "orientation": "vertical",
       "scale": "IPY_MODEL_6b525c2d8f364274898fc3ed0f7f75f6",
       "side": "left",
       "tick_values": {
        "type": null,
        "values": null
       }
      }
     },
     "1cf31047d5534756b4fb2b9dc6d3c11f": {
      "model_module": "jupyter-js-widgets",
      "model_module_version": "~2.1.4",
      "model_name": "VBoxModel",
      "state": {
       "_model_module_version": "~2.1.4",
       "_view_module_version": "~2.1.4",
       "children": [
        "IPY_MODEL_2c6b417cc73a4a708a665e20774b09db",
        "IPY_MODEL_ece03df086fb4f529a2a7120548beb0f"
       ],
       "layout": "IPY_MODEL_ef66adbb7cc4458db543cdf3f5a1a8b1"
      }
     },
     "1d2a508cca5c4db4a09670c3c17b4dd7": {
      "model_module": "jupyter-js-widgets",
      "model_module_version": "~2.1.4",
      "model_name": "LayoutModel",
      "state": {
       "_model_module_version": "~2.1.4",
       "_view_module_version": "~2.1.4"
      }
     },
     "1d7130ed650f4b8da14ff535117527b4": {
      "model_module": "jupyter-js-widgets",
      "model_module_version": "~2.1.4",
      "model_name": "OutputModel",
      "state": {
       "_dom_classes": [],
       "_model_module": "jupyter-js-widgets",
       "_model_module_version": "~2.1.4",
       "_view_module": "jupyter-js-widgets",
       "_view_module_version": "~2.1.4",
       "layout": "IPY_MODEL_c57133b0e1d748869b17a3df64b16c6e",
       "msg_throttle": 1
      }
     },
     "1d96b087e4e245979dd1aa16597b1e8f": {
      "model_module": "jupyter-js-widgets",
      "model_module_version": "~2.1.4",
      "model_name": "VBoxModel",
      "state": {
       "_dom_classes": [
        "widget-interact"
       ],
       "_model_module_version": "~2.1.4",
       "_view_module_version": "~2.1.4",
       "children": [
        "IPY_MODEL_390ab81e135a4f7c9a6a6e89fa239878",
        "IPY_MODEL_1d7130ed650f4b8da14ff535117527b4"
       ],
       "layout": "IPY_MODEL_409f4058ec07451298efee5638df66df"
      }
     },
     "1dbb74c5e87b4b3e9323560354dd801c": {
      "model_module": "bqplot",
      "model_module_version": "*",
      "model_name": "LinesModel",
      "state": {
       "color": {
        "type": null,
        "values": null
       },
       "display_legend": false,
       "fill_colors": [],
       "labels": [
        "C1"
       ],
       "scales": {
        "x": "IPY_MODEL_8eaa349dfdb14edaad60a2a06e6cf59a",
        "y": "IPY_MODEL_06a9a60422614555a672f272d023b39b"
       },
       "selected": [],
       "x": {
        "type": "float",
        "values": [
         0,
         1,
         2
        ]
       },
       "y": {
        "type": "float",
        "values": [
         0,
         1,
         4
        ]
       }
      }
     },
     "205ae3630a12455083ab0b0b850debfd": {
      "model_module": "bqplot",
      "model_module_version": "*",
      "model_name": "LinesModel",
      "state": {
       "color": {
        "type": null,
        "values": null
       },
       "display_legend": false,
       "fill_colors": [],
       "labels": [
        "C1"
       ],
       "scales": {
        "x": "IPY_MODEL_8eaa349dfdb14edaad60a2a06e6cf59a",
        "y": "IPY_MODEL_06a9a60422614555a672f272d023b39b"
       },
       "selected": [],
       "x": {
        "type": "float",
        "values": [
         0,
         1,
         2
        ]
       },
       "y": {
        "type": "float",
        "values": [
         0,
         1,
         2
        ]
       }
      }
     },
     "212b3e0b2c0144d7b1dba4aa77a4fb65": {
      "model_module": "bqplot",
      "model_module_version": "*",
      "model_name": "LinesModel",
      "state": {
       "color": {
        "type": null,
        "values": null
       },
       "display_legend": false,
       "fill_colors": [],
       "labels": [
        "C1"
       ],
       "scales": {
        "x": "IPY_MODEL_8eaa349dfdb14edaad60a2a06e6cf59a",
        "y": "IPY_MODEL_06a9a60422614555a672f272d023b39b"
       },
       "selected": [],
       "x": {
        "type": "float",
        "values": [
         0,
         1,
         2
        ]
       },
       "y": {
        "type": "float",
        "values": [
         0,
         1,
         3
        ]
       }
      }
     },
     "21cd19489b624fd4ac28edcfbe03169a": {
      "model_module": "jupyter-js-widgets",
      "model_module_version": "~2.1.4",
      "model_name": "LayoutModel",
      "state": {
       "_model_module_version": "~2.1.4",
       "_view_module_version": "~2.1.4"
      }
     },
     "22822ff43c0a44bc8a23187c0dddd485": {
      "model_module": "bqplot",
      "model_module_version": "*",
      "model_name": "LinesModel",
      "state": {
       "color": {
        "type": null,
        "values": null
       },
       "display_legend": false,
       "fill_colors": [],
       "labels": [
        "C1"
       ],
       "scales": {
        "x": "IPY_MODEL_8eaa349dfdb14edaad60a2a06e6cf59a",
        "y": "IPY_MODEL_06a9a60422614555a672f272d023b39b"
       },
       "selected": [],
       "x": {
        "type": "float",
        "values": [
         0,
         1,
         2
        ]
       },
       "y": {
        "type": "float",
        "values": [
         0,
         1,
         6
        ]
       }
      }
     },
     "22e20beba73b4b69a6fb6487f584426f": {
      "model_module": "bqplot",
      "model_module_version": "*",
      "model_name": "LinearScaleModel",
      "state": {
       "allow_padding": false,
       "max": 1,
       "min": 0,
       "stabilized": false
      }
     },
     "23fb5608a276458a89dd26726def5e9b": {
      "model_module": "jupyter-js-widgets",
      "model_module_version": "~2.1.4",
      "model_name": "LayoutModel",
      "state": {
       "_model_module_version": "~2.1.4",
       "_view_module_version": "~2.1.4"
      }
     },
     "246fae1895444cb0928dad73d0836afc": {
      "model_module": "bqplot",
      "model_module_version": "*",
      "model_name": "AxisModel",
      "state": {
       "scale": "IPY_MODEL_db52732007eb4a51b2c5676a167ddd4d",
       "side": "bottom",
       "tick_values": {
        "type": null,
        "values": null
       }
      }
     },
     "26c67bb8e13e472f9731a7eb5578c8ef": {
      "model_module": "bqplot",
      "model_module_version": "*",
      "model_name": "LinesModel",
      "state": {
       "color": {
        "type": null,
        "values": null
       },
       "display_legend": false,
       "fill_colors": [],
       "labels": [
        "C1"
       ],
       "scales": {
        "x": "IPY_MODEL_db52732007eb4a51b2c5676a167ddd4d",
        "y": "IPY_MODEL_8df147966f2c4ee7a20d6a38821fc891"
       },
       "selected": [],
       "x": {
        "type": "float",
        "values": [
         0,
         1,
         2
        ]
       },
       "y": {
        "type": "float",
        "values": [
         0,
         1,
         3
        ]
       }
      }
     },
     "27cf78fac26e49fcbc69537b1051a3ab": {
      "model_module": "bqplot",
      "model_module_version": "*",
      "model_name": "AxisModel",
      "state": {
       "scale": "IPY_MODEL_2f1fd0d5b9734425b74dc4cdc4532fd0",
       "side": "bottom",
       "tick_values": {
        "type": null,
        "values": null
       }
      }
     },
     "28fbd920c2ca496db17f9d1aa6b5cbaf": {
      "model_module": "jupyter-js-widgets",
      "model_module_version": "~2.1.4",
      "model_name": "LayoutModel",
      "state": {
       "_model_module_version": "~2.1.4",
       "_view_module_version": "~2.1.4"
      }
     },
     "2c6b417cc73a4a708a665e20774b09db": {
      "model_module": "bqplot",
      "model_module_version": "*",
      "model_name": "FigureModel",
      "state": {
       "_dom_classes": [],
       "axes": [
        "IPY_MODEL_08d8593748754ef18353ffd57899a7e3",
        "IPY_MODEL_2f1e4fa5a1a340d880eafa3ab3d46e91"
       ],
       "layout": "IPY_MODEL_bb77f2a8d9cb4c99b32075c8d6ddd2c0",
       "marks": [
        "IPY_MODEL_855d2801c80b484fa2547532d89f11ec"
       ],
       "max_aspect_ratio": 6,
       "scale_x": "IPY_MODEL_4130e4a7a1134b85b17d53de3a9a40e4",
       "scale_y": "IPY_MODEL_22e20beba73b4b69a6fb6487f584426f"
      }
     },
     "2cc4f4e36f8a4804aa539a01b38a5f9b": {
      "model_module": "jupyter-js-widgets",
      "model_module_version": "~2.1.4",
      "model_name": "LayoutModel",
      "state": {
       "_model_module_version": "~2.1.4",
       "_view_module_version": "~2.1.4"
      }
     },
     "2daa42322c0c4d1faf424b4c11c77aaf": {
      "model_module": "bqplot",
      "model_module_version": "*",
      "model_name": "LinesModel",
      "state": {
       "color": {
        "type": null,
        "values": null
       },
       "display_legend": false,
       "fill_colors": [],
       "labels": [
        "C1"
       ],
       "scales": {
        "x": "IPY_MODEL_99995154b2244ebea9c01bdc10a70cec",
        "y": "IPY_MODEL_e7aeb688b8984933a5ff8770311103c7"
       },
       "selected": [],
       "x": {
        "type": "float",
        "values": [
         0,
         1,
         2
        ]
       },
       "y": {
        "type": "float",
        "values": [
         0,
         1,
         5
        ]
       }
      }
     },
     "2dbba188dbe94f51baadefc1cf35d883": {
      "model_module": "bqplot",
      "model_module_version": "*",
      "model_name": "LinearScaleModel",
      "state": {
       "stabilized": false
      }
     },
     "2eeae1efc9e54ff78207a238a9ff2520": {
      "model_module": "jupyter-js-widgets",
      "model_module_version": "~2.1.4",
      "model_name": "VBoxModel",
      "state": {
       "_model_module_version": "~2.1.4",
       "_view_module_version": "~2.1.4",
       "children": [
        "IPY_MODEL_2c6b417cc73a4a708a665e20774b09db",
        "IPY_MODEL_ece03df086fb4f529a2a7120548beb0f"
       ],
       "layout": "IPY_MODEL_30d35e0ea0d0491da5c0f348655bfac7"
      }
     },
     "2f1e4fa5a1a340d880eafa3ab3d46e91": {
      "model_module": "bqplot",
      "model_module_version": "*",
      "model_name": "AxisModel",
      "state": {
       "orientation": "vertical",
       "scale": "IPY_MODEL_5a02e1b5e08c49b58fc22ae6cb80b776",
       "side": "left",
       "tick_values": {
        "type": null,
        "values": null
       }
      }
     },
     "2f1fd0d5b9734425b74dc4cdc4532fd0": {
      "model_module": "bqplot",
      "model_module_version": "*",
      "model_name": "LinearScaleModel",
      "state": {
       "stabilized": false
      }
     },
     "2f237d7eac8944769c87f54f8be61a24": {
      "model_module": "bqplot",
      "model_module_version": "*",
      "model_name": "LinesModel",
      "state": {
       "color": {
        "type": null,
        "values": null
       },
       "display_legend": false,
       "fill_colors": [],
       "labels": [
        "C1"
       ],
       "scales": {
        "x": "IPY_MODEL_560b61300eb14d0a9582c2e99dfbf1db",
        "y": "IPY_MODEL_eae1248991aa41f991313ab300612abc"
       },
       "selected": [],
       "x": {
        "type": "float",
        "values": [
         0,
         1,
         2
        ]
       },
       "y": {
        "type": "float",
        "values": [
         0,
         1,
         4
        ]
       }
      }
     },
     "300685d6a3d7407dbedb1722e4686e34": {
      "model_module": "bqplot",
      "model_module_version": "*",
      "model_name": "AxisModel",
      "state": {
       "orientation": "vertical",
       "scale": "IPY_MODEL_2dbba188dbe94f51baadefc1cf35d883",
       "side": "left",
       "tick_values": {
        "type": null,
        "values": null
       }
      }
     },
     "30d35e0ea0d0491da5c0f348655bfac7": {
      "model_module": "jupyter-js-widgets",
      "model_module_version": "~2.1.4",
      "model_name": "LayoutModel",
      "state": {
       "_model_module_version": "~2.1.4",
       "_view_module_version": "~2.1.4"
      }
     },
     "32e53b04d5b84478928f49f108da37dc": {
      "model_module": "jupyter-js-widgets",
      "model_module_version": "~2.1.4",
      "model_name": "VBoxModel",
      "state": {
       "_model_module_version": "~2.1.4",
       "_view_module_version": "~2.1.4",
       "children": [
        "IPY_MODEL_2c6b417cc73a4a708a665e20774b09db",
        "IPY_MODEL_ece03df086fb4f529a2a7120548beb0f"
       ],
       "layout": "IPY_MODEL_a8a62a0ceecd41df9f0438d6cebb8d23"
      }
     },
     "346b1750d972451caf09ad27aa5254b7": {
      "model_module": "jupyter-js-widgets",
      "model_module_version": "~2.1.4",
      "model_name": "LayoutModel",
      "state": {
       "_model_module_version": "~2.1.4",
       "_view_module_version": "~2.1.4"
      }
     },
     "390ab81e135a4f7c9a6a6e89fa239878": {
      "model_module": "jupyter-js-widgets",
      "model_module_version": "~2.1.4",
      "model_name": "IntSliderModel",
      "state": {
       "_model_module_version": "~2.1.4",
       "_view_module_version": "~2.1.4",
       "description": "n",
       "layout": "IPY_MODEL_23fb5608a276458a89dd26726def5e9b",
       "max": 10,
       "style": "IPY_MODEL_a222d9aadf2746798d6e4a34cb01ee81",
       "value": 8
      }
     },
     "3dba4133d8494e4197784c1bf0ebc007": {
      "model_module": "jupyter-js-widgets",
      "model_module_version": "~2.1.4",
      "model_name": "VBoxModel",
      "state": {
       "_model_module_version": "~2.1.4",
       "_view_module_version": "~2.1.4",
       "children": [
        "IPY_MODEL_2c6b417cc73a4a708a665e20774b09db",
        "IPY_MODEL_ece03df086fb4f529a2a7120548beb0f"
       ],
       "layout": "IPY_MODEL_b89e638ccc894cf0a142212a83948cc3"
      }
     },
     "3dc35fa93c044d068717440f37b04915": {
      "model_module": "jupyter-js-widgets",
      "model_module_version": "~2.1.4",
      "model_name": "OutputModel",
      "state": {
       "_dom_classes": [],
       "_model_module": "jupyter-js-widgets",
       "_model_module_version": "~2.1.4",
       "_view_module": "jupyter-js-widgets",
       "_view_module_version": "~2.1.4",
       "layout": "IPY_MODEL_0a096b8cd9aa492e93c86958cb8b483f",
       "msg_throttle": 1
      }
     },
     "409f4058ec07451298efee5638df66df": {
      "model_module": "jupyter-js-widgets",
      "model_module_version": "~2.1.4",
      "model_name": "LayoutModel",
      "state": {
       "_model_module_version": "~2.1.4",
       "_view_module_version": "~2.1.4"
      }
     },
     "4130e4a7a1134b85b17d53de3a9a40e4": {
      "model_module": "bqplot",
      "model_module_version": "*",
      "model_name": "LinearScaleModel",
      "state": {
       "allow_padding": false,
       "max": 1,
       "min": 0,
       "stabilized": false
      }
     },
     "44b957f7bc92473e928f638cf0e40706": {
      "model_module": "bqplot",
      "model_module_version": "*",
      "model_name": "LinearScaleModel",
      "state": {
       "stabilized": false
      }
     },
     "47136901fb844ca9b01946d5abf7508f": {
      "model_module": "jupyter-js-widgets",
      "model_module_version": "~2.1.4",
      "model_name": "VBoxModel",
      "state": {
       "_model_module_version": "~2.1.4",
       "_view_module_version": "~2.1.4",
       "children": [
        "IPY_MODEL_2c6b417cc73a4a708a665e20774b09db",
        "IPY_MODEL_ece03df086fb4f529a2a7120548beb0f"
       ],
       "layout": "IPY_MODEL_11b0dc2fb37b46d4baf3c9687d895729"
      }
     },
     "489da4d0071d463995097828114273f8": {
      "model_module": "bqplot",
      "model_module_version": "*",
      "model_name": "AxisModel",
      "state": {
       "orientation": "vertical",
       "scale": "IPY_MODEL_06a9a60422614555a672f272d023b39b",
       "side": "left",
       "tick_values": {
        "type": null,
        "values": null
       }
      }
     },
     "4b22480bc42141fcb32f6605a2be74d1": {
      "model_module": "jupyter-js-widgets",
      "model_module_version": "~2.1.4",
      "model_name": "VBoxModel",
      "state": {
       "_model_module_version": "~2.1.4",
       "_view_module_version": "~2.1.4",
       "children": [
        "IPY_MODEL_2c6b417cc73a4a708a665e20774b09db",
        "IPY_MODEL_ece03df086fb4f529a2a7120548beb0f"
       ],
       "layout": "IPY_MODEL_346b1750d972451caf09ad27aa5254b7"
      }
     },
     "54dc6771135a44159cacb11cc010fff8": {
      "model_module": "bqplot",
      "model_module_version": "*",
      "model_name": "LinearScaleModel",
      "state": {
       "stabilized": false
      }
     },
     "560b61300eb14d0a9582c2e99dfbf1db": {
      "model_module": "bqplot",
      "model_module_version": "*",
      "model_name": "LinearScaleModel",
      "state": {
       "stabilized": false
      }
     },
     "59f94915174040ebb5982f66242379be": {
      "model_module": "jupyter-js-widgets",
      "model_module_version": "~2.1.4",
      "model_name": "OutputModel",
      "state": {
       "_dom_classes": [],
       "_model_module": "jupyter-js-widgets",
       "_model_module_version": "~2.1.4",
       "_view_module": "jupyter-js-widgets",
       "_view_module_version": "~2.1.4",
       "layout": "IPY_MODEL_efcdbac808874ee5ba66fa1fd2434a1d",
       "msg_throttle": 1
      }
     },
     "5a02e1b5e08c49b58fc22ae6cb80b776": {
      "model_module": "bqplot",
      "model_module_version": "*",
      "model_name": "LinearScaleModel",
      "state": {
       "stabilized": false
      }
     },
     "5c377d458cf84e3d848b916ccfff0300": {
      "model_module": "jupyter-js-widgets",
      "model_module_version": "~2.1.4",
      "model_name": "VBoxModel",
      "state": {
       "_model_module_version": "~2.1.4",
       "_view_module_version": "~2.1.4",
       "children": [
        "IPY_MODEL_2c6b417cc73a4a708a665e20774b09db",
        "IPY_MODEL_ece03df086fb4f529a2a7120548beb0f"
       ],
       "layout": "IPY_MODEL_7d2d9d09f6f44b55af00347615fa9830"
      }
     },
     "6999aa1675de4bb6a724783d3a98b2ca": {
      "model_module": "jupyter-js-widgets",
      "model_module_version": "~2.1.4",
      "model_name": "VBoxModel",
      "state": {
       "_dom_classes": [
        "widget-interact"
       ],
       "_model_module_version": "~2.1.4",
       "_view_module_version": "~2.1.4",
       "children": [
        "IPY_MODEL_fe820f8a60eb4016a84bd712e74dd792",
        "IPY_MODEL_3dc35fa93c044d068717440f37b04915"
       ],
       "layout": "IPY_MODEL_1828aa5c8a304a4799cab9740ec7d8ed"
      }
     },
     "6a85d733660c4284ae81517a19c79b98": {
      "model_module": "jupyter-js-widgets",
      "model_module_version": "~2.1.4",
      "model_name": "SliderStyleModel",
      "state": {
       "_model_module_version": "~2.1.4",
       "_view_module_version": "~2.1.4"
      }
     },
     "6ad9f04c9cd84c14bc484c27f9af5636": {
      "model_module": "bqplot",
      "model_module_version": "*",
      "model_name": "AxisModel",
      "state": {
       "scale": "IPY_MODEL_99995154b2244ebea9c01bdc10a70cec",
       "side": "bottom",
       "tick_values": {
        "type": null,
        "values": null
       }
      }
     },
     "6b525c2d8f364274898fc3ed0f7f75f6": {
      "model_module": "bqplot",
      "model_module_version": "*",
      "model_name": "LinearScaleModel",
      "state": {
       "stabilized": false
      }
     },
     "6fe3186baf9f4c3b9c8d80a1e82482dd": {
      "model_module": "jupyter-js-widgets",
      "model_module_version": "~2.1.4",
      "model_name": "LayoutModel",
      "state": {
       "_model_module_version": "~2.1.4",
       "_view_module_version": "~2.1.4"
      }
     },
     "706bce8539314db480ab2f94d36f8e07": {
      "model_module": "bqplot",
      "model_module_version": "*",
      "model_name": "AxisModel",
      "state": {
       "scale": "IPY_MODEL_d5616ea3815e44dc8babae8c2bf21a42",
       "side": "bottom",
       "tick_values": {
        "type": null,
        "values": null
       }
      }
     },
     "74038725ac934eb293791d07592149a8": {
      "model_module": "jupyter-js-widgets",
      "model_module_version": "~2.1.4",
      "model_name": "VBoxModel",
      "state": {
       "_dom_classes": [
        "widget-interact"
       ],
       "_model_module_version": "~2.1.4",
       "_view_module_version": "~2.1.4",
       "children": [
        "IPY_MODEL_fc8807f59c2248dcb28bad8257a713db",
        "IPY_MODEL_59f94915174040ebb5982f66242379be"
       ],
       "layout": "IPY_MODEL_d3baf6d0b8224a768a3bbe2198b7a5ef"
      }
     },
     "757d1f86745d4c56b2909a633af35c71": {
      "model_module": "bqplot",
      "model_module_version": "*",
      "model_name": "LinesModel",
      "state": {
       "color": {
        "type": null,
        "values": null
       },
       "display_legend": false,
       "fill_colors": [],
       "labels": [
        "C1"
       ],
       "scales": {
        "x": "IPY_MODEL_0f5dd0b96edf48d482d806b80f3ada0c",
        "y": "IPY_MODEL_2dbba188dbe94f51baadefc1cf35d883"
       },
       "selected": [],
       "x": {
        "type": "float",
        "values": [
         0,
         1,
         2
        ]
       },
       "y": {
        "type": "float",
        "values": [
         0,
         1,
         4
        ]
       }
      }
     },
     "76b37ebf2f5f47fe87c3db2d48c57418": {
      "model_module": "bqplot",
      "model_module_version": "*",
      "model_name": "LinesModel",
      "state": {
       "color": {
        "type": null,
        "values": null
       },
       "display_legend": false,
       "fill_colors": [],
       "labels": [
        "C1"
       ],
       "scales": {
        "x": "IPY_MODEL_8eaa349dfdb14edaad60a2a06e6cf59a",
        "y": "IPY_MODEL_06a9a60422614555a672f272d023b39b"
       },
       "selected": [],
       "x": {
        "type": "float",
        "values": [
         0,
         1,
         2
        ]
       },
       "y": {
        "type": "float",
        "values": [
         0,
         1,
         5
        ]
       }
      }
     },
     "7758a90fc10642cb8f934e74e60bf954": {
      "model_module": "bqplot",
      "model_module_version": "*",
      "model_name": "AxisModel",
      "state": {
       "orientation": "vertical",
       "scale": "IPY_MODEL_8df147966f2c4ee7a20d6a38821fc891",
       "side": "left",
       "tick_values": {
        "type": null,
        "values": null
       }
      }
     },
     "7bcec5fe0e134877a1aae47e58e7d722": {
      "model_module": "jupyter-js-widgets",
      "model_module_version": "~2.1.4",
      "model_name": "LayoutModel",
      "state": {
       "_model_module_version": "~2.1.4",
       "_view_module_version": "~2.1.4"
      }
     },
     "7d2d9d09f6f44b55af00347615fa9830": {
      "model_module": "jupyter-js-widgets",
      "model_module_version": "~2.1.4",
      "model_name": "LayoutModel",
      "state": {
       "_model_module_version": "~2.1.4",
       "_view_module_version": "~2.1.4"
      }
     },
     "7e95701033d7431cb8198a81edf7e835": {
      "model_module": "bqplot",
      "model_module_version": "*",
      "model_name": "LinearScaleModel",
      "state": {
       "stabilized": false
      }
     },
     "82ab4384418842f3b3272058b8a16285": {
      "model_module": "jupyter-js-widgets",
      "model_module_version": "~2.1.4",
      "model_name": "VBoxModel",
      "state": {
       "_model_module_version": "~2.1.4",
       "_view_module_version": "~2.1.4",
       "children": [
        "IPY_MODEL_2c6b417cc73a4a708a665e20774b09db",
        "IPY_MODEL_ece03df086fb4f529a2a7120548beb0f"
       ],
       "layout": "IPY_MODEL_28fbd920c2ca496db17f9d1aa6b5cbaf"
      }
     },
     "855d2801c80b484fa2547532d89f11ec": {
      "model_module": "bqplot",
      "model_module_version": "*",
      "model_name": "LinesModel",
      "state": {
       "color": {
        "type": null,
        "values": null
       },
       "display_legend": false,
       "fill_colors": [],
       "labels": [
        "C1"
       ],
       "scales": {
        "x": "IPY_MODEL_0b9f3ade35cb493fa85ae597de193db2",
        "y": "IPY_MODEL_5a02e1b5e08c49b58fc22ae6cb80b776"
       },
       "selected": [],
       "x": {
        "type": "float",
        "values": [
         0,
         1,
         2
        ]
       },
       "y": {
        "type": "float",
        "values": [
         0,
         1,
         8
        ]
       }
      }
     },
     "860f7f09cdbb4421ba9efae65b167123": {
      "model_module": "bqplot",
      "model_module_version": "*",
      "model_name": "LinesModel",
      "state": {
       "color": {
        "type": null,
        "values": null
       },
       "display_legend": false,
       "fill_colors": [],
       "labels": [
        "C1"
       ],
       "scales": {
        "x": "IPY_MODEL_8eaa349dfdb14edaad60a2a06e6cf59a",
        "y": "IPY_MODEL_06a9a60422614555a672f272d023b39b"
       },
       "selected": [],
       "x": {
        "type": "float",
        "values": [
         0,
         1,
         2
        ]
       },
       "y": {
        "type": "float",
        "values": [
         0,
         1,
         4
        ]
       }
      }
     },
     "8df147966f2c4ee7a20d6a38821fc891": {
      "model_module": "bqplot",
      "model_module_version": "*",
      "model_name": "LinearScaleModel",
      "state": {
       "stabilized": false
      }
     },
     "8eaa349dfdb14edaad60a2a06e6cf59a": {
      "model_module": "bqplot",
      "model_module_version": "*",
      "model_name": "LinearScaleModel",
      "state": {
       "stabilized": false
      }
     },
     "906597932ddc45bfb2b666b7c91bd143": {
      "model_module": "jupyter-js-widgets",
      "model_module_version": "~2.1.4",
      "model_name": "VBoxModel",
      "state": {
       "_model_module_version": "~2.1.4",
       "_view_module_version": "~2.1.4",
       "children": [
        "IPY_MODEL_2c6b417cc73a4a708a665e20774b09db",
        "IPY_MODEL_ece03df086fb4f529a2a7120548beb0f"
       ],
       "layout": "IPY_MODEL_7bcec5fe0e134877a1aae47e58e7d722"
      }
     },
     "937dac0c63ea4ee5877dc56d054b5766": {
      "model_module": "bqplot",
      "model_module_version": "*",
      "model_name": "LinesModel",
      "state": {
       "color": {
        "type": null,
        "values": null
       },
       "display_legend": false,
       "fill_colors": [],
       "labels": [
        "C1"
       ],
       "scales": {
        "x": "IPY_MODEL_7e95701033d7431cb8198a81edf7e835",
        "y": "IPY_MODEL_ee1d0f10dea54ba19d68e6606c0e01f4"
       },
       "selected": [],
       "x": {
        "type": "float",
        "values": [
         0,
         1,
         2
        ]
       },
       "y": {
        "type": "float",
        "values": [
         0,
         1,
         5
        ]
       }
      }
     },
     "9486e305565e4232808b95d0fa696c20": {
      "model_module": "jupyter-js-widgets",
      "model_module_version": "~2.1.4",
      "model_name": "VBoxModel",
      "state": {
       "_model_module_version": "~2.1.4",
       "_view_module_version": "~2.1.4",
       "children": [
        "IPY_MODEL_2c6b417cc73a4a708a665e20774b09db",
        "IPY_MODEL_ece03df086fb4f529a2a7120548beb0f"
       ],
       "layout": "IPY_MODEL_2cc4f4e36f8a4804aa539a01b38a5f9b"
      }
     },
     "99995154b2244ebea9c01bdc10a70cec": {
      "model_module": "bqplot",
      "model_module_version": "*",
      "model_name": "LinearScaleModel",
      "state": {
       "stabilized": false
      }
     },
     "9a49dcc90d6b40488e660c8f6b8e8815": {
      "model_module": "jupyter-js-widgets",
      "model_module_version": "~2.1.4",
      "model_name": "LayoutModel",
      "state": {
       "_model_module_version": "~2.1.4",
       "_view_module_version": "~2.1.4"
      }
     },
     "a222d9aadf2746798d6e4a34cb01ee81": {
      "model_module": "jupyter-js-widgets",
      "model_module_version": "~2.1.4",
      "model_name": "SliderStyleModel",
      "state": {
       "_model_module_version": "~2.1.4",
       "_view_module_version": "~2.1.4"
      }
     },
     "a678ce9b492b4d0bac904fd5f2d10bea": {
      "model_module": "jupyter-js-widgets",
      "model_module_version": "~2.1.4",
      "model_name": "VBoxModel",
      "state": {
       "_model_module_version": "~2.1.4",
       "_view_module_version": "~2.1.4",
       "children": [
        "IPY_MODEL_2c6b417cc73a4a708a665e20774b09db",
        "IPY_MODEL_ece03df086fb4f529a2a7120548beb0f"
       ],
       "layout": "IPY_MODEL_1d2a508cca5c4db4a09670c3c17b4dd7"
      }
     },
     "a67ee3e14cbd4e398deb95a335728a50": {
      "model_module": "bqplot",
      "model_module_version": "*",
      "model_name": "LinesModel",
      "state": {
       "color": {
        "type": null,
        "values": null
       },
       "display_legend": false,
       "fill_colors": [],
       "labels": [
        "C1"
       ],
       "scales": {
        "x": "IPY_MODEL_d5616ea3815e44dc8babae8c2bf21a42",
        "y": "IPY_MODEL_ee9ab4b1a19648839203af6f486cc109"
       },
       "selected": [],
       "x": {
        "type": "float",
        "values": [
         0,
         1,
         2
        ]
       },
       "y": {
        "type": "float",
        "values": [
         0,
         1,
         6
        ]
       }
      }
     },
     "a7928f694cd64946a8da584739818617": {
      "model_module": "bqplot",
      "model_module_version": "*",
      "model_name": "AxisModel",
      "state": {
       "orientation": "vertical",
       "scale": "IPY_MODEL_e7aeb688b8984933a5ff8770311103c7",
       "side": "left",
       "tick_values": {
        "type": null,
        "values": null
       }
      }
     },
     "a8a62a0ceecd41df9f0438d6cebb8d23": {
      "model_module": "jupyter-js-widgets",
      "model_module_version": "~2.1.4",
      "model_name": "LayoutModel",
      "state": {
       "_model_module_version": "~2.1.4",
       "_view_module_version": "~2.1.4"
      }
     },
     "a90e280bfa2941b7ad02365712668684": {
      "model_module": "jupyter-js-widgets",
      "model_module_version": "~2.1.4",
      "model_name": "LayoutModel",
      "state": {
       "_model_module_version": "~2.1.4",
       "_view_module_version": "~2.1.4"
      }
     },
     "adcd0d8a92e242c4b60ab69d815ec5de": {
      "model_module": "bqplot",
      "model_module_version": "*",
      "model_name": "LinesModel",
      "state": {
       "color": {
        "type": null,
        "values": null
       },
       "display_legend": false,
       "fill_colors": [],
       "labels": [
        "C1"
       ],
       "scales": {
        "x": "IPY_MODEL_44b957f7bc92473e928f638cf0e40706",
        "y": "IPY_MODEL_6b525c2d8f364274898fc3ed0f7f75f6"
       },
       "selected": [],
       "x": {
        "type": "float",
        "values": [
         0,
         1,
         2
        ]
       },
       "y": {
        "type": "float",
        "values": [
         0,
         1,
         2
        ]
       }
      }
     },
     "af479a9d11884e7d8990135dd1ddb449": {
      "model_module": "bqplot",
      "model_module_version": "*",
      "model_name": "AxisModel",
      "state": {
       "orientation": "vertical",
       "scale": "IPY_MODEL_ee1d0f10dea54ba19d68e6606c0e01f4",
       "side": "left",
       "tick_values": {
        "type": null,
        "values": null
       }
      }
     },
     "afa805482c38414a8040d6c08219838a": {
      "model_module": "jupyter-js-widgets",
      "model_module_version": "~2.1.4",
      "model_name": "LayoutModel",
      "state": {
       "_model_module_version": "~2.1.4",
       "_view_module_version": "~2.1.4"
      }
     },
     "b04ef2a882fc485b8184b15e665dd23c": {
      "model_module": "bqplot",
      "model_module_version": "*",
      "model_name": "LinesModel",
      "state": {
       "color": {
        "type": null,
        "values": null
       },
       "display_legend": false,
       "fill_colors": [],
       "labels": [
        "C1"
       ],
       "scales": {
        "x": "IPY_MODEL_2f1fd0d5b9734425b74dc4cdc4532fd0",
        "y": "IPY_MODEL_10af9ae1de7e4347a76539a999af2048"
       },
       "selected": [],
       "x": {
        "type": "float",
        "values": [
         0,
         1,
         2
        ]
       },
       "y": {
        "type": "float",
        "values": [
         0,
         1,
         7
        ]
       }
      }
     },
     "b4305bf54a59499abcaa125281200d28": {
      "model_module": "jupyter-js-widgets",
      "model_module_version": "~2.1.4",
      "model_name": "LayoutModel",
      "state": {
       "_model_module_version": "~2.1.4",
       "_view_module_version": "~2.1.4"
      }
     },
     "b7772393a9c84b71bf50a22231a6dc87": {
      "model_module": "bqplot",
      "model_module_version": "*",
      "model_name": "LinesModel",
      "state": {
       "color": {
        "type": null,
        "values": null
       },
       "display_legend": false,
       "fill_colors": [],
       "labels": [
        "C1"
       ],
       "scales": {
        "x": "IPY_MODEL_8eaa349dfdb14edaad60a2a06e6cf59a",
        "y": "IPY_MODEL_06a9a60422614555a672f272d023b39b"
       },
       "selected": [],
       "x": {
        "type": "float",
        "values": [
         0,
         1,
         2
        ]
       },
       "y": {
        "type": "float",
        "values": [
         0,
         1,
         7
        ]
       }
      }
     },
     "b7f1c4329076440fb35b5b00c97524d7": {
      "model_module": "jupyter-js-widgets",
      "model_module_version": "~2.1.4",
      "model_name": "SliderStyleModel",
      "state": {
       "_model_module_version": "~2.1.4",
       "_view_module_version": "~2.1.4"
      }
     },
     "b89e638ccc894cf0a142212a83948cc3": {
      "model_module": "jupyter-js-widgets",
      "model_module_version": "~2.1.4",
      "model_name": "LayoutModel",
      "state": {
       "_model_module_version": "~2.1.4",
       "_view_module_version": "~2.1.4"
      }
     },
     "bb77f2a8d9cb4c99b32075c8d6ddd2c0": {
      "model_module": "jupyter-js-widgets",
      "model_module_version": "~2.1.4",
      "model_name": "LayoutModel",
      "state": {
       "_model_module_version": "~2.1.4",
       "_view_module_version": "~2.1.4",
       "min_width": "125px"
      }
     },
     "c198740329f3450b9328a8be1c550ed0": {
      "model_module": "bqplot",
      "model_module_version": "*",
      "model_name": "AxisModel",
      "state": {
       "orientation": "vertical",
       "scale": "IPY_MODEL_10af9ae1de7e4347a76539a999af2048",
       "side": "left",
       "tick_values": {
        "type": null,
        "values": null
       }
      }
     },
     "c57133b0e1d748869b17a3df64b16c6e": {
      "model_module": "jupyter-js-widgets",
      "model_module_version": "~2.1.4",
      "model_name": "LayoutModel",
      "state": {
       "_model_module_version": "~2.1.4",
       "_view_module_version": "~2.1.4"
      }
     },
     "c72caaf74abf47be9bb48f1a05f2a756": {
      "model_module": "bqplot",
      "model_module_version": "*",
      "model_name": "AxisModel",
      "state": {
       "scale": "IPY_MODEL_44b957f7bc92473e928f638cf0e40706",
       "side": "bottom",
       "tick_values": {
        "type": null,
        "values": null
       }
      }
     },
     "cd7462df94ae4bb8982a9ae8c7f6f391": {
      "model_module": "jupyter-js-widgets",
      "model_module_version": "~2.1.4",
      "model_name": "VBoxModel",
      "state": {
       "_model_module_version": "~2.1.4",
       "_view_module_version": "~2.1.4",
       "children": [
        "IPY_MODEL_2c6b417cc73a4a708a665e20774b09db",
        "IPY_MODEL_ece03df086fb4f529a2a7120548beb0f"
       ],
       "layout": "IPY_MODEL_0173b418f2d248d5a5e05d0a59176381"
      }
     },
     "cf5a727cbf714375a2d790ec12a58658": {
      "model_module": "bqplot",
      "model_module_version": "*",
      "model_name": "LinearScaleModel",
      "state": {
       "stabilized": false
      }
     },
     "d3baf6d0b8224a768a3bbe2198b7a5ef": {
      "model_module": "jupyter-js-widgets",
      "model_module_version": "~2.1.4",
      "model_name": "LayoutModel",
      "state": {
       "_model_module_version": "~2.1.4",
       "_view_module_version": "~2.1.4"
      }
     },
     "d5616ea3815e44dc8babae8c2bf21a42": {
      "model_module": "bqplot",
      "model_module_version": "*",
      "model_name": "LinearScaleModel",
      "state": {
       "stabilized": false
      }
     },
     "d88b33c902cd4d75a56188eef7e7d836": {
      "model_module": "jupyter-js-widgets",
      "model_module_version": "~2.1.4",
      "model_name": "VBoxModel",
      "state": {
       "_model_module_version": "~2.1.4",
       "_view_module_version": "~2.1.4",
       "children": [
        "IPY_MODEL_2c6b417cc73a4a708a665e20774b09db",
        "IPY_MODEL_ece03df086fb4f529a2a7120548beb0f"
       ],
       "layout": "IPY_MODEL_afa805482c38414a8040d6c08219838a"
      }
     },
     "db52732007eb4a51b2c5676a167ddd4d": {
      "model_module": "bqplot",
      "model_module_version": "*",
      "model_name": "LinearScaleModel",
      "state": {
       "stabilized": false
      }
     },
     "dd046527dafe4876a0fd53fa5756a78f": {
      "model_module": "jupyter-js-widgets",
      "model_module_version": "~2.1.4",
      "model_name": "VBoxModel",
      "state": {
       "_model_module_version": "~2.1.4",
       "_view_module_version": "~2.1.4",
       "children": [
        "IPY_MODEL_2c6b417cc73a4a708a665e20774b09db",
        "IPY_MODEL_ece03df086fb4f529a2a7120548beb0f"
       ],
       "layout": "IPY_MODEL_e0b49717158c4849beb4c6c8657a82d5"
      }
     },
     "e0b49717158c4849beb4c6c8657a82d5": {
      "model_module": "jupyter-js-widgets",
      "model_module_version": "~2.1.4",
      "model_name": "LayoutModel",
      "state": {
       "_model_module_version": "~2.1.4",
       "_view_module_version": "~2.1.4"
      }
     },
     "e41f72d23f4a4a02bd5abfef48a81772": {
      "model_module": "bqplot",
      "model_module_version": "*",
      "model_name": "AxisModel",
      "state": {
       "orientation": "vertical",
       "scale": "IPY_MODEL_eae1248991aa41f991313ab300612abc",
       "side": "left",
       "tick_values": {
        "type": null,
        "values": null
       }
      }
     },
     "e57dd33697d049d394bf3117f6e4ae4b": {
      "model_module": "jupyter-js-widgets",
      "model_module_version": "~2.1.4",
      "model_name": "VBoxModel",
      "state": {
       "_model_module_version": "~2.1.4",
       "_view_module_version": "~2.1.4",
       "children": [
        "IPY_MODEL_2c6b417cc73a4a708a665e20774b09db",
        "IPY_MODEL_ece03df086fb4f529a2a7120548beb0f"
       ],
       "layout": "IPY_MODEL_b4305bf54a59499abcaa125281200d28"
      }
     },
     "e6aac863aa674c5baaa4c1297ab58887": {
      "model_module": "jupyter-js-widgets",
      "model_module_version": "~2.1.4",
      "model_name": "LayoutModel",
      "state": {
       "_model_module_version": "~2.1.4",
       "_view_module_version": "~2.1.4"
      }
     },
     "e7aeb688b8984933a5ff8770311103c7": {
      "model_module": "bqplot",
      "model_module_version": "*",
      "model_name": "LinearScaleModel",
      "state": {
       "stabilized": false
      }
     },
     "eae1248991aa41f991313ab300612abc": {
      "model_module": "bqplot",
      "model_module_version": "*",
      "model_name": "LinearScaleModel",
      "state": {
       "stabilized": false
      }
     },
     "ece03df086fb4f529a2a7120548beb0f": {
      "model_module": "bqplot",
      "model_module_version": "*",
      "model_name": "ToolbarModel",
      "state": {
       "figure": "IPY_MODEL_2c6b417cc73a4a708a665e20774b09db",
       "layout": "IPY_MODEL_9a49dcc90d6b40488e660c8f6b8e8815"
      }
     },
     "ee1d0f10dea54ba19d68e6606c0e01f4": {
      "model_module": "bqplot",
      "model_module_version": "*",
      "model_name": "LinearScaleModel",
      "state": {
       "stabilized": false
      }
     },
     "ee9ab4b1a19648839203af6f486cc109": {
      "model_module": "bqplot",
      "model_module_version": "*",
      "model_name": "LinearScaleModel",
      "state": {
       "stabilized": false
      }
     },
     "ef66adbb7cc4458db543cdf3f5a1a8b1": {
      "model_module": "jupyter-js-widgets",
      "model_module_version": "~2.1.4",
      "model_name": "LayoutModel",
      "state": {
       "_model_module_version": "~2.1.4",
       "_view_module_version": "~2.1.4"
      }
     },
     "efcdbac808874ee5ba66fa1fd2434a1d": {
      "model_module": "jupyter-js-widgets",
      "model_module_version": "~2.1.4",
      "model_name": "LayoutModel",
      "state": {
       "_model_module_version": "~2.1.4",
       "_view_module_version": "~2.1.4"
      }
     },
     "f1d92398fa044b6bb20bb6f04fe46eb3": {
      "model_module": "bqplot",
      "model_module_version": "*",
      "model_name": "LinesModel",
      "state": {
       "color": {
        "type": null,
        "values": null
       },
       "display_legend": false,
       "fill_colors": [],
       "labels": [
        "C1"
       ],
       "scales": {
        "x": "IPY_MODEL_8eaa349dfdb14edaad60a2a06e6cf59a",
        "y": "IPY_MODEL_06a9a60422614555a672f272d023b39b"
       },
       "selected": [],
       "x": {
        "type": "float",
        "values": [
         0,
         1,
         2
        ]
       },
       "y": {
        "type": "float",
        "values": [
         0,
         1,
         3
        ]
       }
      }
     },
     "fa2107bc65f94b1991be1ade7f261cd8": {
      "model_module": "jupyter-js-widgets",
      "model_module_version": "~2.1.4",
      "model_name": "VBoxModel",
      "state": {
       "_model_module_version": "~2.1.4",
       "_view_module_version": "~2.1.4",
       "children": [
        "IPY_MODEL_2c6b417cc73a4a708a665e20774b09db",
        "IPY_MODEL_ece03df086fb4f529a2a7120548beb0f"
       ],
       "layout": "IPY_MODEL_21cd19489b624fd4ac28edcfbe03169a"
      }
     },
     "fc8807f59c2248dcb28bad8257a713db": {
      "model_module": "jupyter-js-widgets",
      "model_module_version": "~2.1.4",
      "model_name": "IntSliderModel",
      "state": {
       "_model_module_version": "~2.1.4",
       "_view_module_version": "~2.1.4",
       "description": "n",
       "layout": "IPY_MODEL_6fe3186baf9f4c3b9c8d80a1e82482dd",
       "max": 10,
       "style": "IPY_MODEL_6a85d733660c4284ae81517a19c79b98",
       "value": 7
      }
     },
     "fcbd15cd8eea4ecc8f071688ad515637": {
      "model_module": "bqplot",
      "model_module_version": "*",
      "model_name": "AxisModel",
      "state": {
       "scale": "IPY_MODEL_0f5dd0b96edf48d482d806b80f3ada0c",
       "side": "bottom",
       "tick_values": {
        "type": null,
        "values": null
       }
      }
     },
     "fcc8e3ca91144cd7ae55a32a793c3eca": {
      "model_module": "bqplot",
      "model_module_version": "*",
      "model_name": "LinesModel",
      "state": {
       "color": {
        "type": null,
        "values": null
       },
       "display_legend": false,
       "fill_colors": [],
       "labels": [
        "C1"
       ],
       "scales": {
        "x": "IPY_MODEL_8eaa349dfdb14edaad60a2a06e6cf59a",
        "y": "IPY_MODEL_06a9a60422614555a672f272d023b39b"
       },
       "selected": [],
       "x": {
        "type": "float",
        "values": [
         0,
         1,
         2
        ]
       },
       "y": {
        "type": "float",
        "values": [
         0,
         1,
         5
        ]
       }
      }
     },
     "fe240bc583604c3fa54f8188e07f55aa": {
      "model_module": "jupyter-js-widgets",
      "model_module_version": "~2.1.4",
      "model_name": "VBoxModel",
      "state": {
       "_model_module_version": "~2.1.4",
       "_view_module_version": "~2.1.4",
       "children": [
        "IPY_MODEL_2c6b417cc73a4a708a665e20774b09db",
        "IPY_MODEL_ece03df086fb4f529a2a7120548beb0f"
       ],
       "layout": "IPY_MODEL_e6aac863aa674c5baaa4c1297ab58887"
      }
     },
     "fe44732bd49c4a6b8ff3f9d7056c7f82": {
      "model_module": "jupyter-js-widgets",
      "model_module_version": "~2.1.4",
      "model_name": "LayoutModel",
      "state": {
       "_model_module_version": "~2.1.4",
       "_view_module_version": "~2.1.4"
      }
     },
     "fe820f8a60eb4016a84bd712e74dd792": {
      "model_module": "jupyter-js-widgets",
      "model_module_version": "~2.1.4",
      "model_name": "IntSliderModel",
      "state": {
       "_model_module_version": "~2.1.4",
       "_view_module_version": "~2.1.4",
       "description": "n",
       "layout": "IPY_MODEL_a90e280bfa2941b7ad02365712668684",
       "max": 10,
       "style": "IPY_MODEL_b7f1c4329076440fb35b5b00c97524d7",
       "value": 5
      }
     }
    },
    "version_major": 1,
    "version_minor": 0
   }
  }
 },
 "nbformat": 4,
 "nbformat_minor": 2
}
