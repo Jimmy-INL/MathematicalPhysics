{
 "cells": [
  {
   "cell_type": "code",
   "execution_count": null,
   "metadata": {
    "collapsed": true,
    "deletable": true,
    "editable": true
   },
   "outputs": [],
   "source": [
    "import matplotlib.pyplot as plt\n",
    "from ipywidgets import interact\n",
    "\n",
    "def f(n):\n",
    "    plt.plot([0,1,2],[0,1,n])\n",
    "    plt.show()\n",
    "interact(f,n=(0,10))"
   ]
  },
  {
   "cell_type": "code",
   "execution_count": 1,
   "metadata": {
    "collapsed": false,
    "deletable": true,
    "editable": true
   },
   "outputs": [
    {
     "data": {
      "application/vnd.jupyter.widget-view+json": {
       "model_id": "5f49855455764c5c9ed027dab92fbfcf"
      }
     },
     "metadata": {},
     "output_type": "display_data"
    },
    {
     "data": {
      "text/plain": [
       "<function __main__.f>"
      ]
     },
     "execution_count": 1,
     "metadata": {},
     "output_type": "execute_result"
    }
   ],
   "source": [
    "import bqplot.pyplot as plt\n",
    "from ipywidgets import interact\n",
    "\n",
    "def f(n):\n",
    "    plt.clear()\n",
    "    plt.plot([0,1,2],[0,1,n])\n",
    "    plt.show()\n",
    "interact(f,n=(0,10))"
   ]
  },
  {
   "cell_type": "code",
   "execution_count": 2,
   "metadata": {
    "collapsed": false,
    "deletable": true,
    "editable": true
   },
   "outputs": [
    {
     "data": {
      "text/plain": [
       "'6.0.0'"
      ]
     },
     "execution_count": 2,
     "metadata": {},
     "output_type": "execute_result"
    }
   ],
   "source": [
    "import ipywidgets\n",
    "ipywidgets.__version__"
   ]
  },
  {
   "cell_type": "code",
   "execution_count": 3,
   "metadata": {
    "collapsed": false,
    "deletable": true,
    "editable": true
   },
   "outputs": [
    {
     "data": {
      "text/plain": [
       "'0.9.0.b10'"
      ]
     },
     "execution_count": 3,
     "metadata": {},
     "output_type": "execute_result"
    }
   ],
   "source": [
    "import bqplot\n",
    "bqplot.__version__"
   ]
  },
  {
   "cell_type": "code",
   "execution_count": 3,
   "metadata": {
    "collapsed": false,
    "deletable": true,
    "editable": true
   },
   "outputs": [
    {
     "data": {
      "application/vnd.jupyter.widget-view+json": {
       "model_id": "ae557c5b1b1442f898fdbf7c3b479d47"
      }
     },
     "metadata": {},
     "output_type": "display_data"
    }
   ],
   "source": [
    "plt.plot([0,1,2],[0,1,5])\n",
    "plt.show()"
   ]
  },
  {
   "cell_type": "code",
   "execution_count": null,
   "metadata": {
    "collapsed": true,
    "deletable": true,
    "editable": true
   },
   "outputs": [],
   "source": [
    "import numpy as np"
   ]
  },
  {
   "cell_type": "code",
   "execution_count": null,
   "metadata": {
    "collapsed": false,
    "deletable": true,
    "editable": true
   },
   "outputs": [],
   "source": [
    "plt.figure(1, title='Line Chart')\n",
    "np.random.seed(0)\n",
    "n = 200\n",
    "x = np.linspace(0.0, 10.0, n)\n",
    "y = np.cumsum(np.random.randn(n))\n",
    "plt.plot(x, y)\n",
    "plt.show()"
   ]
  },
  {
   "cell_type": "code",
   "execution_count": 2,
   "metadata": {
    "collapsed": false,
    "deletable": true,
    "editable": true
   },
   "outputs": [
    {
     "data": {
      "application/vnd.jupyter.widget-view+json": {
       "model_id": "8952ea602ed54b10a0d70404e6fa026e"
      }
     },
     "metadata": {},
     "output_type": "display_data"
    }
   ],
   "source": [
    "import bqplot\n",
    "\n",
    "from bqplot import pyplot as plt\n",
    "import numpy as np\n",
    "\n",
    "plt.figure(1, title='Line Chart')\n",
    "np.random.seed(0)\n",
    "n = 200\n",
    "x = np.linspace(0.0, 10.0, n)\n",
    "y = np.cumsum(np.random.randn(n))\n",
    "plt.plot(x, y)\n",
    "plt.show()"
   ]
  },
  {
   "cell_type": "code",
   "execution_count": 1,
   "metadata": {
    "collapsed": false,
    "deletable": true,
    "editable": true
   },
   "outputs": [
    {
     "data": {
      "application/vnd.jupyter.widget-view+json": {
       "model_id": "a26eb5e955b048bcb76bcd0557a1cc83"
      }
     },
     "metadata": {},
     "output_type": "display_data"
    },
    {
     "data": {
      "text/plain": [
       "<function __main__.f>"
      ]
     },
     "execution_count": 1,
     "metadata": {},
     "output_type": "execute_result"
    }
   ],
   "source": [
    "import matplotlib.pyplot as plt\n",
    "from ipywidgets import interact\n",
    "%matplotlib inline\n",
    "\n",
    "def f(n):\n",
    "    plt.plot([0,1,2],[0,1,n])\n",
    "    plt.show()\n",
    "interact(f,n=(0,10))"
   ]
  },
  {
   "cell_type": "code",
   "execution_count": null,
   "metadata": {
    "collapsed": true,
    "deletable": true,
    "editable": true
   },
   "outputs": [],
   "source": []
  }
 ],
 "metadata": {
  "kernelspec": {
   "display_name": "Python 3",
   "language": "python",
   "name": "python3"
  },
  "language_info": {
   "codemirror_mode": {
    "name": "ipython",
    "version": 3
   },
   "file_extension": ".py",
   "mimetype": "text/x-python",
   "name": "python",
   "nbconvert_exporter": "python",
   "pygments_lexer": "ipython3",
   "version": "3.6.0"
  },
  "widgets": {
   "application/vnd.jupyter.widget-state+json": {
    "state": {
     "0f3020a420f144989c4e2c9c9c2f2e44": {
      "model_module": "jupyter-js-widgets",
      "model_module_version": "~2.1.4",
      "model_name": "LayoutModel",
      "state": {
       "_model_module_version": "~2.1.4",
       "_view_module_version": "~2.1.4"
      }
     },
     "10001ea4809440c08261cb0376496c3b": {
      "model_module": "bqplot",
      "model_module_version": "*",
      "model_name": "AxisModel",
      "state": {
       "scale": "IPY_MODEL_9086a0960b4a43f3aa6a0285ee0fcafc",
       "side": "bottom",
       "tick_values": {
        "type": null,
        "values": null
       }
      }
     },
     "2370d8091dca4fd1a8f7afc58f661fe3": {
      "model_module": "bqplot",
      "model_module_version": "*",
      "model_name": "ToolbarModel",
      "state": {
       "figure": "IPY_MODEL_da31dcaa9cc3422b8d2ce3924b91f2ca",
       "layout": "IPY_MODEL_ceeb7aae838341bca5a629a5f4dad100"
      }
     },
     "2ac2f5a59b1240f9b26ad56c3694bdbc": {
      "model_module": "bqplot",
      "model_module_version": "*",
      "model_name": "LinesModel",
      "state": {
       "color": {
        "type": null,
        "values": null
       },
       "display_legend": false,
       "fill_colors": [],
       "labels": [
        "C1"
       ],
       "scales": {
        "x": "IPY_MODEL_9086a0960b4a43f3aa6a0285ee0fcafc",
        "y": "IPY_MODEL_f5bd8ccc119f4ac1808dd3fe96ef5dd5"
       },
       "selected": [],
       "x": {
        "type": "float",
        "values": [
         0,
         1,
         2
        ]
       },
       "y": {
        "type": "float",
        "values": [
         0,
         1,
         5
        ]
       }
      }
     },
     "36ca787f158f46358443c4cbeec1329f": {
      "model_module": "jupyter-js-widgets",
      "model_module_version": "~2.1.4",
      "model_name": "LayoutModel",
      "state": {
       "_model_module_version": "~2.1.4",
       "_view_module_version": "~2.1.4",
       "min_width": "125px"
      }
     },
     "4c4f774d1baf4bcc86126a691a240a53": {
      "model_module": "jupyter-js-widgets",
      "model_module_version": "~2.1.4",
      "model_name": "IntSliderModel",
      "state": {
       "_model_module_version": "~2.1.4",
       "_view_module_version": "~2.1.4",
       "description": "n",
       "layout": "IPY_MODEL_0f3020a420f144989c4e2c9c9c2f2e44",
       "max": 10,
       "style": "IPY_MODEL_79545410b33344f68538f0f09c4d69e9",
       "value": 5
      }
     },
     "5f49855455764c5c9ed027dab92fbfcf": {
      "model_module": "jupyter-js-widgets",
      "model_module_version": "~2.1.4",
      "model_name": "VBoxModel",
      "state": {
       "_dom_classes": [
        "widget-interact"
       ],
       "_model_module_version": "~2.1.4",
       "_view_module_version": "~2.1.4",
       "children": [
        "IPY_MODEL_4c4f774d1baf4bcc86126a691a240a53",
        "IPY_MODEL_68de55331f7d41f187704d725c9e6639"
       ],
       "layout": "IPY_MODEL_ab8ffd7ae0ba4021a5d199bf46fe1a9c"
      }
     },
     "64ce1bbbf9964010a019f1a84d3abe45": {
      "model_module": "jupyter-js-widgets",
      "model_module_version": "~2.1.4",
      "model_name": "LayoutModel",
      "state": {
       "_model_module_version": "~2.1.4",
       "_view_module_version": "~2.1.4"
      }
     },
     "68de55331f7d41f187704d725c9e6639": {
      "model_module": "jupyter-js-widgets",
      "model_module_version": "~2.1.4",
      "model_name": "OutputModel",
      "state": {
       "_dom_classes": [],
       "_model_module": "jupyter-js-widgets",
       "_model_module_version": "~2.1.4",
       "_view_module": "jupyter-js-widgets",
       "_view_module_version": "~2.1.4",
       "layout": "IPY_MODEL_6c08b16770be4a5b801d4eabac4384f3",
       "msg_throttle": 1
      }
     },
     "6c08b16770be4a5b801d4eabac4384f3": {
      "model_module": "jupyter-js-widgets",
      "model_module_version": "~2.1.4",
      "model_name": "LayoutModel",
      "state": {
       "_model_module_version": "~2.1.4",
       "_view_module_version": "~2.1.4"
      }
     },
     "79545410b33344f68538f0f09c4d69e9": {
      "model_module": "jupyter-js-widgets",
      "model_module_version": "~2.1.4",
      "model_name": "SliderStyleModel",
      "state": {
       "_model_module_version": "~2.1.4",
       "_view_module_version": "~2.1.4"
      }
     },
     "9086a0960b4a43f3aa6a0285ee0fcafc": {
      "model_module": "bqplot",
      "model_module_version": "*",
      "model_name": "LinearScaleModel",
      "state": {
       "stabilized": false
      }
     },
     "91d4ea39139f4fbab45c742f9f9bc932": {
      "model_module": "jupyter-js-widgets",
      "model_module_version": "~2.1.4",
      "model_name": "VBoxModel",
      "state": {
       "_model_module_version": "~2.1.4",
       "_view_module_version": "~2.1.4",
       "children": [
        "IPY_MODEL_da31dcaa9cc3422b8d2ce3924b91f2ca",
        "IPY_MODEL_2370d8091dca4fd1a8f7afc58f661fe3"
       ],
       "layout": "IPY_MODEL_64ce1bbbf9964010a019f1a84d3abe45"
      }
     },
     "a5d91b717baf48148b1ef32799d1783c": {
      "model_module": "bqplot",
      "model_module_version": "*",
      "model_name": "LinearScaleModel",
      "state": {
       "allow_padding": false,
       "max": 1,
       "min": 0,
       "stabilized": false
      }
     },
     "ab8ffd7ae0ba4021a5d199bf46fe1a9c": {
      "model_module": "jupyter-js-widgets",
      "model_module_version": "~2.1.4",
      "model_name": "LayoutModel",
      "state": {
       "_model_module_version": "~2.1.4",
       "_view_module_version": "~2.1.4"
      }
     },
     "b3130565e5734709aabf85d7b4abd8f6": {
      "model_module": "bqplot",
      "model_module_version": "*",
      "model_name": "LinearScaleModel",
      "state": {
       "allow_padding": false,
       "max": 1,
       "min": 0,
       "stabilized": false
      }
     },
     "ceeb7aae838341bca5a629a5f4dad100": {
      "model_module": "jupyter-js-widgets",
      "model_module_version": "~2.1.4",
      "model_name": "LayoutModel",
      "state": {
       "_model_module_version": "~2.1.4",
       "_view_module_version": "~2.1.4"
      }
     },
     "da31dcaa9cc3422b8d2ce3924b91f2ca": {
      "model_module": "bqplot",
      "model_module_version": "*",
      "model_name": "FigureModel",
      "state": {
       "_dom_classes": [],
       "axes": [
        "IPY_MODEL_10001ea4809440c08261cb0376496c3b",
        "IPY_MODEL_e584cef8fce04633ab07b1124688ce1d"
       ],
       "layout": "IPY_MODEL_36ca787f158f46358443c4cbeec1329f",
       "marks": [
        "IPY_MODEL_2ac2f5a59b1240f9b26ad56c3694bdbc"
       ],
       "max_aspect_ratio": 6,
       "scale_x": "IPY_MODEL_a5d91b717baf48148b1ef32799d1783c",
       "scale_y": "IPY_MODEL_b3130565e5734709aabf85d7b4abd8f6"
      }
     },
     "e584cef8fce04633ab07b1124688ce1d": {
      "model_module": "bqplot",
      "model_module_version": "*",
      "model_name": "AxisModel",
      "state": {
       "orientation": "vertical",
       "scale": "IPY_MODEL_f5bd8ccc119f4ac1808dd3fe96ef5dd5",
       "side": "left",
       "tick_values": {
        "type": null,
        "values": null
       }
      }
     },
     "f5bd8ccc119f4ac1808dd3fe96ef5dd5": {
      "model_module": "bqplot",
      "model_module_version": "*",
      "model_name": "LinearScaleModel",
      "state": {
       "stabilized": false
      }
     }
    },
    "version_major": 1,
    "version_minor": 0
   }
  }
 },
 "nbformat": 4,
 "nbformat_minor": 2
}
