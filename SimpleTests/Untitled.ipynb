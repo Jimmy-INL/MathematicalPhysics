{
 "cells": [
  {
   "cell_type": "code",
   "execution_count": 1,
   "metadata": {
    "collapsed": false
   },
   "outputs": [
    {
     "data": {
      "application/vnd.jupyter.widget-view+json": {
       "model_id": "0397ae747e78479abd9f6f24d7bee929"
      }
     },
     "metadata": {},
     "output_type": "display_data"
    },
    {
     "data": {
      "text/plain": [
       "<function __main__.f>"
      ]
     },
     "execution_count": 1,
     "metadata": {},
     "output_type": "execute_result"
    }
   ],
   "source": [
    "import ipywidgets\n",
    "import bqplot\n",
    "\n",
    "import bqplot.pyplot as plt\n",
    "from ipywidgets import interact\n",
    "\n",
    "def f(n):\n",
    "    plt.clear()\n",
    "    plt.plot([0,1,2],[0,1,n])\n",
    "    plt.show()\n",
    "interact(f,n=(0,10))"
   ]
  },
  {
   "cell_type": "code",
   "execution_count": 2,
   "metadata": {
    "collapsed": false
   },
   "outputs": [
    {
     "data": {
      "text/plain": [
       "'6.0.0'"
      ]
     },
     "execution_count": 2,
     "metadata": {},
     "output_type": "execute_result"
    }
   ],
   "source": [
    "ipywidgets.__version__"
   ]
  },
  {
   "cell_type": "code",
   "execution_count": 3,
   "metadata": {
    "collapsed": false
   },
   "outputs": [
    {
     "data": {
      "text/plain": [
       "'0.9.0.b10'"
      ]
     },
     "execution_count": 3,
     "metadata": {},
     "output_type": "execute_result"
    }
   ],
   "source": [
    "bqplot.__version__"
   ]
  },
  {
   "cell_type": "code",
   "execution_count": null,
   "metadata": {
    "collapsed": true
   },
   "outputs": [],
   "source": []
  }
 ],
 "metadata": {
  "kernelspec": {
   "display_name": "Python 3",
   "language": "python",
   "name": "python3"
  },
  "language_info": {
   "codemirror_mode": {
    "name": "ipython",
    "version": 3
   },
   "file_extension": ".py",
   "mimetype": "text/x-python",
   "name": "python",
   "nbconvert_exporter": "python",
   "pygments_lexer": "ipython3",
   "version": "3.6.0"
  },
  "widgets": {
   "application/vnd.jupyter.widget-state+json": {
    "state": {
     "0397ae747e78479abd9f6f24d7bee929": {
      "model_module": "jupyter-js-widgets",
      "model_module_version": "~2.1.4",
      "model_name": "VBoxModel",
      "state": {
       "_dom_classes": [
        "widget-interact"
       ],
       "_model_module_version": "~2.1.4",
       "_view_module_version": "~2.1.4",
       "children": [
        "IPY_MODEL_afa82d4b6516432eb229f65ffcad8393",
        "IPY_MODEL_dbdecabdcd5942bfae19fbaf48bfea8f"
       ],
       "layout": "IPY_MODEL_9aa25a8dda944670872bc7649ecdce3e"
      }
     },
     "0631ca35f0914e62a590443f81ec509d": {
      "model_module": "bqplot",
      "model_module_version": "*",
      "model_name": "LinearScaleModel",
      "state": {
       "stabilized": false
      }
     },
     "1073341428ab4e4c81f5e91f0fe4e77b": {
      "model_module": "bqplot",
      "model_module_version": "*",
      "model_name": "AxisModel",
      "state": {
       "orientation": "vertical",
       "scale": "IPY_MODEL_96c187fd37f744b2a489eaf37fe37e92",
       "side": "left",
       "tick_values": {
        "type": null,
        "values": null
       }
      }
     },
     "14d4464c7d99458f86b902fbb1acfcc4": {
      "model_module": "jupyter-js-widgets",
      "model_module_version": "~2.1.4",
      "model_name": "LayoutModel",
      "state": {
       "_model_module_version": "~2.1.4",
       "_view_module_version": "~2.1.4"
      }
     },
     "3aae94a81c4240ee86abc573526e7695": {
      "model_module": "bqplot",
      "model_module_version": "*",
      "model_name": "LinesModel",
      "state": {
       "color": {
        "type": null,
        "values": null
       },
       "display_legend": false,
       "fill_colors": [],
       "labels": [
        "C1"
       ],
       "scales": {
        "x": "IPY_MODEL_0631ca35f0914e62a590443f81ec509d",
        "y": "IPY_MODEL_96c187fd37f744b2a489eaf37fe37e92"
       },
       "selected": [],
       "x": {
        "type": "float",
        "values": [
         0,
         1,
         2
        ]
       },
       "y": {
        "type": "float",
        "values": [
         0,
         1,
         5
        ]
       }
      }
     },
     "6df7614b17ab4365b11d77cf6b832716": {
      "model_module": "jupyter-js-widgets",
      "model_module_version": "~2.1.4",
      "model_name": "SliderStyleModel",
      "state": {
       "_model_module_version": "~2.1.4",
       "_view_module_version": "~2.1.4"
      }
     },
     "724771e8fe7245f4a6f9b4fdbc97143d": {
      "model_module": "bqplot",
      "model_module_version": "*",
      "model_name": "ToolbarModel",
      "state": {
       "figure": "IPY_MODEL_e7222ffcdbd44947823469f25147a7d6",
       "layout": "IPY_MODEL_14d4464c7d99458f86b902fbb1acfcc4"
      }
     },
     "73d12a3b08d64bf981fbc2cc3545b800": {
      "model_module": "bqplot",
      "model_module_version": "*",
      "model_name": "AxisModel",
      "state": {
       "scale": "IPY_MODEL_0631ca35f0914e62a590443f81ec509d",
       "side": "bottom",
       "tick_values": {
        "type": null,
        "values": null
       }
      }
     },
     "8fae8c08520f4bd0a2f1238eff76c5dd": {
      "model_module": "jupyter-js-widgets",
      "model_module_version": "~2.1.4",
      "model_name": "LayoutModel",
      "state": {
       "_model_module_version": "~2.1.4",
       "_view_module_version": "~2.1.4"
      }
     },
     "96c187fd37f744b2a489eaf37fe37e92": {
      "model_module": "bqplot",
      "model_module_version": "*",
      "model_name": "LinearScaleModel",
      "state": {
       "stabilized": false
      }
     },
     "973733bf9b1442cbb71b3b5f0f83bca7": {
      "model_module": "jupyter-js-widgets",
      "model_module_version": "~2.1.4",
      "model_name": "LayoutModel",
      "state": {
       "_model_module_version": "~2.1.4",
       "_view_module_version": "~2.1.4"
      }
     },
     "974d3ccf9fd541ac952eab5bb1fc491d": {
      "model_module": "jupyter-js-widgets",
      "model_module_version": "~2.1.4",
      "model_name": "VBoxModel",
      "state": {
       "_model_module_version": "~2.1.4",
       "_view_module_version": "~2.1.4",
       "children": [
        "IPY_MODEL_e7222ffcdbd44947823469f25147a7d6",
        "IPY_MODEL_724771e8fe7245f4a6f9b4fdbc97143d"
       ],
       "layout": "IPY_MODEL_8fae8c08520f4bd0a2f1238eff76c5dd"
      }
     },
     "9aa25a8dda944670872bc7649ecdce3e": {
      "model_module": "jupyter-js-widgets",
      "model_module_version": "~2.1.4",
      "model_name": "LayoutModel",
      "state": {
       "_model_module_version": "~2.1.4",
       "_view_module_version": "~2.1.4"
      }
     },
     "a6d19a0a6cae45f8b3e49756411148da": {
      "model_module": "bqplot",
      "model_module_version": "*",
      "model_name": "LinearScaleModel",
      "state": {
       "allow_padding": false,
       "max": 1,
       "min": 0,
       "stabilized": false
      }
     },
     "afa82d4b6516432eb229f65ffcad8393": {
      "model_module": "jupyter-js-widgets",
      "model_module_version": "~2.1.4",
      "model_name": "IntSliderModel",
      "state": {
       "_model_module_version": "~2.1.4",
       "_view_module_version": "~2.1.4",
       "description": "n",
       "layout": "IPY_MODEL_b1e7d496682f4aab9c10ddea336cca6b",
       "max": 10,
       "style": "IPY_MODEL_6df7614b17ab4365b11d77cf6b832716",
       "value": 5
      }
     },
     "b1e7d496682f4aab9c10ddea336cca6b": {
      "model_module": "jupyter-js-widgets",
      "model_module_version": "~2.1.4",
      "model_name": "LayoutModel",
      "state": {
       "_model_module_version": "~2.1.4",
       "_view_module_version": "~2.1.4"
      }
     },
     "b9424263441f4300811785b9b9c5ddcc": {
      "model_module": "bqplot",
      "model_module_version": "*",
      "model_name": "LinearScaleModel",
      "state": {
       "allow_padding": false,
       "max": 1,
       "min": 0,
       "stabilized": false
      }
     },
     "c61c028d665f4fbd90c3123db6f62bff": {
      "model_module": "jupyter-js-widgets",
      "model_module_version": "~2.1.4",
      "model_name": "LayoutModel",
      "state": {
       "_model_module_version": "~2.1.4",
       "_view_module_version": "~2.1.4",
       "min_width": "125px"
      }
     },
     "dbdecabdcd5942bfae19fbaf48bfea8f": {
      "model_module": "jupyter-js-widgets",
      "model_module_version": "~2.1.4",
      "model_name": "OutputModel",
      "state": {
       "_dom_classes": [],
       "_model_module": "jupyter-js-widgets",
       "_model_module_version": "~2.1.4",
       "_view_module": "jupyter-js-widgets",
       "_view_module_version": "~2.1.4",
       "layout": "IPY_MODEL_973733bf9b1442cbb71b3b5f0f83bca7",
       "msg_throttle": 1
      }
     },
     "e7222ffcdbd44947823469f25147a7d6": {
      "model_module": "bqplot",
      "model_module_version": "*",
      "model_name": "FigureModel",
      "state": {
       "_dom_classes": [],
       "axes": [
        "IPY_MODEL_73d12a3b08d64bf981fbc2cc3545b800",
        "IPY_MODEL_1073341428ab4e4c81f5e91f0fe4e77b"
       ],
       "layout": "IPY_MODEL_c61c028d665f4fbd90c3123db6f62bff",
       "marks": [
        "IPY_MODEL_3aae94a81c4240ee86abc573526e7695"
       ],
       "max_aspect_ratio": 6,
       "scale_x": "IPY_MODEL_b9424263441f4300811785b9b9c5ddcc",
       "scale_y": "IPY_MODEL_a6d19a0a6cae45f8b3e49756411148da"
      }
     }
    },
    "version_major": 1,
    "version_minor": 0
   }
  }
 },
 "nbformat": 4,
 "nbformat_minor": 2
}
