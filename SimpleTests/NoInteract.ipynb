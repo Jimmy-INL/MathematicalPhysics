{
 "cells": [
  {
   "cell_type": "code",
   "execution_count": 1,
   "metadata": {
    "collapsed": false
   },
   "outputs": [
    {
     "name": "stdout",
     "output_type": "stream",
     "text": [
      "6.0.0\n",
      "0.9.0\n"
     ]
    },
    {
     "data": {
      "application/vnd.jupyter.widget-view+json": {
       "model_id": "2d460b6480ce496789311b02e37bf7a0"
      }
     },
     "metadata": {},
     "output_type": "display_data"
    },
    {
     "data": {
      "application/vnd.jupyter.widget-view+json": {
       "model_id": "238d149ec9c74ab2923fab3f4dd075e8"
      }
     },
     "metadata": {},
     "output_type": "display_data"
    }
   ],
   "source": [
    "import ipywidgets\n",
    "import bqplot\n",
    "import numpy as np\n",
    "\n",
    "import bqplot.pyplot as plt\n",
    "from ipywidgets import FloatSlider\n",
    "print(ipywidgets.__version__)\n",
    "print(bqplot.__version__)\n",
    "\n",
    "fig = plt.figure()\n",
    "line = plt.plot([1, 2,3], [1, 2, 3])\n",
    "plt.show()\n",
    "n = FloatSlider()\n",
    "\n",
    "def changed(change):\n",
    "    line.y = np.arange(1, 4)**n.value\n",
    "\n",
    "n.observe(changed, 'value')\n",
    "n"
   ]
  },
  {
   "cell_type": "code",
   "execution_count": null,
   "metadata": {
    "collapsed": true
   },
   "outputs": [],
   "source": []
  }
 ],
 "metadata": {
  "kernelspec": {
   "display_name": "Python 3",
   "language": "python",
   "name": "python3"
  },
  "language_info": {
   "codemirror_mode": {
    "name": "ipython",
    "version": 3
   },
   "file_extension": ".py",
   "mimetype": "text/x-python",
   "name": "python",
   "nbconvert_exporter": "python",
   "pygments_lexer": "ipython3",
   "version": "3.6.1"
  },
  "widgets": {
   "application/vnd.jupyter.widget-state+json": {
    "state": {
     "08a2cb578d4249238736cbc65a0abb5c": {
      "model_module": "jupyter-js-widgets",
      "model_module_version": "~2.1.4",
      "model_name": "LayoutModel",
      "state": {
       "_model_module_version": "~2.1.4",
       "_view_module_version": "~2.1.4",
       "min_width": "125px"
      }
     },
     "14c354f637d1475e9288aebdbf8fd8ff": {
      "model_module": "bqplot",
      "model_module_version": "^0.2.3",
      "model_name": "ToolbarModel",
      "state": {
       "figure": "IPY_MODEL_9953715b823241d295f569be6f7a2eda",
       "layout": "IPY_MODEL_24fa65900a2a4bcfbdcb3aa123a1d366"
      }
     },
     "238d149ec9c74ab2923fab3f4dd075e8": {
      "model_module": "jupyter-js-widgets",
      "model_module_version": "~2.1.4",
      "model_name": "FloatSliderModel",
      "state": {
       "_model_module_version": "~2.1.4",
       "_view_module_version": "~2.1.4",
       "layout": "IPY_MODEL_db758a79a70b4b3ba4709cf1ad41518a",
       "step": 0.1,
       "value": 2.4
      }
     },
     "24fa65900a2a4bcfbdcb3aa123a1d366": {
      "model_module": "jupyter-js-widgets",
      "model_module_version": "~2.1.4",
      "model_name": "LayoutModel",
      "state": {
       "_model_module_version": "~2.1.4",
       "_view_module_version": "~2.1.4"
      }
     },
     "260e5317335844458226459eaca33293": {
      "model_module": "jupyter-js-widgets",
      "model_module_version": "~2.1.4",
      "model_name": "LayoutModel",
      "state": {
       "_model_module_version": "~2.1.4",
       "_view_module_version": "~2.1.4"
      }
     },
     "2d460b6480ce496789311b02e37bf7a0": {
      "model_module": "jupyter-js-widgets",
      "model_module_version": "~2.1.4",
      "model_name": "VBoxModel",
      "state": {
       "_model_module_version": "~2.1.4",
       "_view_module_version": "~2.1.4",
       "children": [
        "IPY_MODEL_9953715b823241d295f569be6f7a2eda",
        "IPY_MODEL_14c354f637d1475e9288aebdbf8fd8ff"
       ],
       "layout": "IPY_MODEL_260e5317335844458226459eaca33293"
      }
     },
     "3e8517e6268d4a0bbf75c78062ee56f9": {
      "model_module": "bqplot",
      "model_module_version": "^0.2.3",
      "model_name": "LinearScaleModel",
      "state": {
       "allow_padding": false,
       "max": 1,
       "min": 0,
       "stabilized": false
      }
     },
     "43a98a00b9d64d019b6b282e6a638024": {
      "model_module": "bqplot",
      "model_module_version": "^0.2.3",
      "model_name": "AxisModel",
      "state": {
       "orientation": "vertical",
       "scale": "IPY_MODEL_89ac09100208495d83e2861b89ab0fcb",
       "side": "left",
       "tick_values": {
        "type": null,
        "values": null
       }
      }
     },
     "44689a0ffc904a2e8766e58e4193a9ea": {
      "model_module": "bqplot",
      "model_module_version": "^0.2.3",
      "model_name": "AxisModel",
      "state": {
       "scale": "IPY_MODEL_5edb697077954e3e957a83de8fcae22a",
       "side": "bottom",
       "tick_values": {
        "type": null,
        "values": null
       }
      }
     },
     "48a2f0f00ef54d78b5cfd0b1274fc653": {
      "model_module": "bqplot",
      "model_module_version": "^0.2.3",
      "model_name": "LinearScaleModel",
      "state": {
       "allow_padding": false,
       "max": 1,
       "min": 0,
       "stabilized": false
      }
     },
     "5edb697077954e3e957a83de8fcae22a": {
      "model_module": "bqplot",
      "model_module_version": "^0.2.3",
      "model_name": "LinearScaleModel",
      "state": {
       "stabilized": false
      }
     },
     "89ac09100208495d83e2861b89ab0fcb": {
      "model_module": "bqplot",
      "model_module_version": "^0.2.3",
      "model_name": "LinearScaleModel",
      "state": {
       "stabilized": false
      }
     },
     "9775a3793a124a138f599909f09786d5": {
      "model_module": "bqplot",
      "model_module_version": "^0.2.3",
      "model_name": "LinesModel",
      "state": {
       "color": {
        "type": null,
        "values": null
       },
       "display_legend": false,
       "fill_colors": [],
       "labels": [
        "C1"
       ],
       "scales": {
        "x": "IPY_MODEL_5edb697077954e3e957a83de8fcae22a",
        "y": "IPY_MODEL_89ac09100208495d83e2861b89ab0fcb"
       },
       "selected": [],
       "x": {
        "type": "float",
        "values": [
         1,
         2,
         3
        ]
       },
       "y": {
        "type": "float",
        "values": [
         1,
         5.278031643091577,
         13.966610165238235
        ]
       }
      }
     },
     "9953715b823241d295f569be6f7a2eda": {
      "model_module": "bqplot",
      "model_module_version": "^0.2.3",
      "model_name": "FigureModel",
      "state": {
       "_dom_classes": [],
       "axes": [
        "IPY_MODEL_44689a0ffc904a2e8766e58e4193a9ea",
        "IPY_MODEL_43a98a00b9d64d019b6b282e6a638024"
       ],
       "layout": "IPY_MODEL_08a2cb578d4249238736cbc65a0abb5c",
       "marks": [
        "IPY_MODEL_9775a3793a124a138f599909f09786d5"
       ],
       "max_aspect_ratio": 6,
       "scale_x": "IPY_MODEL_48a2f0f00ef54d78b5cfd0b1274fc653",
       "scale_y": "IPY_MODEL_3e8517e6268d4a0bbf75c78062ee56f9"
      }
     },
     "db758a79a70b4b3ba4709cf1ad41518a": {
      "model_module": "jupyter-js-widgets",
      "model_module_version": "~2.1.4",
      "model_name": "LayoutModel",
      "state": {
       "_model_module_version": "~2.1.4",
       "_view_module_version": "~2.1.4"
      }
     }
    },
    "version_major": 1,
    "version_minor": 0
   }
  }
 },
 "nbformat": 4,
 "nbformat_minor": 2
}
