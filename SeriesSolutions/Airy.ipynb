{
 "cells": [
  {
   "cell_type": "code",
   "execution_count": 1,
   "metadata": {
    "collapsed": false
   },
   "outputs": [
    {
     "name": "stderr",
     "output_type": "stream",
     "text": [
      "/Users/mglerner/anaconda/envs/py3/lib/python3.5/site-packages/matplotlib/__init__.py:872: UserWarning: axes.color_cycle is deprecated and replaced with axes.prop_cycle; please use the latter.\n",
      "  warnings.warn(self.msg_depr % (key, alt_key))\n"
     ]
    }
   ],
   "source": [
    "import numpy as np, scipy as sp, pandas as pd, seaborn as sns\n",
    "import matplotlib.pyplot as plt\n",
    "%matplotlib inline\n",
    "sns.set_style('darkgrid')"
   ]
  },
  {
   "cell_type": "code",
   "execution_count": 2,
   "metadata": {
    "collapsed": false
   },
   "outputs": [],
   "source": [
    "y1_coeffs = [1, 0, 0,\n",
    "             1/(2*3), 0, 0,\n",
    "             1/(2*3*5*6), 0, 0,\n",
    "             1/(2*3*5*6*8*9), 0, 0,\n",
    "             ]\n",
    "y2_coeffs = [0, 1/(3*4), 0,\n",
    "             0, 1/(3*4*6*7), 0,\n",
    "             0, 1/(3*4*6*7*9*10), 0]\n",
    "\n",
    "def get_y1_coeffs(n):\n",
    "    result = [1,]\n",
    "    for i in range(1,n):\n",
    "        if divmod(i,3)[1] == 0:\n",
    "            denom = 1\n",
    "            for j in range(1,i+1):\n",
    "                if divmod(j-1,3)[1] == 0:\n",
    "                    pass\n",
    "                else:\n",
    "                    denom = denom * j\n",
    "            result.append(1/denom)\n",
    "        else:\n",
    "            result.append(0)\n",
    "    return result"
   ]
  },
  {
   "cell_type": "code",
   "execution_count": 4,
   "metadata": {
    "collapsed": false
   },
   "outputs": [],
   "source": [
    "from ipywidgets import interact"
   ]
  },
  {
   "cell_type": "code",
   "execution_count": 38,
   "metadata": {
    "collapsed": false
   },
   "outputs": [
    {
     "data": {
      "image/png": "[encoded data removed]",
      "text/plain": [
       "<matplotlib.figure.Figure at 0x10c22b0b8>"
      ]
     },
     "metadata": {},
     "output_type": "display_data"
    }
   ],
   "source": [
    "def plot_airy1(n=100):\n",
    "    a0 = 1\n",
    "    x = np.linspace(-12,5,10000)\n",
    "    y = np.zeros_like(x)\n",
    "    for i,coeff in enumerate(get_y1_coeffs(n)):\n",
    "        y = y + (x**i)*coeff\n",
    "    plt.plot(x,y,'k--',label=\"First {n} terms\".format(n=n))\n",
    "    #plt.plot(x,sp.special.airy(x)[2]+sp.special.airy(x)[3],label=\"full solution (ish)\")\n",
    "    #plt.plot(x,sp.special.airy(x)[0],label='0')\n",
    "    #plt.plot(x,sp.special.airy(x)[1],label='1')\n",
    "    #plt.plot(x,sp.special.airy(x)[2],label='2')\n",
    "    #plt.plot(x,sp.special.airy(x)[3],label='3')\n",
    "    plt.axis([-12,5,-3,3])\n",
    "    \n",
    "    plt.legend()\n",
    "\n",
    "interact(plot_airy1,n=(0,100))"
   ]
  },
  {
   "cell_type": "code",
   "execution_count": null,
   "metadata": {
    "collapsed": false
   },
   "outputs": [],
   "source": []
  }
 ],
 "metadata": {
  "kernelspec": {
   "display_name": "Python 3",
   "language": "python",
   "name": "python3"
  },
  "language_info": {
   "codemirror_mode": {
    "name": "ipython",
    "version": 3
   },
   "file_extension": ".py",
   "mimetype": "text/x-python",
   "name": "python",
   "nbconvert_exporter": "python",
   "pygments_lexer": "ipython3",
   "version": "3.5.1"
  }
 },
 "nbformat": 4,
 "nbformat_minor": 0
}
