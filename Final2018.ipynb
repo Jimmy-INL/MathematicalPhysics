{
 "cells": [
  {
   "cell_type": "markdown",
   "metadata": {},
   "source": [
    "# This is the Jupyter/IPython notebook you will complete for the final exam\n",
    "\n",
    "**Please remember that this is an open-book, open-notes (but not open-internet or open-homework!) exam. So, that means you can look at the Jupyter/IPython notebooks we developed in class. Those are online, and linked on the Moodle page. You can also find them [here](https://github.com/mglerner/MathematicalPhysics/tree/master/InClassNotebooks)**\n",
    "\n",
    "First things first, our standard imports:"
   ]
  },
  {
   "cell_type": "code",
   "execution_count": null,
   "metadata": {},
   "outputs": [],
   "source": [
    "import numpy as np, scipy as sp, seaborn as sns\n",
    "%matplotlib inline\n",
    "from matplotlib import pyplot as plt\n",
    "from ipywidgets import interact, fixed"
   ]
  },
  {
   "cell_type": "markdown",
   "metadata": {},
   "source": [
    "Now, for the first problem, let's make sure we know what we're plotting. The initial conditions tell us that we have perfume from $0<x<l/2$. I'll pick $l=10$ but you can change it if you'd like."
   ]
  },
  {
   "cell_type": "code",
   "execution_count": null,
   "metadata": {},
   "outputs": [],
   "source": [
    "ell = 10\n",
    "x = np.linspace(0,ell,1000)\n",
    "y = np.zeros_like(x)\n",
    "y[x<ell/2] = 20\n",
    "\n",
    "y_exact = y\n",
    "\n",
    "plt.plot(x,y)"
   ]
  },
  {
   "cell_type": "markdown",
   "metadata": {},
   "source": [
    "Now it's time to plot the Fourier series you got. It's possible that you'll have different answers for even and odd terms."
   ]
  },
  {
   "cell_type": "code",
   "execution_count": null,
   "metadata": {},
   "outputs": [],
   "source": [
    "def isodd(n):\n",
    "    return divmod(n,2)[1] == 1\n",
    "def iseven(n):\n",
    "    return divmod(n,2)[1] == 0\n",
    "for i in range(10):\n",
    "    print(i,isodd(i),iseven(i))"
   ]
  },
  {
   "cell_type": "markdown",
   "metadata": {},
   "source": [
    "## And you get your choice as to whether you're going to solve for the $a_n$'s and $b_n$'s or the $c_n$'s. So, you just need to do it one of those ways!\n",
    "\n",
    "Here are some formulas you may end up finding useful:\n",
    "\n",
    "If you want a series that goes like $1,-1,1,-1,1,-1$, you want\n",
    "\n",
    "```python\n",
    "((-1)**(n+1))\n",
    "```\n",
    "\n",
    "If you want a series that goes like that for the odd terms, but is 0 for the even terms, you want\n",
    "\n",
    "```python\n",
    "((-1)**((n-1)/2))\n",
    "```\n",
    "for the odd terms, and zero for the even terms.\n",
    "\n",
    "If you want a series like that for for the even terms, but zero for the odd terms, you want\n",
    "\n",
    "```python\n",
    "((-1)**((n)/2))\n",
    "```\n",
    "\n",
    "for the even terms and zero for the odd terms.\n",
    "\n",
    "And ... if all of this just leads to tons of confusion, you can earn almost full credit for just defining the first several terms explicitly. Instead of the generic `a(n)` and `b(n)` below, if you knew that the first few $a_n$ terms were $1,-1,1/2,-1/3$ (they aren't), you could define `a(n)` as below, which would just do those:\n",
    "\n",
    "```python\n",
    "def a(n):\n",
    "    if n == 0:\n",
    "        return 1\n",
    "    elif n == 1:\n",
    "        return -1\n",
    "    elif n == 2:\n",
    "        return 1/2\n",
    "    elif n == 3:\n",
    "        return -1/3\n",
    "    else:\n",
    "        return 0\n",
    "```\n",
    "\n",
    "\n",
    "## Solving for the $a_n$'s and $b_n$'s\n",
    "\n",
    "* I've put in values for all of the possibilities (even and odd $a_n$ and $b_n$) ... you may want to set several of those to zero)\n",
    "* If you want to change the limits of the plot, use the `plt.ylim` line at the bottom"
   ]
  },
  {
   "cell_type": "code",
   "execution_count": null,
   "metadata": {},
   "outputs": [],
   "source": [
    "def a(n):\n",
    "    if n == 0:\n",
    "        return 2\n",
    "    elif isodd(n):\n",
    "        return 10*(-1)**((n-1)/2)/n\n",
    "    elif iseven(n):\n",
    "        return 10*(-1)**((n)/2)/n\n",
    "def b(n):\n",
    "    if isodd(n):\n",
    "        return 1/n\n",
    "    elif iseven(n):\n",
    "        return 1/n**2\n",
    "def plotseries(N=0):\n",
    "    y = np.zeros_like(x)\n",
    "    for n in range(0,N+1):\n",
    "        if n == 0:\n",
    "            this_term = (1/2)*a(0)\n",
    "        else:\n",
    "            this_term =  a(n)*np.cos(n*np.pi*x/ell)\n",
    "            this_term += b(n)*np.sin(n*np.pi*x/ell)\n",
    "        y = y + this_term\n",
    "    plt.plot(x,y,label=f'Series for the first {N} terms')\n",
    "    plt.plot(x,y_exact,'k--',label='Exact solution')\n",
    "    plt.ylim(-25,25)\n",
    "    plt.legend()\n",
    "interact(plotseries,N=(0,50))"
   ]
  },
  {
   "cell_type": "markdown",
   "metadata": {},
   "source": [
    "## Solving for the $c_n$'s\n",
    "\n",
    "If you want to solve using the $c_n$'s, look at the above comments for hints on how to get the combinations of 1,-1,1,-1, etc. that you're looking for ... or for how to write code if you've just figured out the first several terms on paper.\n",
    "\n",
    "As with the $a_n$'s and $b_n$'s above, please note that \n",
    "\n",
    "* I've put in values for all of the possibilities (even and odd) ... you may want to set some of those to zero)\n",
    "* If you want to change the limits of the plot, use the `plt.ylim` line at the bottom"
   ]
  },
  {
   "cell_type": "code",
   "execution_count": null,
   "metadata": {},
   "outputs": [],
   "source": [
    "def c(n):\n",
    "    if n == 0:\n",
    "        return 10\n",
    "    elif isodd(n):\n",
    "        return 5*(-1)/(1j *n*np.pi)\n",
    "    elif iseven(n):\n",
    "        return 5*(-1)/(1j *n*np.pi)\n",
    "\n",
    "def plotseries(N=0):\n",
    "    y = np.zeros_like(x)\n",
    "    for n in range(0,N+1):\n",
    "        if n == 0:\n",
    "            this_term = c(0) + np.zeros_like(x)\n",
    "        else:\n",
    "            this_term  = c( n)*np.exp(1j *  n * np.pi * x / (.5*ell))\n",
    "            this_term += c(-n)*np.exp(1j *(-n)* np.pi * x / (.5*ell))\n",
    "            this_term = np.real(this_term)\n",
    "        y += this_term\n",
    "\n",
    "    plt.plot(x,y,label=f'Series for the first {N} terms')\n",
    "    plt.plot(x,y_exact,'k--',label='Exact solution')\n",
    "    plt.ylim(-25,25)\n",
    "    plt.legend()\n",
    "interact(plotseries,N=(0,50))"
   ]
  },
  {
   "cell_type": "markdown",
   "metadata": {},
   "source": [
    "## The time-evolution\n",
    "\n",
    "This part is extra credit. You'll want to copy and paste your solution from above, and then modify all of the `this_term =` or `this_term +=` terms. This time, in addition to the spatial part you have above, you'll want to multiply by whatever your solution for $T(t)$ turns out to be. Again, don't forget that you can get significant partial credit by drawing pictures and describing what you expect teh result to be."
   ]
  },
  {
   "cell_type": "code",
   "execution_count": null,
   "metadata": {},
   "outputs": [],
   "source": []
  }
 ],
 "metadata": {
  "kernelspec": {
   "display_name": "Python 3",
   "language": "python",
   "name": "python3"
  },
  "language_info": {
   "codemirror_mode": {
    "name": "ipython",
    "version": 3
   },
   "file_extension": ".py",
   "mimetype": "text/x-python",
   "name": "python",
   "nbconvert_exporter": "python",
   "pygments_lexer": "ipython3",
   "version": "3.6.4"
  }
 },
 "nbformat": 4,
 "nbformat_minor": 2
}
