{
 "metadata": {
  "name": "",
  "signature": "sha256:0346b9d10bc166e49a3b5781599bab7ee1566a9ae59e7b3efcf19e9ac18c5f75"
 },
 "nbformat": 3,
 "nbformat_minor": 0,
 "worksheets": [
  {
   "cells": [
    {
     "cell_type": "markdown",
     "metadata": {},
     "source": [
      "#Numerically solving Laplace's equation\n",
      "\n",
      "## Set up and solve once\n",
      "\n",
      "We discussed in class the idea that the Laplacian ($\\nabla^2$) is often referred to as \"the averaging operator.\"[1] We'll put that idea into practice to solve Laplace's equation numerically. We'll do this to solve Laplace's equation ($\\nabla^2u=0$) in 2D. We'll do a few things in the code, but the heart of the idea is that we'll divide our system up into a grid, specify the temperature on the boundaries, and then iteratively set each internal point to the average of the surrounding points.\n",
      "\n",
      "I'll use `imshow` in the main code, but [ipython blocks](https://github.com/jiffyclub/ipythonblocks) makes for nice pretty pictures as a setup.\n",
      "\n",
      "[1]There are two quick ways to see this. The first is to take the limit definition of the 2nd derivative (noting that you're specifically applying it to functions where limits commute). The second is to take a Taylor expansions and add them together."
     ]
    },
    {
     "cell_type": "code",
     "collapsed": false,
     "input": [
      "%matplotlib inline\n",
      "from ipythonblocks import BlockGrid\n",
      "import numpy as np, matplotlib.pyplot as plt\n",
      "from __future__ import division"
     ],
     "language": "python",
     "metadata": {},
     "outputs": []
    },
    {
     "cell_type": "markdown",
     "metadata": {},
     "source": [
      "Let's start with a 20x20 grid"
     ]
    },
    {
     "cell_type": "code",
     "collapsed": false,
     "input": [
      "grid = BlockGrid(20,20)\n",
      "grid"
     ],
     "language": "python",
     "metadata": {},
     "outputs": []
    },
    {
     "cell_type": "markdown",
     "metadata": {},
     "source": [
      "And set the boundary conditions. In particular, let's say the left edge is set at 200, and the other edges are set at 0. We'll let temperature be represented by the \"red\" part of an RGB value. That means we can set `block.red` to any number between `0` and `255`.\n",
      "\n",
      "We'll start with the whole grid at 0 except for the boundary in question."
     ]
    },
    {
     "cell_type": "code",
     "collapsed": false,
     "input": [
      "for block in grid:\n",
      "    if block.col == 0:\n",
      "        block.red = 200\n",
      "    else:\n",
      "        block.red = 0\n",
      "grid"
     ],
     "language": "python",
     "metadata": {},
     "outputs": []
    },
    {
     "cell_type": "markdown",
     "metadata": {},
     "source": [
      "Now, for each round of updating (think of passing the pie in class), we want to iterate over all of the internal blocks, setting their red value equal to the average of their neighbors. By \"neighbor,\" let's say we mean the 4 blocks immediately above, below, left and right.\n",
      "\n",
      "Our boundary conditions are pretty easy to enforce: if we're in the left or right column (numbered 0 and 19, because Python starts counting from zero), or in the top or bottom row (again, numbered 0 and 19), don't do a thing."
     ]
    },
    {
     "cell_type": "code",
     "collapsed": false,
     "input": [
      "for block in grid:\n",
      "    if block.col in (0,19) or block.row in (0,19):\n",
      "        continue\n",
      "    block.red = (grid[block.row-1,block.col].red + grid[block.row+1,block.col].red +\\\n",
      "                 grid[block.row,block.col-1].red + grid[block.row,block.col+1].red) / 4.0\n",
      "grid"
     ],
     "language": "python",
     "metadata": {},
     "outputs": []
    },
    {
     "cell_type": "markdown",
     "metadata": {},
     "source": [
      "If you look closely, you can indeed see that the second row has some red in it. Remember, this is an approximation method. That means we need to run it over and over until it converges. We'll worry about convergence later; for now, let's wrap it up in a function and run it 10 times:"
     ]
    },
    {
     "cell_type": "code",
     "collapsed": false,
     "input": [
      "def one_step():\n",
      "    for block in grid:\n",
      "        if block.col in (0,19) or block.row in (0,19):\n",
      "            continue\n",
      "        block.red = (grid[block.row-1,block.col].red + grid[block.row+1,block.col].red +\\\n",
      "                     grid[block.row,block.col-1].red + grid[block.row,block.col+1].red) / 4.0\n",
      "for i in range(10):\n",
      "    one_step()\n",
      "grid"
     ],
     "language": "python",
     "metadata": {},
     "outputs": []
    },
    {
     "cell_type": "markdown",
     "metadata": {},
     "source": [
      "We can eyeball our results to see if they've converged by just running it longer:"
     ]
    },
    {
     "cell_type": "code",
     "collapsed": false,
     "input": [
      "for i in range(500):\n",
      "    one_step()\n",
      "grid"
     ],
     "language": "python",
     "metadata": {},
     "outputs": []
    },
    {
     "cell_type": "markdown",
     "metadata": {},
     "source": [
      "And that's really all we need to do to solve Laplace's equation numerically. \n",
      "\n",
      "## Different boundary conditions\n",
      "Wonder what it looks like with the top and bottom sides set to 200 instead? Just change the boundary conditions and run it again:"
     ]
    },
    {
     "cell_type": "code",
     "collapsed": false,
     "input": [
      "for block in grid:\n",
      "    if block.row in (0,19):\n",
      "        block.red = 200\n",
      "    else:\n",
      "        block.red = 0\n",
      "grid"
     ],
     "language": "python",
     "metadata": {},
     "outputs": []
    },
    {
     "cell_type": "code",
     "collapsed": false,
     "input": [
      "for i in range(500):\n",
      "    one_step()\n",
      "grid"
     ],
     "language": "python",
     "metadata": {},
     "outputs": []
    },
    {
     "cell_type": "markdown",
     "metadata": {},
     "source": [
      "## Initial conditions\n",
      "\n",
      "We know from class that, while the boundary conditions matter, the initial state shouldn't matter at all; the steady-state solution doesn't care. Let's see that by initializing to *random* values from 0 to 255. This is done with np.random.randint(0,256):"
     ]
    },
    {
     "cell_type": "code",
     "collapsed": false,
     "input": [
      "for block in grid:\n",
      "    if block.row in (0,19):\n",
      "        block.red = 200\n",
      "    elif block.col in (0,19):\n",
      "        block.red = 0\n",
      "    else:\n",
      "        block.red = np.random.randint(0,255)\n",
      "grid"
     ],
     "language": "python",
     "metadata": {},
     "outputs": []
    },
    {
     "cell_type": "markdown",
     "metadata": {},
     "source": [
      "It's interesting to watch one or two steps explicitly to see that it's doing what we expect, then to run things for a while."
     ]
    },
    {
     "cell_type": "code",
     "collapsed": false,
     "input": [
      "one_step()\n",
      "grid"
     ],
     "language": "python",
     "metadata": {},
     "outputs": []
    },
    {
     "cell_type": "code",
     "collapsed": false,
     "input": [
      "one_step()\n",
      "grid"
     ],
     "language": "python",
     "metadata": {},
     "outputs": []
    },
    {
     "cell_type": "code",
     "collapsed": false,
     "input": [
      "one_step()\n",
      "grid"
     ],
     "language": "python",
     "metadata": {},
     "outputs": []
    },
    {
     "cell_type": "markdown",
     "metadata": {},
     "source": [
      "Seems to be working ..."
     ]
    },
    {
     "cell_type": "code",
     "collapsed": false,
     "input": [
      "for i in range(500):\n",
      "    one_step()\n",
      "grid"
     ],
     "language": "python",
     "metadata": {},
     "outputs": []
    },
    {
     "cell_type": "markdown",
     "metadata": {},
     "source": [
      "And, as promised, it looks like we're converging to the same solution. This sort of thing makes it easy to plug in different boundary conditions and examine the result. We can try all sorts of strange things. Here's an example:"
     ]
    },
    {
     "cell_type": "code",
     "collapsed": false,
     "input": [
      "for block in grid:\n",
      "    if block.row == 0:\n",
      "        block.red = block.col * 10\n",
      "    elif block.row == 19:\n",
      "        block.red = (19 - block.col) * 10\n",
      "    elif block.col in (0,19):\n",
      "        if divmod(block.row,2)[1] == 0:\n",
      "            block.red = 200\n",
      "        else:\n",
      "            block.red = 0\n",
      "    else:\n",
      "        block.red = 0\n",
      "grid"
     ],
     "language": "python",
     "metadata": {},
     "outputs": []
    },
    {
     "cell_type": "code",
     "collapsed": false,
     "input": [
      "one_step()\n",
      "grid"
     ],
     "language": "python",
     "metadata": {},
     "outputs": []
    },
    {
     "cell_type": "code",
     "collapsed": false,
     "input": [
      "one_step()\n",
      "grid"
     ],
     "language": "python",
     "metadata": {},
     "outputs": []
    },
    {
     "cell_type": "code",
     "collapsed": false,
     "input": [
      "for i in range(500):\n",
      "    one_step()\n",
      "grid"
     ],
     "language": "python",
     "metadata": {},
     "outputs": []
    },
    {
     "cell_type": "markdown",
     "metadata": {},
     "source": [
      "Not bad! One simple function (`one_step`) allowed us to solve all sorts of setups that would have been quite tough to handle analytically! The disadvantage is that we're approximating things, so we care about how many blocks we've divvied our grid up into, etc. If we want to handle more complicated systems, we'll have to switch to `numpy` and `imshow` instead of `ipythonblocks`.\n",
      "\n",
      "## Switching to numpy and matplotlib and imshow\n",
      "\n",
      "Here, `T` will be a `numpy` array describing our temperature.\n",
      "\n",
      "For fun, we'll make the left boundary 100, but the right boundary part of a `sin` function. The `interpolation='none'` part of `imshow` tells it to show each member of the array like a square. Telling it something else like `interpolation='nearest'` or `'gaussian'` will smooth the picture out. That looks better, but it's a little harder to see exactly what's going on with our algorithm.\n",
      "\n",
      "Note here that the default colormap for `imshow` has red as hot and blue as cold. Before, we were using black as cold. Here, we get more colors."
     ]
    },
    {
     "cell_type": "code",
     "collapsed": false,
     "input": [
      "nx, ny = 20,20\n",
      "T = np.zeros((nx,ny))\n",
      "T[:,0] = 100 # Left boundary\n",
      "T[:,-1] = 100*np.sin(np.arange(0,nx)/nx) # Right boundary\n",
      "T[0,:] = 0 # Top boundary\n",
      "T[-1,:] = 0 # Bottom boundary\n",
      "plt.imshow(T,interpolation='none')"
     ],
     "language": "python",
     "metadata": {},
     "outputs": []
    },
    {
     "cell_type": "markdown",
     "metadata": {},
     "source": [
      "How will we know that we're done? We'll calculate how much the error changed between iterations. We'll do this by saving the previous step in `TN` and subtracting. We'll say that we've converged when the maximum error is lower than some threshold `epsilon`. We don't want to run forever, so we'll set a maximum number of iterations."
     ]
    },
    {
     "cell_type": "code",
     "collapsed": false,
     "input": [
      "# We modify T in place. If you hate side effects, \n",
      "# make a copy of T at the beginning, \n",
      "# and change the return statements to return T\n",
      "def solveLaplace(T,epsilon=1e-1,maxiter=1000):\n",
      "    TN = T.copy()\n",
      "    for i in range(maxiter):\n",
      "        # We'll be a bit clever with numpy indexing here\n",
      "        T[1:-1,1:-1] = (T[0:-2,1:-1]+T[2:,1:-1]+T[1:-1,0:-2]+T[1:-1,2:])/4.\n",
      "        err = np.abs(TN - T)\n",
      "        \n",
      "        if np.max(err) < epsilon:\n",
      "            print \"Reached convergence after\",i+1,\"iterations\"\n",
      "            print \"(max error: %g)\"%(np.max(err))\n",
      "            return\n",
      "        TN = T.copy()\n",
      "    print \"No convergence after\",i+1,\"iterations\"\n",
      "    print \"(max error: %g)\"%(np.max(err))\n",
      "    return"
     ],
     "language": "python",
     "metadata": {},
     "outputs": []
    },
    {
     "cell_type": "code",
     "collapsed": false,
     "input": [
      "solveLaplace(T,maxiter=1000)\n",
      "plt.imshow(T,interpolation='None')"
     ],
     "language": "python",
     "metadata": {},
     "outputs": []
    },
    {
     "cell_type": "markdown",
     "metadata": {},
     "source": [
      "## Animating it\n",
      "\n",
      "We can make some fun animations using Jake Vanderplas's [JSAnimation](https://github.com/jakevdp/JSAnimation):"
     ]
    },
    {
     "cell_type": "code",
     "collapsed": false,
     "input": [
      "from JSAnimation import IPython_display\n",
      "from matplotlib import animation"
     ],
     "language": "python",
     "metadata": {},
     "outputs": []
    },
    {
     "cell_type": "markdown",
     "metadata": {},
     "source": [
      "Here, we're just going to chunk through a given number of frames and show the result. So, we'll get rid of the convergence testing. As with my last notebook, we'll use a \"fragile\" version, where we completely ignore the fact that the animator asks us to return results for a given value; instead, we'll just update T each time, ignoring that argument.\n",
      "\n",
      "This time, the \"fragile\" business means we have to specifically not do anything the 1st time through, so that our first frame is the initial conditions."
     ]
    },
    {
     "cell_type": "code",
     "collapsed": false,
     "input": [
      "fig = plt.figure()\n",
      "ax = plt.gca()\n",
      "T = np.zeros((nx,ny))\n",
      "T[:,0] = 100 # Left boundary\n",
      "T[:,-1] = 100*np.sin(np.arange(0,nx)/nx) # Right boundary\n",
      "T[0,:] = 0 # Top boundary\n",
      "T[-1,:] = 0 # Bottom boundary\n",
      "\n",
      "def init():\n",
      "    img = ax.imshow(T,interpolation='None')\n",
      "    return img,\n",
      "def updateLaplace_fragile(i):\n",
      "    # Don't do anything the 1st time through, so that we plot the initial conditions\n",
      "    if i != 0:\n",
      "        T[1:-1,1:-1] = (T[0:-2,1:-1]+T[2:,1:-1]+T[1:-1,0:-2]+T[1:-1,2:])/4.\n",
      "    img = ax.imshow(T,interpolation='None')\n",
      "    return img,\n",
      "animation.FuncAnimation(fig, updateLaplace_fragile, init_func=init,\n",
      "                        frames=150, blit=True)"
     ],
     "language": "python",
     "metadata": {},
     "outputs": []
    },
    {
     "cell_type": "markdown",
     "metadata": {},
     "source": [
      "So that's pretty neat. We can also try it out with random starting values"
     ]
    },
    {
     "cell_type": "code",
     "collapsed": false,
     "input": [
      "fig = plt.figure()\n",
      "ax = plt.gca()\n",
      "T = np.random.rand(nx,ny)*100\n",
      "T[:,0] = 100 # Left boundary\n",
      "T[:,-1] = 100*np.sin(np.arange(0,nx)/nx) # Right boundary\n",
      "T[0,:] = 0 # Top boundary\n",
      "T[-1,:] = 0 # Bottom boundary\n",
      "animation.FuncAnimation(fig, updateLaplace_fragile, init_func=init,\n",
      "                        frames=150, blit=True)"
     ],
     "language": "python",
     "metadata": {},
     "outputs": []
    },
    {
     "cell_type": "markdown",
     "metadata": {},
     "source": [
      "Which brings up an interesting point that you may have noticed if you played around with the random values in the `ipythonblocks` portion above: this can converge faster. Random initial conditions can actually be closer to our final value than setting everything equal to zero."
     ]
    },
    {
     "cell_type": "markdown",
     "metadata": {},
     "source": [
      "We can also try less random initial conditions"
     ]
    },
    {
     "cell_type": "code",
     "collapsed": false,
     "input": [
      "import matplotlib.image as mpimg\n",
      "import urllib2\n",
      "fig = plt.figure()\n",
      "ax = plt.gca()\n",
      "im = mpimg.imread(urllib2.urlopen('http://mglerner.com/img/mgl_personal_small.png'))\n",
      "def rgb2gray(rgb):\n",
      "    return np.dot(rgb[...,:3], [0.299, 0.587, 0.144])\n",
      "T = rgb2gray(im)*100\n",
      "nx,ny = T.shape\n",
      "T[:,0] = 100 # Left boundary\n",
      "T[:,-1] = 100*np.sin(4*np.arange(0,nx)/nx) # Right boundary\n",
      "T[0,:] = 0 # Top boundary\n",
      "T[-1,:] = 0 # Bottom boundary\n",
      "animation.FuncAnimation(fig, updateLaplace_fragile, init_func=init,\n",
      "                        frames=500, blit=True)\n"
     ],
     "language": "python",
     "metadata": {},
     "outputs": []
    },
    {
     "cell_type": "code",
     "collapsed": false,
     "input": [],
     "language": "python",
     "metadata": {},
     "outputs": []
    }
   ],
   "metadata": {}
  }
 ]
}