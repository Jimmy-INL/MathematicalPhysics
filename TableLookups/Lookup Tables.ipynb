{
 "metadata": {
  "name": "",
  "signature": "sha256:22837e349228aa95a947aec1d5ef306cd6d241f88f366d35e892f6f1e02649f5"
 },
 "nbformat": 3,
 "nbformat_minor": 0,
 "worksheets": [
  {
   "cells": [
    {
     "cell_type": "markdown",
     "metadata": {},
     "source": [
      "# Lookup Tables with Lagrangian Interpolation\n",
      "\n",
      "How to do lookup tables for exponentials? Here's Andy's general response\n",
      "\n",
      "I don\u2019t know of any decent source about lookup tables, but here are some notes that demonstrate how we figured out the splines.  The simplest approach to understand is Lagrangian Interpolation, which is the approach that we used because it\u2019s so general.  The strategy is as follows:-\n",
      "\n",
      " 1. Choose a range of inputs values (\u2206E/kT in your case) that you expect to encounter frequently (say, 0 to 3).  I\u2019ve defined the function below such that an input of the positive argument \u2206E/kT returns Exp[-\u2206E/kT].\n",
      "\n",
      " 2. Choose a spacing value (referred to below as del) between successive grid points; this will determine both the storage needed for the table and also the accuracy of the interpolation, so some experimentation is necessary.  The example below uses del=0.1, but generally you need at least a hundred grid points per unit to get single precision accuracy, and even more for double precision.\n",
      "\n",
      " 3. You need to allocate (range/del+1) grid points to hold the table of values.  For a quartic interpolation (see below) you need two extra points, to handle the end points (-0.1 and 3.1 in the example above, so you can interpolate the full range).\n",
      "\n",
      " 4.  Now you need to construct your table:  Tab = {Exp[0.1], Exp[0], Exp[-0.1], Exp[-0.2], \u2026, Exp[-3.1]}\n",
      "\n",
      " 5. For a given input, x, if it\u2019s outside the range of your interpolation table, just explicitly compute and return Exp[-x].\n",
      "\n",
      " 6.  If it\u2019s inside the range, use an interpolating polynomial (below) to interpolate the values.\n",
      "\n",
      "Wikipedia has some good info on Lagrangian interpolation.  I\u2019ve pasted the explicit code needed for cubic, quartic, and pentic splines; these were obtained using the corresponding Mathematica inputs.  Most codes use cubic splines for efficiency, but we found that quartic splines let you use a sleazier table, so they may be more cache effiecient.\n",
      "\n",
      " * cubic\n",
      "\n",
      "        Simplify[InterpolatingPolynomial[{{x0 - del, e0}, {x0, e1}, {x0 + del, e2}}, x]]\n",
      "\n",
      "        (2 del^2 e1 - del (e0 - e2) (x - x0) + (e0 - 2 e1 + e2) (x - x0)^2)/(2 del^2)\n",
      " * quartic\n",
      " \n",
      "        Simplify[InterpolatingPolynomial[{{x0 - del, e0}, {x0, e1}, {x0 + del, e2}, {x0 + 2 del, e3}}, x]]\n",
      "\n",
      "        -((-6 del^3 e1 + del^2 (2 e0 + 3 e1 - 6 e2 + e3) (x - x0) - 3 del (e0 - 2 e1 + e2) (x - x0)^2 + (e0 - 3 e1 + 3 e2 - e3) (x - x0)^3)/(6 del^3))\n",
      "\n",
      " * pentic\n",
      " \n",
      "        Simplify[InterpolatingPolynomial[{{x0 - 2 del, e0}, {x0 - del, e1}, {x0, e2}, {x0 + del, e3}, {x0 + 2 del, e4}}, x]]\n",
      "\n",
      "        (1/(24 del^4))(24 del^4 e2 + 2 del^3 (e0 - 8 e1 + 8 e3 - e4) (x - x0) - \n",
      "         del^2 (e0 - 16 e1 + 30 e2 - 16 e3 + e4) (x - x0)^2 - \n",
      "         2 del (e0 - 2 e1 + 2 e3 - e4) (x - x0)^3 + (e0 - 4 e1 + 6 e2 - 4 e3 + \n",
      "         e4) (x - x0)^4)\n",
      "\n",
      "Assume we\u2019re using a quartic polynomial, and want to compute Exp[-0.22].  We need to pick out the 4 consecutive table entries {e0,e1,e2,e3} whose x values bound 0.22, so that we\u2019re interpolating, not extrapolating.  This is shown below (# represents the value we\u2019re interested in).\n",
      "\n",
      "      e0    e1     e2     e3\n",
      "      |      | #    |      |\n",
      "      ----------------------\n",
      "    x0-del   x0  x0+del x0+2del\n",
      "     0.1    0.2    0.3    0.4\n",
      "\n",
      "The values {e0,e1,e2,e3} are {Exp[-0.1],Exp[-0.2],Exp[-0.3],Exp[-0.4]}, taken straight from the table.  The we just plug in (x-x0 = 0.22-0.2 = 0.02) into the quartic formula above, along with the tablulated e* values, and out comes the answer.\n",
      "\n",
      "For an odd-order interpolating spline, make sure the value you're probing is in the middle of the range of table values, although it doesn\u2019t matter which side of the center point if falls on; make sure the corresponding sign is correct when computing x-x0 though.\n",
      "\n",
      "This is using Lagrangian interpolation.  PME uses and Euler interpolating spline instead, so that might be worth investigating.  I\u2019ve attached the paper in case you\u2019re interested.  Note that the method above works for absolutely any function; you just have to tabulate the compute values ahead of time, which is cheap.  To test the table, you can simply probe all of the midpoints (0.05, 0.15, 0.25, \u2026 in the example above) and compare the interpolated and analytic function.  If it\u2019s something that\u2019s commonly run in single precision anyway, you should be able to get away with errors around 10^-7 or 10^-8.  We get 10^-13, in our code, which is close enough to the machine epsilon for our liking.\n",
      "\n",
      "Good luck!\n",
      "\n",
      "Andy.\n"
     ]
    },
    {
     "cell_type": "markdown",
     "metadata": {},
     "source": [
      "So let's go ahead and to that, with the goal of plotting the explicit function along with a slider to control the order of the spline and another slider to control the spacing."
     ]
    },
    {
     "cell_type": "code",
     "collapsed": false,
     "input": [],
     "language": "python",
     "metadata": {},
     "outputs": []
    }
   ],
   "metadata": {}
  }
 ]
}