{
 "cells": [
  {
   "cell_type": "markdown",
   "metadata": {},
   "source": [
    "## Setting up our Python environment\n",
    "\n",
    "In addition to the normal inputs, we'll grab Bessel functions from `scipy.special`. There are different conventions, but we'll mostly be using the $J_n$'s"
   ]
  },
  {
   "cell_type": "code",
   "execution_count": 1,
   "metadata": {},
   "outputs": [],
   "source": [
    "import numpy as np, scipy as sp, matplotlib.pyplot as plt, seaborn as sns\n",
    "from mpl_toolkits.mplot3d import Axes3D\n",
    "from ipywidgets import interact, fixed\n",
    "from matplotlib import cm\n",
    "from numpy import sin, cos, arctan, arctan2, array, sqrt, linspace, meshgrid, pi\n",
    "%matplotlib inline\n",
    "import scipy.special\n",
    "from scipy.special import j0,j1,jn,y0,y1,yn, jn_zeros"
   ]
  },
  {
   "cell_type": "markdown",
   "metadata": {},
   "source": [
    "# Let's re-familiarize ourselves with Bessel functions"
   ]
  },
  {
   "cell_type": "markdown",
   "metadata": {},
   "source": [
    "### J's\n",
    "\n",
    "Make a little widget to plot as many Bessel functions of the first kind as we want:"
   ]
  },
  {
   "cell_type": "code",
   "execution_count": 6,
   "metadata": {},
   "outputs": [
    {
     "data": {
      "text/plain": [
       "<Figure size 432x288 with 0 Axes>"
      ]
     },
     "metadata": {},
     "output_type": "display_data"
    },
    {
     "data": {
      "application/vnd.jupyter.widget-view+json": {
       "model_id": "e0c973fb02144eb3a6c15545584c9b44",
       "version_major": 2,
       "version_minor": 0
      },
      "text/html": [
       "<p>Failed to display Jupyter Widget of type <code>interactive</code>.</p>\n",
       "<p>\n",
       "  If you're reading this message in the Jupyter Notebook or JupyterLab Notebook, it may mean\n",
       "  that the widgets JavaScript is still loading. If this message persists, it\n",
       "  likely means that the widgets JavaScript library is either not installed or\n",
       "  not enabled. See the <a href=\"https://ipywidgets.readthedocs.io/en/stable/user_install.html\">Jupyter\n",
       "  Widgets Documentation</a> for setup instructions.\n",
       "</p>\n",
       "<p>\n",
       "  If you're reading this message in another frontend (for example, a static\n",
       "  rendering on GitHub or <a href=\"https://nbviewer.jupyter.org/\">NBViewer</a>),\n",
       "  it may mean that your frontend doesn't currently support widgets.\n",
       "</p>\n"
      ],
      "text/plain": [
       "interactive(children=(IntSlider(value=0, description='N', max=10), Output()), _dom_classes=('widget-interact',))"
      ]
     },
     "metadata": {},
     "output_type": "display_data"
    }
   ],
   "source": [
    "x = np.linspace(0,20,10000)\n",
    "fig = plt.figure()\n",
    "def plotfirstkind(N=0):\n",
    "    for n in range(N):\n",
    "        plt.plot(x,jn(n,x),label=\"$J_{n}(x)$\".format(n=n))\n",
    "    if N>0: \n",
    "        plt.legend()\n",
    "    plt.show()\n",
    "_=interact(plotfirstkind,N=(0,10));"
   ]
  },
  {
   "cell_type": "markdown",
   "metadata": {},
   "source": [
    "### Y's\n",
    "\n",
    "Make a little widget to plot as many Bessel functions of the second kind as we want"
   ]
  },
  {
   "cell_type": "code",
   "execution_count": 7,
   "metadata": {},
   "outputs": [
    {
     "data": {
      "application/vnd.jupyter.widget-view+json": {
       "model_id": "162dc98b87644e0f9d36f8749c585767",
       "version_major": 2,
       "version_minor": 0
      },
      "text/html": [
       "<p>Failed to display Jupyter Widget of type <code>interactive</code>.</p>\n",
       "<p>\n",
       "  If you're reading this message in the Jupyter Notebook or JupyterLab Notebook, it may mean\n",
       "  that the widgets JavaScript is still loading. If this message persists, it\n",
       "  likely means that the widgets JavaScript library is either not installed or\n",
       "  not enabled. See the <a href=\"https://ipywidgets.readthedocs.io/en/stable/user_install.html\">Jupyter\n",
       "  Widgets Documentation</a> for setup instructions.\n",
       "</p>\n",
       "<p>\n",
       "  If you're reading this message in another frontend (for example, a static\n",
       "  rendering on GitHub or <a href=\"https://nbviewer.jupyter.org/\">NBViewer</a>),\n",
       "  it may mean that your frontend doesn't currently support widgets.\n",
       "</p>\n"
      ],
      "text/plain": [
       "interactive(children=(IntSlider(value=0, description='N', max=10), Output()), _dom_classes=('widget-interact',))"
      ]
     },
     "metadata": {},
     "output_type": "display_data"
    },
    {
     "data": {
      "text/plain": [
       "<function __main__.plotsecondkind>"
      ]
     },
     "execution_count": 7,
     "metadata": {},
     "output_type": "execute_result"
    }
   ],
   "source": [
    "x = np.linspace(0,20,10000)\n",
    "def plotsecondkind(N=0):\n",
    "    for n in range(N):\n",
    "        plt.plot(x,yn(n,x),label=\"$Y_{n}(x)$\".format(n=n))\n",
    "    if N>0: plt.legend()\n",
    "    plt.show()\n",
    "interact(plotsecondkind,N=(0,10))"
   ]
  },
  {
   "cell_type": "markdown",
   "metadata": {},
   "source": [
    "Oops! How many bessel functions of the second kind to plot?"
   ]
  },
  {
   "cell_type": "code",
   "execution_count": 8,
   "metadata": {},
   "outputs": [
    {
     "data": {
      "application/vnd.jupyter.widget-view+json": {
       "model_id": "4a374a61fa11480fa769138e01cda1ae",
       "version_major": 2,
       "version_minor": 0
      },
      "text/html": [
       "<p>Failed to display Jupyter Widget of type <code>interactive</code>.</p>\n",
       "<p>\n",
       "  If you're reading this message in the Jupyter Notebook or JupyterLab Notebook, it may mean\n",
       "  that the widgets JavaScript is still loading. If this message persists, it\n",
       "  likely means that the widgets JavaScript library is either not installed or\n",
       "  not enabled. See the <a href=\"https://ipywidgets.readthedocs.io/en/stable/user_install.html\">Jupyter\n",
       "  Widgets Documentation</a> for setup instructions.\n",
       "</p>\n",
       "<p>\n",
       "  If you're reading this message in another frontend (for example, a static\n",
       "  rendering on GitHub or <a href=\"https://nbviewer.jupyter.org/\">NBViewer</a>),\n",
       "  it may mean that your frontend doesn't currently support widgets.\n",
       "</p>\n"
      ],
      "text/plain": [
       "interactive(children=(IntSlider(value=0, description='N', max=10), FloatSlider(value=0.0, description='x0', max=1.0), Output()), _dom_classes=('widget-interact',))"
      ]
     },
     "metadata": {},
     "output_type": "display_data"
    },
    {
     "data": {
      "text/plain": [
       "<function __main__.plotsecondkind>"
      ]
     },
     "execution_count": 8,
     "metadata": {},
     "output_type": "execute_result"
    }
   ],
   "source": [
    "def plotsecondkind(N=0,x0=0):\n",
    "    x = np.linspace(x0,20,10000)\n",
    "    for n in range(N):\n",
    "        plt.plot(x,yn(n,x),label=\"$Y_{n}(x)$\".format(n=n))\n",
    "    if N>0: plt.legend()\n",
    "    plt.show()\n",
    "interact(plotsecondkind,N=(0,10),x0=(0,1,0.1))"
   ]
  },
  {
   "cell_type": "markdown",
   "metadata": {},
   "source": [
    "Or maybe this"
   ]
  },
  {
   "cell_type": "code",
   "execution_count": 9,
   "metadata": {},
   "outputs": [
    {
     "data": {
      "application/vnd.jupyter.widget-view+json": {
       "model_id": "b32ecb1ff7604821817f8bc5ead36448",
       "version_major": 2,
       "version_minor": 0
      },
      "text/html": [
       "<p>Failed to display Jupyter Widget of type <code>interactive</code>.</p>\n",
       "<p>\n",
       "  If you're reading this message in the Jupyter Notebook or JupyterLab Notebook, it may mean\n",
       "  that the widgets JavaScript is still loading. If this message persists, it\n",
       "  likely means that the widgets JavaScript library is either not installed or\n",
       "  not enabled. See the <a href=\"https://ipywidgets.readthedocs.io/en/stable/user_install.html\">Jupyter\n",
       "  Widgets Documentation</a> for setup instructions.\n",
       "</p>\n",
       "<p>\n",
       "  If you're reading this message in another frontend (for example, a static\n",
       "  rendering on GitHub or <a href=\"https://nbviewer.jupyter.org/\">NBViewer</a>),\n",
       "  it may mean that your frontend doesn't currently support widgets.\n",
       "</p>\n"
      ],
      "text/plain": [
       "interactive(children=(IntSlider(value=0, description='N', max=10), IntSlider(value=2, description='ymax', max=6, min=-2), IntSlider(value=-2, description='ymin', max=2, min=-6), Output()), _dom_classes=('widget-interact',))"
      ]
     },
     "metadata": {},
     "output_type": "display_data"
    },
    {
     "data": {
      "text/plain": [
       "<function __main__.plotsecondkind>"
      ]
     },
     "execution_count": 9,
     "metadata": {},
     "output_type": "execute_result"
    }
   ],
   "source": [
    "def plotsecondkind(N=0,ymax=2,ymin=-2):\n",
    "    x = np.linspace(0,20,10000)\n",
    "    for n in range(N):\n",
    "        plt.plot(x,yn(n,x),label=\"$Y_{n}(x)$\".format(n=n))\n",
    "    plt.ylim([ymin,ymax])\n",
    "    if N>0: plt.legend()\n",
    "    plt.show()\n",
    "interact(plotsecondkind,N=(0,10),x0=(0,1,0.1))"
   ]
  },
  {
   "cell_type": "markdown",
   "metadata": {},
   "source": [
    "### Great. Now a series.\n",
    "\n",
    "This one happens to be designed to make a square wave up to the first zero.\n",
    "\n",
    "Here's a significant difference with Fourier series: look at what happens after the first zero."
   ]
  },
  {
   "cell_type": "code",
   "execution_count": 10,
   "metadata": {},
   "outputs": [
    {
     "data": {
      "application/vnd.jupyter.widget-view+json": {
       "model_id": "bea94f76c59b49b3b5c12552ae3e28c9",
       "version_major": 2,
       "version_minor": 0
      },
      "text/html": [
       "<p>Failed to display Jupyter Widget of type <code>interactive</code>.</p>\n",
       "<p>\n",
       "  If you're reading this message in the Jupyter Notebook or JupyterLab Notebook, it may mean\n",
       "  that the widgets JavaScript is still loading. If this message persists, it\n",
       "  likely means that the widgets JavaScript library is either not installed or\n",
       "  not enabled. See the <a href=\"https://ipywidgets.readthedocs.io/en/stable/user_install.html\">Jupyter\n",
       "  Widgets Documentation</a> for setup instructions.\n",
       "</p>\n",
       "<p>\n",
       "  If you're reading this message in another frontend (for example, a static\n",
       "  rendering on GitHub or <a href=\"https://nbviewer.jupyter.org/\">NBViewer</a>),\n",
       "  it may mean that your frontend doesn't currently support widgets.\n",
       "</p>\n"
      ],
      "text/plain": [
       "interactive(children=(IntSlider(value=1, description='N', max=15, min=1), IntSlider(value=1, description='xmax', max=20, min=1, step=5), Output()), _dom_classes=('widget-interact',))"
      ]
     },
     "metadata": {},
     "output_type": "display_data"
    }
   ],
   "source": [
    "def k(m,n):\n",
    "    # jn_zeros(n, nt): Compute nt zeros of the Bessel function Jn(x).\n",
    "    return jn_zeros(n,m)[m-1] # m is 0-indexed here\n",
    "\n",
    "def km0(m):\n",
    "    #jn_zeros(n, nt): Compute nt zeros of the Bessel function Jn(x).\n",
    "    # I.e. this returns an array, and we take the last element.\n",
    "    return jn_zeros(0,m)[-1]\n",
    "\n",
    "def plotseries(N=0,xmax=1):\n",
    "    x = np.linspace(0,xmax,xmax*1000)\n",
    "    plt.clf()\n",
    "    y = np.zeros_like(x)\n",
    "    for m in range(1,N+1):\n",
    "        km = km0(m)\n",
    "        cm = 200/(km * jn(1,km))\n",
    "        #print \"cm\",cm\n",
    "        this_term = cm*jn(0,km*x)\n",
    "        plt.plot(x,this_term,label=\"$Term %s$\"%m)\n",
    "        y = y + this_term\n",
    "    plt.plot(x,y,'k',linewidth=3,label='sum')\n",
    "    plt.legend()\n",
    "    plt.show()\n",
    "_ = interact(plotseries,N=(1,15),xmax=(1,20,5))"
   ]
  },
  {
   "cell_type": "markdown",
   "metadata": {},
   "source": [
    "# Now on to the steady state temperature in a cylinder\n",
    "\n",
    "Assuming you solved this in class, you know we're looking for things like\n",
    "\n",
    "$$\n",
    "u = \\left\\{\\begin{matrix}\n",
    "J_n(kr/a)\\sin n\\theta e^{-kz/a}\\\\ \n",
    "J_n(kr/a)\\cos n\\theta e^{-kz/a}\n",
    "\\end{matrix}\\right.\n",
    "$$\n",
    "\n",
    "where we need symmetry in $\\theta$, choosing\n",
    "\n",
    "$$\n",
    "u = \\sum_{m=1}^\\infty c_m J_0(k_mr/a)e^{-k_mz/a}\n",
    "$$\n",
    "\n",
    "with the $c_m$'s given as above\n",
    "\n",
    "$$\n",
    "c_m = \\frac{200}{k_mJ_1(k_m)}\n",
    "$$\n",
    "\n",
    "So, let's plot that. Remember, we want the above function over the drum head, and zero elsewhere.\n",
    "\n",
    "First, let's all read through Boas together\n",
    "\n",
    "... reading ...\n",
    "\n",
    "Now let's plot some things!"
   ]
  },
  {
   "cell_type": "markdown",
   "metadata": {},
   "source": [
    "First thought: plot the temperature as a surface, with height = Temperature."
   ]
  },
  {
   "cell_type": "code",
   "execution_count": 11,
   "metadata": {},
   "outputs": [],
   "source": [
    "from ipywidgets import interact, interactive, fixed"
   ]
  },
  {
   "cell_type": "code",
   "execution_count": 21,
   "metadata": {},
   "outputs": [],
   "source": [
    "def plot_surface_interpolate(f,urange=2,z=0.1,elev=None,azim=None,zmax=150):\n",
    "    u1 = np.linspace(-urange,urange,100)\n",
    "    u2 = np.linspace(-urange,urange,100)\n",
    "    fig = plt.figure()\n",
    "    ax = fig.gca(projection='3d')\n",
    "    U1, U2 = np.meshgrid(u1, u2)\n",
    "    X,Y,Z = f(U1,U2)\n",
    "    U3 = np.zeros_like(Z)\n",
    "    A = U1\n",
    "    B = U2\n",
    "    C = U3+z\n",
    "    surf2 = ax.plot_surface(U1, U2, np.zeros_like(C), color='grey', alpha=0.5)\n",
    "    surf = ax.plot_surface(X,Y,Z,alpha=0.9,color='blue')\n",
    "    surf3 = ax.plot_surface(A,B,C,color='green',zorder=-2,alpha=0.1)\n",
    "    ax.view_init(elev=elev,azim=azim)\n",
    "    ax.set_zlim([0,zmax])\n",
    "    plt.show()\n"
   ]
  },
  {
   "cell_type": "code",
   "execution_count": 22,
   "metadata": {},
   "outputs": [],
   "source": [
    "interp_step = 0.1\n",
    "degree_step=15"
   ]
  },
  {
   "cell_type": "code",
   "execution_count": 23,
   "metadata": {},
   "outputs": [
    {
     "data": {
      "application/vnd.jupyter.widget-view+json": {
       "model_id": "bc9410198eaa447eb6a57671036e56aa",
       "version_major": 2,
       "version_minor": 0
      },
      "text/html": [
       "<p>Failed to display Jupyter Widget of type <code>interactive</code>.</p>\n",
       "<p>\n",
       "  If you're reading this message in the Jupyter Notebook or JupyterLab Notebook, it may mean\n",
       "  that the widgets JavaScript is still loading. If this message persists, it\n",
       "  likely means that the widgets JavaScript library is either not installed or\n",
       "  not enabled. See the <a href=\"https://ipywidgets.readthedocs.io/en/stable/user_install.html\">Jupyter\n",
       "  Widgets Documentation</a> for setup instructions.\n",
       "</p>\n",
       "<p>\n",
       "  If you're reading this message in another frontend (for example, a static\n",
       "  rendering on GitHub or <a href=\"https://nbviewer.jupyter.org/\">NBViewer</a>),\n",
       "  it may mean that your frontend doesn't currently support widgets.\n",
       "</p>\n"
      ],
      "text/plain": [
       "interactive(children=(IntSlider(value=30, description='azim', max=360, step=15), IntSlider(value=30, description='elev', max=360, step=15), FloatSlider(value=0.0, description='z', max=10.0), IntSlider(value=1, description='N', max=20, min=1), IntSlider(value=150, description='zmax', max=150, step=10), Output()), _dom_classes=('widget-interact',))"
      ]
     },
     "metadata": {},
     "output_type": "display_data"
    },
    {
     "data": {
      "text/plain": [
       "<function __main__.plot_this>"
      ]
     },
     "execution_count": 23,
     "metadata": {},
     "output_type": "execute_result"
    }
   ],
   "source": [
    "def plot_this(azim=30,elev=30,z=0,N=1,zmax=150):\n",
    "    def f(X,Y,z=z,N=N):\n",
    "        R = np.sqrt(X**2 + Y**2)\n",
    "        Z = np.zeros_like(R)\n",
    "        for m in range(1,N+1):\n",
    "            km = km0(m)\n",
    "            cm = 200/(km * jn(1,km))\n",
    "            this_term = cm*jn(0,km*R)*np.exp(-km*z)\n",
    "            Z = Z + this_term\n",
    "        Z[R>1] = 0\n",
    "        return X,Y,z+Z\n",
    "    plot_surface_interpolate(f,z=z,azim=azim,elev=elev,zmax=zmax)\n",
    "    print('N=',N)\n",
    "interact(plot_this,z=(0,10,0.1),N=(1,20,1),\n",
    "         azim=(0,360,degree_step),elev=(0,360,degree_step),\n",
    "         zmax=(0,150,10)\n",
    "        )"
   ]
  },
  {
   "cell_type": "markdown",
   "metadata": {},
   "source": [
    "Do we want to \"fix\" outside R=1?\n",
    "Do we want to show far from R=1?\n",
    "\n",
    "So that's interesting, but kind of hard to visualize. Let's plot Z on the y axis, and R on the x-axis."
   ]
  },
  {
   "cell_type": "code",
   "execution_count": 24,
   "metadata": {},
   "outputs": [
    {
     "data": {
      "application/vnd.jupyter.widget-view+json": {
       "model_id": "8d483204047d4eafb6a6fe3d2641eac3",
       "version_major": 2,
       "version_minor": 0
      },
      "text/html": [
       "<p>Failed to display Jupyter Widget of type <code>interactive</code>.</p>\n",
       "<p>\n",
       "  If you're reading this message in the Jupyter Notebook or JupyterLab Notebook, it may mean\n",
       "  that the widgets JavaScript is still loading. If this message persists, it\n",
       "  likely means that the widgets JavaScript library is either not installed or\n",
       "  not enabled. See the <a href=\"https://ipywidgets.readthedocs.io/en/stable/user_install.html\">Jupyter\n",
       "  Widgets Documentation</a> for setup instructions.\n",
       "</p>\n",
       "<p>\n",
       "  If you're reading this message in another frontend (for example, a static\n",
       "  rendering on GitHub or <a href=\"https://nbviewer.jupyter.org/\">NBViewer</a>),\n",
       "  it may mean that your frontend doesn't currently support widgets.\n",
       "</p>\n"
      ],
      "text/plain": [
       "interactive(children=(IntSlider(value=2, description='r_range', max=5, min=1), FloatSlider(value=2.0, description='z_range', max=10.0, min=0.1), IntSlider(value=1, description='N', max=20, min=1), Output()), _dom_classes=('widget-interact',))"
      ]
     },
     "metadata": {},
     "output_type": "display_data"
    },
    {
     "data": {
      "text/plain": [
       "<function __main__.plot_temp>"
      ]
     },
     "execution_count": 24,
     "metadata": {},
     "output_type": "execute_result"
    }
   ],
   "source": [
    "def plot_temp(r_range=2,z_range=2,N=1):\n",
    "    plt.clf()\n",
    "    r = np.linspace(0,r_range,100)\n",
    "    z = np.linspace(0,z_range,100)\n",
    "    fig = plt.figure()\n",
    "    R, Z = np.meshgrid(r, z)\n",
    "    def f(R,Z,N=N):\n",
    "        T = np.zeros_like(R)\n",
    "        for m in range(1,N+1):\n",
    "            km = km0(m)\n",
    "            cm = 200/(km * jn(1,km))\n",
    "            this_term = cm*jn(0,km*R)*np.exp(-km*Z)\n",
    "            T = T + this_term\n",
    "        return T\n",
    "    T = f(R,Z,N)\n",
    "    #plt.imshow(T,cmap=plt.get_cmap('inferno'),origin='lower')\n",
    "    plt.pcolormesh(R,Z,T,cmap=plt.get_cmap('inferno'))\n",
    "    plt.colorbar()\n",
    "    plt.show()\n",
    "interact(plot_temp,N=(1,20,1),r_range=(1,5,1),z_range=(.1,10,.1))"
   ]
  },
  {
   "cell_type": "code",
   "execution_count": 25,
   "metadata": {},
   "outputs": [
    {
     "data": {
      "text/plain": [
       "<Figure size 432x288 with 0 Axes>"
      ]
     },
     "metadata": {},
     "output_type": "display_data"
    },
    {
     "data": {
      "image/png": "[encoded data removed]",
      "text/plain": [
       "<Figure size 432x288 with 2 Axes>"
      ]
     },
     "metadata": {},
     "output_type": "display_data"
    }
   ],
   "source": [
    "plot_temp(1.0,0.5,1)"
   ]
  },
  {
   "cell_type": "code",
   "execution_count": 26,
   "metadata": {},
   "outputs": [
    {
     "data": {
      "text/plain": [
       "<Figure size 432x288 with 0 Axes>"
      ]
     },
     "metadata": {},
     "output_type": "display_data"
    },
    {
     "data": {
      "image/png": "[encoded data removed]",
      "text/plain": [
       "<Figure size 432x288 with 2 Axes>"
      ]
     },
     "metadata": {},
     "output_type": "display_data"
    }
   ],
   "source": [
    "plot_temp(1.0,1,50)"
   ]
  },
  {
   "cell_type": "code",
   "execution_count": 31,
   "metadata": {},
   "outputs": [
    {
     "data": {
      "application/vnd.jupyter.widget-view+json": {
       "model_id": "9204d67e76a9433dafcff58e755adad0",
       "version_major": 2,
       "version_minor": 0
      },
      "text/html": [
       "<p>Failed to display Jupyter Widget of type <code>interactive</code>.</p>\n",
       "<p>\n",
       "  If you're reading this message in the Jupyter Notebook or JupyterLab Notebook, it may mean\n",
       "  that the widgets JavaScript is still loading. If this message persists, it\n",
       "  likely means that the widgets JavaScript library is either not installed or\n",
       "  not enabled. See the <a href=\"https://ipywidgets.readthedocs.io/en/stable/user_install.html\">Jupyter\n",
       "  Widgets Documentation</a> for setup instructions.\n",
       "</p>\n",
       "<p>\n",
       "  If you're reading this message in another frontend (for example, a static\n",
       "  rendering on GitHub or <a href=\"https://nbviewer.jupyter.org/\">NBViewer</a>),\n",
       "  it may mean that your frontend doesn't currently support widgets.\n",
       "</p>\n"
      ],
      "text/plain": [
       "interactive(children=(IntSlider(value=1, description='N', max=15, min=1), IntSlider(value=1, description='xmax', max=3, min=-1), Output()), _dom_classes=('widget-interact',))"
      ]
     },
     "metadata": {},
     "output_type": "display_data"
    }
   ],
   "source": [
    "a = 1\n",
    "r = np.linspace(0,a,100)\n",
    "z = np.linspace(0,4*a,400)\n",
    "R,Z = np.meshgrid(r,z)\n",
    "\n",
    "def plotcyl(N=0):\n",
    "    plt.clf()\n",
    "    y = np.zeros_like(x)\n",
    "    for m in range(1,N+1):\n",
    "        km = km0(m)\n",
    "        cm = 200/(km * jn(1,km))\n",
    "        #print \"cm\",cm\n",
    "        this_term = cm*jn(0,km*x)\n",
    "        plt.plot(x,this_term,label=\"$Term %s$\"%m)\n",
    "        y = y + this_term\n",
    "    plt.plot(x,y,'k',linewidth=3,label='sum')\n",
    "    plt.legend()\n",
    "    plt.show()\n",
    "_ = interact(plotseries,N=(1,15))"
   ]
  },
  {
   "cell_type": "code",
   "execution_count": null,
   "metadata": {},
   "outputs": [],
   "source": []
  },
  {
   "cell_type": "code",
   "execution_count": 28,
   "metadata": {},
   "outputs": [
    {
     "name": "stderr",
     "output_type": "stream",
     "text": [
      "No handles with labels found to put in legend.\n"
     ]
    },
    {
     "data": {
      "image/png": "[encoded data removed]",
      "text/plain": [
       "<Figure size 432x288 with 1 Axes>"
      ]
     },
     "metadata": {},
     "output_type": "display_data"
    }
   ],
   "source": [
    "from mpl_toolkits.mplot3d import Axes3D\n",
    "import numpy as np\n",
    "import matplotlib.pyplot as plt\n",
    "\n",
    "fig = plt.figure()\n",
    "ax = fig.gca(projection='3d')\n",
    "\n",
    "x = np.linspace(0, 1, 100)\n",
    "X, Y = np.meshgrid(x, x)\n",
    "Z = np.sin(X)*np.sin(Y)\n",
    "\n",
    "levels = np.linspace(-1, 1, 40)\n",
    "\n",
    "ax.contourf(X, Y, .1*np.sin(3*X)*np.sin(5*Y), zdir='z', levels=.1*levels)\n",
    "ax.contourf(X, Y, 3+.1*np.sin(5*X)*np.sin(8*Y), zdir='z', levels=3+.1*levels)\n",
    "ax.contourf(X, Y, 7+.1*np.sin(7*X)*np.sin(3*Y), zdir='z', levels=7+.1*levels)\n",
    "\n",
    "ax.legend()\n",
    "ax.set_xlim3d(0, 1)\n",
    "ax.set_ylim3d(0, 1)\n",
    "ax.set_zlim3d(0, 10)\n",
    "\n",
    "plt.show()\n"
   ]
  },
  {
   "cell_type": "code",
   "execution_count": 32,
   "metadata": {},
   "outputs": [],
   "source": [
    "from mpl_toolkits.mplot3d import proj3d\n",
    "\n",
    "def make_get_proj(self, rx, ry, rz):\n",
    "    '''\n",
    "    Return a variation on :func:`~mpl_toolkit.mplot2d.axes3d.Axes3D.getproj` that\n",
    "    makes the box aspect ratio equal to *rx:ry:rz*, using an axes object *self*.\n",
    "    '''\n",
    "\n",
    "    rm = max(rx, ry, rz)\n",
    "    kx = rm / rx; ky = rm / ry; kz = rm / rz;\n",
    "\n",
    "    # Copied directly from mpl_toolkit/mplot3d/axes3d.py. New or modified lines are\n",
    "    # marked by ##\n",
    "    def get_proj():\n",
    "        relev, razim = np.pi * self.elev/180, np.pi * self.azim/180\n",
    "\n",
    "        xmin, xmax = self.get_xlim3d()\n",
    "        ymin, ymax = self.get_ylim3d()\n",
    "        zmin, zmax = self.get_zlim3d()\n",
    "\n",
    "        # transform to uniform world coordinates 0-1.0,0-1.0,0-1.0\n",
    "        worldM = proj3d.world_transformation(xmin, xmax,\n",
    "                                             ymin, ymax,\n",
    "                                             zmin, zmax)\n",
    "\n",
    "        # adjust the aspect ratio                          ##\n",
    "        aspectM = proj3d.world_transformation(-kx + 1, kx, ##\n",
    "                                              -ky + 1, ky, ##\n",
    "                                              -kz + 1, kz) ##\n",
    "\n",
    "        # look into the middle of the new coordinates\n",
    "        R = np.array([0.5, 0.5, 0.5])\n",
    "\n",
    "        xp = R[0] + np.cos(razim) * np.cos(relev) * self.dist\n",
    "        yp = R[1] + np.sin(razim) * np.cos(relev) * self.dist\n",
    "        zp = R[2] + np.sin(relev) * self.dist\n",
    "        E = np.array((xp, yp, zp))\n",
    "\n",
    "        self.eye = E\n",
    "        self.vvec = R - E\n",
    "        self.vvec = self.vvec / proj3d.mod(self.vvec)\n",
    "\n",
    "        if abs(relev) > np.pi/2:\n",
    "            # upside down\n",
    "            V = np.array((0, 0, -1))\n",
    "        else:\n",
    "            V = np.array((0, 0, 1))\n",
    "        zfront, zback = -self.dist, self.dist\n",
    "\n",
    "        viewM = proj3d.view_transformation(E, R, V)\n",
    "        perspM = proj3d.persp_transformation(zfront, zback)\n",
    "        M0 = np.dot(viewM, np.dot(aspectM, worldM)) ##\n",
    "        M = np.dot(perspM, M0)\n",
    "        return M\n",
    "    return get_proj\n",
    "\n",
    "# and later in the code:\n",
    "ax.get_proj = make_get_proj(ax, 1, 1, 2)\n",
    "ax.set_aspect(1.0)\n",
    "plt.show()"
   ]
  },
  {
   "cell_type": "code",
   "execution_count": null,
   "metadata": {},
   "outputs": [],
   "source": []
  },
  {
   "cell_type": "code",
   "execution_count": null,
   "metadata": {},
   "outputs": [],
   "source": []
  },
  {
   "cell_type": "code",
   "execution_count": null,
   "metadata": {},
   "outputs": [],
   "source": []
  },
  {
   "cell_type": "code",
   "execution_count": 33,
   "metadata": {},
   "outputs": [
    {
     "data": {
      "application/vnd.jupyter.widget-view+json": {
       "model_id": "f088b2135ac84d0a9ce4f4537144e5df",
       "version_major": 2,
       "version_minor": 0
      },
      "text/html": [
       "<p>Failed to display Jupyter Widget of type <code>interactive</code>.</p>\n",
       "<p>\n",
       "  If you're reading this message in the Jupyter Notebook or JupyterLab Notebook, it may mean\n",
       "  that the widgets JavaScript is still loading. If this message persists, it\n",
       "  likely means that the widgets JavaScript library is either not installed or\n",
       "  not enabled. See the <a href=\"https://ipywidgets.readthedocs.io/en/stable/user_install.html\">Jupyter\n",
       "  Widgets Documentation</a> for setup instructions.\n",
       "</p>\n",
       "<p>\n",
       "  If you're reading this message in another frontend (for example, a static\n",
       "  rendering on GitHub or <a href=\"https://nbviewer.jupyter.org/\">NBViewer</a>),\n",
       "  it may mean that your frontend doesn't currently support widgets.\n",
       "</p>\n"
      ],
      "text/plain": [
       "interactive(children=(FloatSlider(value=0.0, description='t', max=2.0, step=0.04), IntSlider(value=0, description='n', max=10), IntSlider(value=1, description='m', max=10, min=1), IntSlider(value=20, description='elev', max=180, min=-180), IntSlider(value=60, description='azim', max=180, min=-180), Dropdown(description='f1', index=1, options=('sin', 'cos'), value='cos'), Dropdown(description='f2', index=1, options=('sin', 'cos'), value='cos'), Output()), _dom_classes=('widget-interact',))"
      ]
     },
     "metadata": {},
     "output_type": "display_data"
    },
    {
     "data": {
      "text/plain": [
       "<function __main__.plotframe>"
      ]
     },
     "execution_count": 33,
     "metadata": {},
     "output_type": "execute_result"
    }
   ],
   "source": [
    "v = 1\n",
    "\n",
    "def generate(X, Y, t, n, m, v, f1, f2):\n",
    "    theta = arctan2(Y,X) # This does arctan(Y/X) but gets the sign right.\n",
    "    R = sqrt(X**2 + Y**2)\n",
    "    # We know z = J_n(k*r)*cos(n*theta)*cos(k*v*t)\n",
    "    # \n",
    "    f1 = {'sin':sin,'cos':cos}[f1]\n",
    "    f2 = {'sin':sin,'cos':cos}[f2]\n",
    "\n",
    "    result = jn(n,k(m,n)*R)*f1(n*theta)*f2(k(m,n)*v*t)\n",
    "    result[R>1] = 0  # we plot points from the square, but physically require this.\n",
    "    return result\n",
    "\n",
    "Npoints = 200\n",
    "xs = linspace(-1, 1, Npoints)\n",
    "ys = linspace(-1, 1, Npoints)\n",
    "X, Y = meshgrid(xs, ys)\n",
    "\n",
    "periods = 2\n",
    "frames_per = 50\n",
    "def plotframe(t=0,n=0,m=1,elev=20,azim=60,f1='cos',f2='cos'):\n",
    "    # one period is 2*pi/jn_zeros(n,m)[m-1]\n",
    "    t = t*2*pi/jn_zeros(n,m)[m-1]\n",
    "    fig = plt.figure()\n",
    "    ax = fig.add_subplot(111, projection='3d')\n",
    "    Z = generate(X, Y, t, n, m,v,f1,f2)\n",
    "    ax.plot_surface(X, Y, Z, rstride=4, cstride=4, alpha=0.3, cmap=cm.viridis, vmin=-1, vmax=1)\n",
    "\n",
    "    if n == 0:\n",
    "        ax.set_zlim(-1,1)\n",
    "    else:\n",
    "        ax.set_zlim(-0.5,0.5)\n",
    "    ax.view_init(elev=elev, azim=azim)\n",
    "    plt.draw()\n",
    "\n",
    "interact(plotframe,t=(0,periods,periods/frames_per),n=(0,10),m=(1,10),elev=(-180,180,1),azim=(-180,180,1),\n",
    "        f1=['sin','cos'],f2=['sin','cos'])"
   ]
  },
  {
   "cell_type": "markdown",
   "metadata": {},
   "source": [
    "And now let's plot a grid, complete with nodelines!"
   ]
  },
  {
   "cell_type": "code",
   "execution_count": 34,
   "metadata": {},
   "outputs": [
    {
     "data": {
      "application/vnd.jupyter.widget-view+json": {
       "model_id": "0202fefec01b4323926acd29d5abdda9",
       "version_major": 2,
       "version_minor": 0
      },
      "text/html": [
       "<p>Failed to display Jupyter Widget of type <code>interactive</code>.</p>\n",
       "<p>\n",
       "  If you're reading this message in the Jupyter Notebook or JupyterLab Notebook, it may mean\n",
       "  that the widgets JavaScript is still loading. If this message persists, it\n",
       "  likely means that the widgets JavaScript library is either not installed or\n",
       "  not enabled. See the <a href=\"https://ipywidgets.readthedocs.io/en/stable/user_install.html\">Jupyter\n",
       "  Widgets Documentation</a> for setup instructions.\n",
       "</p>\n",
       "<p>\n",
       "  If you're reading this message in another frontend (for example, a static\n",
       "  rendering on GitHub or <a href=\"https://nbviewer.jupyter.org/\">NBViewer</a>),\n",
       "  it may mean that your frontend doesn't currently support widgets.\n",
       "</p>\n"
      ],
      "text/plain": [
       "interactive(children=(FloatSlider(value=0.0, description='t', max=2.0, step=0.04), IntSlider(value=1, description='nmax', max=5, min=1), IntSlider(value=2, description='mmax', max=5, min=2), Output()), _dom_classes=('widget-interact',))"
      ]
     },
     "metadata": {},
     "output_type": "display_data"
    },
    {
     "data": {
      "text/plain": [
       "<function __main__.plotframe2>"
      ]
     },
     "execution_count": 34,
     "metadata": {},
     "output_type": "execute_result"
    }
   ],
   "source": [
    "v = 1\n",
    "\n",
    "Npoints = 100\n",
    "xs = linspace(-1, 1, Npoints)\n",
    "ys = linspace(-1, 1, Npoints)\n",
    "X, Y = meshgrid(xs, ys)\n",
    "\n",
    "periods = 2\n",
    "frames_per = 50\n",
    "def plotframe2(t=0,nmax=1,mmax=2):\n",
    "    # one period is 2*pi/jn_zeros(n,m)[m-1]\n",
    "    #t = t*2*pi/jn_zeros(n,m)[m-1]\n",
    "    ns = list(range(0,nmax))\n",
    "    ms = list(range(1,mmax))\n",
    "    fig = plt.figure(figsize=(6*len(ms),2*(len(ns))))\n",
    "    \n",
    "    axs = {}\n",
    "    rows, cols = len(ns), 2*len(ms)\n",
    "\n",
    "    idx = 1\n",
    "    for m in ms:\n",
    "        axs[m] = {}\n",
    "        for n in ns:\n",
    "            axs[m][n] = (fig.add_subplot(rows,cols,idx, projection='3d'),\n",
    "                        fig.add_subplot(rows,cols,idx+1))\n",
    "            idx += 2\n",
    "\n",
    "    \n",
    "    for m in ms:\n",
    "        for n in ns:\n",
    "            Z = generate(X, Y, t, n, m, v, 'cos', 'cos')\n",
    "            axs[m][n][0].plot_surface(X, Y, Z, rstride=4, cstride=4, alpha=0.3, cmap=cm.viridis, vmin=-0.7,vmax=0.7,)\n",
    "\n",
    "            if n == 0:\n",
    "                axs[m][n][0].set_zlim(-0.7,.7)\n",
    "                axs[m][n][1].imshow(Z,vmin=-0.7,vmax=0.7, cmap=cm.viridis)\n",
    "            else:\n",
    "                axs[m][n][0].set_zlim(-0.5,0.5)\n",
    "                axs[m][n][1].imshow(Z,vmin=-0.5,vmax=0.5, cmap=cm.viridis)\n",
    "            # The funny business with levels here is because you won't\n",
    "            # get a contour exactly at zero that necessarily tracks\n",
    "            # around both sides of the circle due to the fact that\n",
    "            # we've discretized things.\n",
    "            levels = [-0.000000001,0.0,0.000000001]\n",
    "            axs[m][n][1].contour(Z, levels, colors='k',\n",
    "                                 linestyles='solid', linewidths=2)\n",
    "    \n",
    "interact(plotframe2,t=(0,periods,periods/frames_per),nmax=(1,5),mmax=(2,5))"
   ]
  },
  {
   "cell_type": "code",
   "execution_count": null,
   "metadata": {
    "collapsed": true
   },
   "outputs": [],
   "source": []
  }
 ],
 "metadata": {
  "anaconda-cloud": {},
  "kernelspec": {
   "display_name": "Python 3",
   "language": "python",
   "name": "python3"
  },
  "language_info": {
   "codemirror_mode": {
    "name": "ipython",
    "version": 3
   },
   "file_extension": ".py",
   "mimetype": "text/x-python",
   "name": "python",
   "nbconvert_exporter": "python",
   "pygments_lexer": "ipython3",
   "version": "3.6.4"
  },
  "widgets": {
   "state": {
    "187bf1c8a1a848cbb57954fd9812a328": {
     "views": [
      {
       "cell_index": 4
      }
     ]
    },
    "6437861add6347a09bef3b100cd306f6": {
     "views": [
      {
       "cell_index": 12
      }
     ]
    },
    "78732e9500ed412e8d836533a711d1a6": {
     "views": [
      {
       "cell_index": 18
      }
     ]
    },
    "aecfbc50bf714764844f218b77e0d72d": {
     "views": [
      {
       "cell_index": 10
      }
     ]
    },
    "bd9eefaab00344069c6fe9a36908d02f": {
     "views": [
      {
       "cell_index": 6
      }
     ]
    },
    "edfba9f2ad8841ee9c7a0a6f77106b26": {
     "views": [
      {
       "cell_index": 20
      }
     ]
    },
    "fa3d7272a81944e1bcf08b1da7c6487e": {
     "views": [
      {
       "cell_index": 8
      }
     ]
    }
   },
   "version": "1.2.0"
  }
 },
 "nbformat": 4,
 "nbformat_minor": 1
}
