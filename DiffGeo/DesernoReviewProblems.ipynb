{
 "cells": [
  {
   "cell_type": "code",
   "execution_count": null,
   "metadata": {
    "collapsed": true
   },
   "outputs": [],
   "source": [
    "import numpy as np, scipy as sp, pandas as pd, seaborn as sns\n",
    "from ipywidgets import interact, fixed\n",
    "from matplotlib import pyplot as plt\n",
    "from numpy import sqrt, cosh, sinh, linspace"
   ]
  },
  {
   "cell_type": "code",
   "execution_count": null,
   "metadata": {
    "collapsed": true
   },
   "outputs": [],
   "source": [
    "L = 3\n",
    "kappa = 2\n",
    "h0 = 4"
   ]
  },
  {
   "cell_type": "code",
   "execution_count": null,
   "metadata": {},
   "outputs": [],
   "source": [
    "def f(x,sigma, L=3, kappa=2, h0=4):\n",
    "    lamb = sqrt(kappa/sigma)\n",
    "    ell = L/lamb\n",
    "    xtwiddle = x/lamb\n",
    "    num   = (cosh(ell) - 1)*(cosh(xtwiddle) - 1) - sinh(ell)*(sinh(xtwiddle) - xtwiddle)\n",
    "    denom = (cosh(ell) - 1)*(cosh(ell)      - 1) - sinh(ell)*(sinh(ell)      - ell)\n",
    "    return h0 * (1- num/denom)"
   ]
  },
  {
   "cell_type": "code",
   "execution_count": null,
   "metadata": {},
   "outputs": [],
   "source": [
    "x = linspace(0,L,100)\n",
    "plt.plot(x,f(x,1.0))\n",
    "plt.show()"
   ]
  },
  {
   "cell_type": "code",
   "execution_count": null,
   "metadata": {
    "collapsed": true
   },
   "outputs": [],
   "source": [
    "def plotspread(sigma=0.01, L=3, kappa=2, h0=4):\n",
    "    plt.clf()\n",
    "    x = linspace(0,L,100)\n",
    "    plt.plot(x,f(x,sigma,L,kappa,h0))\n",
    "    plt.title(sigma)\n",
    "    plt.show()"
   ]
  },
  {
   "cell_type": "code",
   "execution_count": null,
   "metadata": {},
   "outputs": [],
   "source": [
    "interact(plotspread,sigma=(0.01,100.0,1))"
   ]
  },
  {
   "cell_type": "code",
   "execution_count": null,
   "metadata": {
    "collapsed": true
   },
   "outputs": [],
   "source": []
  }
 ],
 "metadata": {
  "kernelspec": {
   "display_name": "Python [Root]",
   "language": "python",
   "name": "Python [Root]"
  },
  "language_info": {
   "codemirror_mode": {
    "name": "ipython",
    "version": 3
   },
   "file_extension": ".py",
   "mimetype": "text/x-python",
   "name": "python",
   "nbconvert_exporter": "python",
   "pygments_lexer": "ipython3",
   "version": "3.5.2"
  }
 },
 "nbformat": 4,
 "nbformat_minor": 2
}
