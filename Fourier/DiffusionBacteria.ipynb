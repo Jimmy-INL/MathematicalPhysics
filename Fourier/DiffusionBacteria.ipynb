{
 "metadata": {
  "kernelspec": {
   "codemirror_mode": {
    "name": "ipython",
    "version": 2
   },
   "display_name": "IPython (Python 2)",
   "language": "python",
   "name": "python2"
  },
  "name": "",
  "signature": "sha256:ff477b892ef591f385be09258e18a3819b55f9aba9f1fcef5e601ac176334b69"
 },
 "nbformat": 3,
 "nbformat_minor": 0,
 "worksheets": [
  {
   "cells": [
    {
     "cell_type": "code",
     "collapsed": false,
     "input": [
      "from __future__ import division\n",
      "%matplotlib inline\n",
      "from matplotlib import pyplot as plt\n",
      "import numpy as np, scipy as sp, pandas as pd, seaborn as sns\n",
      "sns.set_style('darkgrid') #if the seaborn/sns thing doesn't work, just leave it out."
     ],
     "language": "python",
     "metadata": {},
     "outputs": [],
     "prompt_number": 1
    },
    {
     "cell_type": "code",
     "collapsed": false,
     "input": [
      "R = 1\n",
      "c0 = 0.2 # bah units. We just want functional form\n",
      "r = np.linspace(0,2*R,1000) # get an array of 1000 evenly spaced points\n",
      "c = c0*(1-R/r)\n",
      "c[r<R] = 0\n",
      "plt.plot(r,c)"
     ],
     "language": "python",
     "metadata": {},
     "outputs": [
      {
       "metadata": {},
       "output_type": "pyout",
       "prompt_number": 3,
       "text": [
        "[<matplotlib.lines.Line2D at 0x109687650>]"
       ]
      },
      {
       "metadata": {},
       "output_type": "display_data",
       "png": "[encoded data removed]",
       "text": [
        "<matplotlib.figure.Figure at 0x1094e3250>"
       ]
      }
     ],
     "prompt_number": 3
    },
    {
     "cell_type": "code",
     "collapsed": false,
     "input": [],
     "language": "python",
     "metadata": {},
     "outputs": []
    },
    {
     "cell_type": "code",
     "collapsed": false,
     "input": [],
     "language": "python",
     "metadata": {},
     "outputs": []
    }
   ],
   "metadata": {}
  }
 ]
}