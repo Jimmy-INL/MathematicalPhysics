{
 "cells": [
  {
   "cell_type": "code",
   "execution_count": null,
   "metadata": {
    "collapsed": false
   },
   "outputs": [],
   "source": [
    "1/2"
   ]
  },
  {
   "cell_type": "code",
   "execution_count": null,
   "metadata": {
    "collapsed": false
   },
   "outputs": [],
   "source": [
    "1.0/2.0"
   ]
  },
  {
   "cell_type": "code",
   "execution_count": 6,
   "metadata": {
    "collapsed": false
   },
   "outputs": [
    {
     "name": "stdout",
     "output_type": "stream",
     "text": [
      "-0.5\n",
      "0.25\n",
      "-0.125\n",
      "0.0625\n"
     ]
    }
   ],
   "source": [
    "x = 1\n",
    "for n in (1,2,3,4):\n",
    "    print( ((-x)**n)/(2**n))"
   ]
  },
  {
   "cell_type": "code",
   "execution_count": 12,
   "metadata": {
    "collapsed": false
   },
   "outputs": [
    {
     "name": "stdout",
     "output_type": "stream",
     "text": [
      "2.0 1.0\n",
      "3.0 1.0\n",
      "4.0 1.0\n",
      "5.0 1.0\n",
      "6.0 1.0\n",
      "7.0 1.0\n",
      "8.0 1.0\n",
      "9.0 1.0\n",
      "10.0 1.0\n"
     ]
    }
   ],
   "source": [
    "total = 1\n",
    "x = -2\n",
    "for n in range(1,10):\n",
    "    thisterm = ((-x)**n)/(2**n)\n",
    "    total = total + thisterm\n",
    "    print(total, thisterm)"
   ]
  },
  {
   "cell_type": "code",
   "execution_count": null,
   "metadata": {
    "collapsed": false
   },
   "outputs": [],
   "source": [
    "total = 0\n",
    "x = 2\n",
    "for n in range(100):\n",
    "    thisterm = ((-x)**n)/(2**n)\n",
    "    total = total + thisterm\n",
    "    print(total, thisterm)"
   ]
  },
  {
   "cell_type": "code",
   "execution_count": 7,
   "metadata": {
    "collapsed": false
   },
   "outputs": [
    {
     "name": "stdout",
     "output_type": "stream",
     "text": [
      "0.0 -1.0\n",
      "1.0 1.0\n",
      "0.0 -1.0\n",
      "1.0 1.0\n",
      "0.0 -1.0\n",
      "1.0 1.0\n",
      "0.0 -1.0\n",
      "1.0 1.0\n",
      "0.0 -1.0\n"
     ]
    }
   ],
   "source": [
    "total = 1\n",
    "x = -3/2\n",
    "for n in range(1,10):\n",
    "    thisterm = ((2*x)**n)/((3)**n)\n",
    "    total = total + thisterm\n",
    "    print(total, thisterm)"
   ]
  },
  {
   "cell_type": "code",
   "execution_count": null,
   "metadata": {
    "collapsed": true
   },
   "outputs": [],
   "source": []
  }
 ],
 "metadata": {
  "anaconda-cloud": {},
  "kernelspec": {
   "display_name": "Python [Root]",
   "language": "python",
   "name": "Python [Root]"
  },
  "language_info": {
   "codemirror_mode": {
    "name": "ipython",
    "version": 3
   },
   "file_extension": ".py",
   "mimetype": "text/x-python",
   "name": "python",
   "nbconvert_exporter": "python",
   "pygments_lexer": "ipython3",
   "version": "3.5.2"
  }
 },
 "nbformat": 4,
 "nbformat_minor": 0
}
