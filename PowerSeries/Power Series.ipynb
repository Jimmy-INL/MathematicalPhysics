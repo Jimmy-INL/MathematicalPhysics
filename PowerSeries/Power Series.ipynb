{
 "metadata": {
  "name": "",
  "signature": "sha256:f7954eb24bd99cd84dcc4befa320c03a1e517b14664d1188527a1f83133559aa"
 },
 "nbformat": 3,
 "nbformat_minor": 0,
 "worksheets": [
  {
   "cells": [
    {
     "cell_type": "code",
     "collapsed": false,
     "input": [
      "%matplotlib inline\n",
      "from __future__ import division\n",
      "import matplotlib.pyplot as plt"
     ],
     "language": "python",
     "metadata": {},
     "outputs": []
    },
    {
     "cell_type": "code",
     "collapsed": false,
     "input": [
      "for n in (0,1,2,3,4):\n",
      "    print ((-1)**n)/(2**n)"
     ],
     "language": "python",
     "metadata": {},
     "outputs": []
    },
    {
     "cell_type": "code",
     "collapsed": false,
     "input": [
      "total = 0\n",
      "for n in (0,1,2,3,4):\n",
      "    thisterm = ((-1)**n)/(2**n)\n",
      "    total = total + thisterm\n",
      "    print total, thisterm"
     ],
     "language": "python",
     "metadata": {},
     "outputs": []
    },
    {
     "cell_type": "code",
     "collapsed": false,
     "input": [
      "total = 0\n",
      "for n in range(0,100):\n",
      "    thisterm = ((-1)**n)/(2**n)\n",
      "    total = total + thisterm\n",
      "    print total, thisterm"
     ],
     "language": "python",
     "metadata": {},
     "outputs": []
    },
    {
     "cell_type": "code",
     "collapsed": false,
     "input": [
      "total = 0\n",
      "x = 2\n",
      "for n in range(0,10):\n",
      "    thisterm = ((-x)**n)/(2**n)\n",
      "    total = total + thisterm\n",
      "    print total, thisterm"
     ],
     "language": "python",
     "metadata": {},
     "outputs": []
    },
    {
     "cell_type": "code",
     "collapsed": false,
     "input": [],
     "language": "python",
     "metadata": {},
     "outputs": []
    }
   ],
   "metadata": {}
  }
 ]
}