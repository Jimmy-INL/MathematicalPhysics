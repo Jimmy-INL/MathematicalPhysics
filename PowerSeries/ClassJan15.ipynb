{
 "cells": [
  {
   "cell_type": "code",
   "execution_count": 1,
   "metadata": {
    "collapsed": false
   },
   "outputs": [
    {
     "data": {
      "text/plain": [
       "0.5"
      ]
     },
     "execution_count": 1,
     "metadata": {},
     "output_type": "execute_result"
    }
   ],
   "source": [
    "1/2"
   ]
  },
  {
   "cell_type": "code",
   "execution_count": 2,
   "metadata": {
    "collapsed": false
   },
   "outputs": [
    {
     "data": {
      "text/plain": [
       "0.5"
      ]
     },
     "execution_count": 2,
     "metadata": {},
     "output_type": "execute_result"
    }
   ],
   "source": [
    "1.0/2.0"
   ]
  },
  {
   "cell_type": "code",
   "execution_count": 4,
   "metadata": {
    "collapsed": false
   },
   "outputs": [
    {
     "name": "stdout",
     "output_type": "stream",
     "text": [
      "-0.5\n",
      "0.25\n",
      "-0.125\n",
      "0.0625\n"
     ]
    }
   ],
   "source": [
    "x = 1\n",
    "for n in (1,2,3,4):\n",
    "    print( ((-x)**n)/(2**n))"
   ]
  },
  {
   "cell_type": "code",
   "execution_count": 8,
   "metadata": {
    "collapsed": false
   },
   "outputs": [
    {
     "name": "stdout",
     "output_type": "stream",
     "text": [
      "0.5 -0.5\n",
      "0.75 0.25\n",
      "0.625 -0.125\n",
      "0.6875 0.0625\n",
      "0.65625 -0.03125\n",
      "0.671875 0.015625\n",
      "0.6640625 -0.0078125\n",
      "0.66796875 0.00390625\n",
      "0.666015625 -0.001953125\n",
      "0.6669921875 0.0009765625\n"
     ]
    }
   ],
   "source": [
    "total = 1\n",
    "x = -2\n",
    "for n in (1,2,3,4,5,6,7,8,9,10):\n",
    "    thisterm = ((-x)**n)/(2**n)\n",
    "    total = total + thisterm\n",
    "    print(total, thisterm)"
   ]
  },
  {
   "cell_type": "code",
   "execution_count": 13,
   "metadata": {
    "collapsed": false
   },
   "outputs": [
    {
     "name": "stdout",
     "output_type": "stream",
     "text": [
      "1.0 1.0\n",
      "0.0 -1.0\n",
      "1.0 1.0\n",
      "0.0 -1.0\n",
      "1.0 1.0\n",
      "0.0 -1.0\n",
      "1.0 1.0\n",
      "0.0 -1.0\n",
      "1.0 1.0\n",
      "0.0 -1.0\n",
      "1.0 1.0\n",
      "0.0 -1.0\n",
      "1.0 1.0\n",
      "0.0 -1.0\n",
      "1.0 1.0\n",
      "0.0 -1.0\n",
      "1.0 1.0\n",
      "0.0 -1.0\n",
      "1.0 1.0\n",
      "0.0 -1.0\n",
      "1.0 1.0\n",
      "0.0 -1.0\n",
      "1.0 1.0\n",
      "0.0 -1.0\n",
      "1.0 1.0\n",
      "0.0 -1.0\n",
      "1.0 1.0\n",
      "0.0 -1.0\n",
      "1.0 1.0\n",
      "0.0 -1.0\n",
      "1.0 1.0\n",
      "0.0 -1.0\n",
      "1.0 1.0\n",
      "0.0 -1.0\n",
      "1.0 1.0\n",
      "0.0 -1.0\n",
      "1.0 1.0\n",
      "0.0 -1.0\n",
      "1.0 1.0\n",
      "0.0 -1.0\n",
      "1.0 1.0\n",
      "0.0 -1.0\n",
      "1.0 1.0\n",
      "0.0 -1.0\n",
      "1.0 1.0\n",
      "0.0 -1.0\n",
      "1.0 1.0\n",
      "0.0 -1.0\n",
      "1.0 1.0\n",
      "0.0 -1.0\n",
      "1.0 1.0\n",
      "0.0 -1.0\n",
      "1.0 1.0\n",
      "0.0 -1.0\n",
      "1.0 1.0\n",
      "0.0 -1.0\n",
      "1.0 1.0\n",
      "0.0 -1.0\n",
      "1.0 1.0\n",
      "0.0 -1.0\n",
      "1.0 1.0\n",
      "0.0 -1.0\n",
      "1.0 1.0\n",
      "0.0 -1.0\n",
      "1.0 1.0\n",
      "0.0 -1.0\n",
      "1.0 1.0\n",
      "0.0 -1.0\n",
      "1.0 1.0\n",
      "0.0 -1.0\n",
      "1.0 1.0\n",
      "0.0 -1.0\n",
      "1.0 1.0\n",
      "0.0 -1.0\n",
      "1.0 1.0\n",
      "0.0 -1.0\n",
      "1.0 1.0\n",
      "0.0 -1.0\n",
      "1.0 1.0\n",
      "0.0 -1.0\n",
      "1.0 1.0\n",
      "0.0 -1.0\n",
      "1.0 1.0\n",
      "0.0 -1.0\n",
      "1.0 1.0\n",
      "0.0 -1.0\n",
      "1.0 1.0\n",
      "0.0 -1.0\n",
      "1.0 1.0\n",
      "0.0 -1.0\n",
      "1.0 1.0\n",
      "0.0 -1.0\n",
      "1.0 1.0\n",
      "0.0 -1.0\n",
      "1.0 1.0\n",
      "0.0 -1.0\n",
      "1.0 1.0\n",
      "0.0 -1.0\n",
      "1.0 1.0\n",
      "0.0 -1.0\n"
     ]
    }
   ],
   "source": [
    "total = 0\n",
    "x = 2\n",
    "for n in range(100):\n",
    "    thisterm = ((-x)**n)/(2**n)\n",
    "    total = total + thisterm\n",
    "    print(total, thisterm)"
   ]
  },
  {
   "cell_type": "code",
   "execution_count": null,
   "metadata": {
    "collapsed": false
   },
   "outputs": [],
   "source": []
  }
 ],
 "metadata": {
  "kernelspec": {
   "display_name": "Python 3",
   "language": "python",
   "name": "python3"
  },
  "language_info": {
   "codemirror_mode": {
    "name": "ipython",
    "version": 3
   },
   "file_extension": ".py",
   "mimetype": "text/x-python",
   "name": "python",
   "nbconvert_exporter": "python",
   "pygments_lexer": "ipython3",
   "version": "3.5.1"
  }
 },
 "nbformat": 4,
 "nbformat_minor": 0
}
