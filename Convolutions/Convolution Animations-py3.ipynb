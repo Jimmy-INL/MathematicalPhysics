{
 "cells": [
  {
   "cell_type": "markdown",
   "metadata": {
    "deletable": true,
    "editable": true
   },
   "source": [
    "# Animating Convolutions\n",
    "\n",
    "We've been talking about [convolutions](http://en.wikipedia.org/wiki/Convolution) in my mathematical physics class, and I thought some animations would help. Surprisingly, I couldn't find a great example on the web. I did find what looks like some nice matlab code at [Swarthmore](http://lpsa.swarthmore.edu/Convolution/Convolution3.html)[1], and the wikipedia page linked above has some nice animations with matlab source, but I don't have matlab. I probably spent more time looking for a pre-existing matplotlib animation than it took me to cook one up[2].\n",
    "\n",
    "Mathematically, the [convolution] of two functions $f$ and $g$ is defined as\n",
    "\n",
    "$f \\ast g = \\int_{-\\infty}^{\\infty} f(\\tau)g(t-\\tau)d\\tau$\n",
    "\n",
    "Note that the integration $d\\tau$ gives us back a function of $t$, and that we can think of a convolution as \"sliding\" one function across the other. In fact, [\"A Student's Guide to Fourier Transforms\"](http://books.google.com/books/about/A_Student_s_Guide_to_Fourier_Transforms.html?id=_T99VW0ARfkC) by J.F. James (one of my favorite books, although I own the 1995 edition) has the explanation I like to use, defining things in terms of a signal and an instrument function. You can find good enough explanations in those places (and in others) that I'll just point you elsewhere instead of going through the math/intuition here. Instead, I want to make some animations.\n",
    "\n",
    "So, first of all, let's handle our standard imports and then define a bunch of shapes that we'll want to convolve. I'll calculate the convolution numerically, so I'll set up the total number of points (`nx`) here. I'll also decide that we're going to plot the convolution from $-3\\pi$ to $3\\pi$ (`fullx`) and each of the functions across a smaller domain $-\\pi$ to $\\pi$ (`subx`) that slides across the full domain. You can add more function just by adding them to the `Shapes` dictionary. Later on, we'll use the dictionary keys to make dropdown menus and plot legends.[2]\n",
    "\n",
    "[1] Most uninspired frisbee cheer from my college career: \"Swat, Swat, we play you a lot. Go Swat!\"\n",
    "\n",
    "[2] Note to self: I may want to add a filled region with fill_between, and Jake Vanderplas tells me how to animate such a thing [here](http://matplotlib.1069221.n5.nabble.com/animation-of-a-fill-between-region-td42814.html)"
   ]
  },
  {
   "cell_type": "code",
   "execution_count": 1,
   "metadata": {
    "collapsed": false,
    "deletable": true,
    "editable": true
   },
   "outputs": [
    {
     "name": "stderr",
     "output_type": "stream",
     "text": [
      "/Users/mglerner/anaconda3/envs/nodev_up/lib/python3.6/site-packages/ipykernel/__main__.py:42: VisibleDeprecationWarning: using a non-integer number instead of an integer will result in an error in the future\n",
      "/Users/mglerner/anaconda3/envs/nodev_up/lib/python3.6/site-packages/ipykernel/__main__.py:45: VisibleDeprecationWarning: using a non-integer number instead of an integer will result in an error in the future\n",
      "/Users/mglerner/anaconda3/envs/nodev_up/lib/python3.6/site-packages/ipykernel/__main__.py:48: VisibleDeprecationWarning: using a non-integer number instead of an integer will result in an error in the future\n"
     ]
    }
   ],
   "source": [
    "# all py3k now\n",
    "#%matplotlib inline\n",
    "# frustratingly, we need this or it doesn't work\n",
    "#%matplotlib nbagg \n",
    "import numpy as np\n",
    "from numpy import pi, linspace, ones_like, arange, sin, cos, zeros_like, abs\n",
    "import matplotlib.pyplot as plt\n",
    "from scipy import signal\n",
    "\n",
    "nx = 100\n",
    "fullx = linspace(-3*pi, 3*pi, 3*nx+1)\n",
    "subx = linspace(-pi, pi, nx+1)\n",
    "dx = subx[1]-subx[0]\n",
    "Shapes = {}\n",
    "\n",
    "Shapes['x'] = subx\n",
    "Shapes['x2'] = subx**2\n",
    "Shapes['bigbox'] = ones_like(subx)\n",
    "Shapes['sin(.5x)'] = sin(0.5*subx+np.pi/2)\n",
    "Shapes['sin'] = sin(subx)\n",
    "Shapes['cos'] = cos(subx)\n",
    "\n",
    "Shapes['sin(2x)'] = sin(2*subx)\n",
    "Shapes['sin(5x)'] = sin(5*subx)\n",
    "Shapes['gaussian'] = signal.gaussian(subx.shape[0],std=int(subx.shape[0]/10))\n",
    "\n",
    "Shapes['smallbox'] = zeros_like(subx)\n",
    "Shapes['smallbox'][int(Shapes['smallbox'].shape[0]/4):int(Shapes['smallbox'].shape[0]*3/4)] = 1.\n",
    "Shapes['negsmallbox'] = -Shapes['smallbox']\n",
    "\n",
    "Shapes['smallx2'] = subx**2\n",
    "Shapes['smallx2'][0:int(Shapes['smallbox'].shape[0]/4)] = 0.\n",
    "Shapes['smallx2'][int(Shapes['smallbox'].shape[0]*3/4):] = 0.\n",
    "\n",
    "Shapes['negwedge'] = Shapes['x'].copy()\n",
    "Shapes['negwedge'][0:subx.shape[0]] += Shapes['negwedge'][0]\n",
    "\n",
    "Shapes['poswedge'] = Shapes['x'].copy()\n",
    "Shapes['poswedge'][0:subx.shape[0]] -= Shapes['poswedge'][0]\n",
    "\n",
    "Shapes['smallwedge'] = zeros_like(subx)\n",
    "Shapes['smallwedge'][0:int(subx.shape[0])/2] = Shapes['poswedge'][0:int(subx.shape[0])/2]\n",
    "\n",
    "Shapes['saw'] = Shapes['smallwedge'].copy()\n",
    "Shapes['saw'][int(subx.shape[0])/2:] = Shapes['negwedge'][int(subx.shape[0])/2:]\n",
    "\n",
    "Shapes['triangle'] = Shapes['saw'].copy()\n",
    "Shapes['triangle'][int(subx.shape[0])/2:] = -Shapes['saw'][int(subx.shape[0])/2:]\n",
    "\n",
    "Shapes['delta'] = zeros_like(subx)\n",
    "Shapes['delta'][int(subx.shape[0]/2)] = 1/dx"
   ]
  },
  {
   "cell_type": "markdown",
   "metadata": {
    "deletable": true,
    "editable": true
   },
   "source": [
    "~I've already posted [a bit](http://www.mglerner.com/blog/?p=28) about how fantastic Jake Vanderplas's [JSAnimation](https://github.com/jakevdp/JSAnimation) package is, so let's jump right in.~ (for the py3k version, I'm using non-static notebooks. Meaning you have to run this interactively. The old version is still in the git repo) The only remaining mathematical question is how, exactly, we're going to calculate the convolution. There are built-in functions that will do this for us (most notably `numpy.convolve` and `scipy.signal.fftconvolve`). Part of the point of writing this all out, however, is to write as much of the code (or, at least, the mathematical part of the code) ourselves. \n",
    "\n",
    "We understand the convolution as an integral, so let's just calculate the integral like a Reimann sum: for a given offset $t$, we'll calculate the integral by dividing it up into chunks of length $d\\tau$ (called $dx$ in the code below) and adding up each $f(\\tau)g(\\tau-t)d\\tau$ like they were little Reimann sum rectangles centered at each of the discrete points in our arrays, each with width $d\\tau$. That also makes our definition of a $\\delta$ function obvious: it has height $1/dx$ and width $dx$.\n",
    "\n",
    "We'll also make things look pretty: one function in blue, one in green, and we build up the convolution piece by piece as a dashed line.\n",
    "\n",
    "One caveat: note that we need to reverse one of the functions thanks to the minus sign in our integral. If we don't do this, the output will look flipped around the y-axis. (students: I highly encourage you to play with this notebook interactively to see that for yourself. Just replace `_u1rev` with `_u1`.\n",
    "\n",
    "The \"`if i == 0: ...`\" part just resets our convolution to zero in case we loop through again."
   ]
  },
  {
   "cell_type": "code",
   "execution_count": 14,
   "metadata": {
    "collapsed": true,
    "deletable": true,
    "editable": true
   },
   "outputs": [],
   "source": [
    "#from JSAnimation import IPython_display\n",
    "from matplotlib import animation\n",
    "from ipywidgets import interact\n",
    "import ipywidgets as widgets\n",
    "\n",
    "def singleanimation(u1,u2):\n",
    "\n",
    "    fig, ax = plt.subplots()\n",
    "    _u1 = Shapes[u1]\n",
    "    _u2 = Shapes[u2]\n",
    "    _u1rev = _u1[::-1]\n",
    "    yconv = zeros_like(fullx)\n",
    "    line1, = ax.plot(fullx, yconv, label=u1)\n",
    "    line2, = ax.plot(fullx, yconv, label=u2)\n",
    "    line3, = ax.plot(fullx, yconv,'k--',linewidth=2,label=u1+r' $\\ast$ ' + u2)\n",
    "    line4, = ax.plot(fullx, zeros_like(fullx), 'r-',label='signal')\n",
    "    # This is one easy way to get the y scale\n",
    "    scale = 1.1*max(abs(signal.fftconvolve(_u1,_u2)).max()*dx, abs(_u1).max(), abs(_u2).max()) \n",
    "    ax.set_ylim([-scale,scale])\n",
    "    leg = ax.legend(loc='lower right', fancybox=True)\n",
    "    leg.get_frame().set_alpha(0.3)\n",
    "\n",
    "    def init():\n",
    "        line1.set_ydata(np.ma.array(zeros_like(fullx), mask=True))\n",
    "        line2.set_ydata(np.ma.array(zeros_like(fullx), mask=True))\n",
    "        line3.set_ydata(np.ma.array(zeros_like(fullx), mask=True))\n",
    "        return line1,line2,line3\n",
    "\n",
    "    def animate(i):\n",
    "        #print(\"I got called\")\n",
    "        y1 = zeros_like(fullx)\n",
    "        y2 = zeros_like(fullx)\n",
    "        y3 = zeros_like(fullx)\n",
    "        y3[0:_u1.shape[0]] = _u1\n",
    "        y1[i:i+subx.shape[0]] = _u1rev\n",
    "        y2[subx.shape[0]:2*subx.shape[0]] = _u2\n",
    "        _yconv = (y1 * y2 * dx).sum()\n",
    "        yconv[int(subx.shape[0]/2)+i] = _yconv\n",
    "        if i == 0:\n",
    "            for j in range(yconv.shape[0]):\n",
    "                yconv[j] = 0\n",
    "\n",
    "        line1.set_ydata(y1)  # update the data\n",
    "        line2.set_ydata(y2)  # update the data\n",
    "        line3.set_ydata(yconv)  # update the data\n",
    "        line4.set_ydata(y3)\n",
    "        return line1,line2,line3, line4\n",
    "\n",
    "    return animation.FuncAnimation(fig, animate, frames=fullx.shape[0] - subx.shape[0], init_func=init,\n",
    "                                  interval=2, blit=True,)"
   ]
  },
  {
   "cell_type": "markdown",
   "metadata": {
    "deletable": true,
    "editable": true
   },
   "source": [
    "And let's see what it looks like for a realistic example: a wedge-shaped signal convolved with a gaussian-shaped instrument function:"
   ]
  },
  {
   "cell_type": "code",
   "execution_count": 15,
   "metadata": {
    "collapsed": false
   },
   "outputs": [
    {
     "data": {
      "application/vnd.jupyter.widget-view+json": {
       "model_id": "7e4c0ff88a39480b91e532bfbbe5e25f"
      }
     },
     "metadata": {},
     "output_type": "display_data"
    }
   ],
   "source": [
    "play = widgets.Play(\n",
    "#     interval=10,\n",
    "    value=50,\n",
    "    min=0,\n",
    "    max=100,\n",
    "    step=1,\n",
    "    description=\"Press play\",\n",
    "    disabled=False\n",
    ")\n",
    "slider = widgets.IntSlider()\n",
    "widgets.jslink((play, 'value'), (slider, 'value'))\n",
    "widgets.HBox([play, slider])\n"
   ]
  },
  {
   "cell_type": "code",
   "execution_count": 3,
   "metadata": {
    "collapsed": false,
    "deletable": true,
    "editable": true
   },
   "outputs": [],
   "source": [
    "ani = singleanimation('sin','cos')\n",
    "#plt.show()"
   ]
  },
  {
   "cell_type": "markdown",
   "metadata": {
    "deletable": true,
    "editable": true
   },
   "source": [
    "So that's nice, and we can use it to look at a lot of convolutions. If you're playing with this interactively, it's quick and easy to try out new convolutions ... so do it!"
   ]
  },
  {
   "cell_type": "markdown",
   "metadata": {
    "deletable": true,
    "editable": true
   },
   "source": [
    "Let's see if we can use ~Jake Vanderplas's [static IPython widgets](https://github.com/jakevdp/ipywidgets)~ `interact` to make the animation better. In order to do that, we change things around a bit to give ourselves a function that takes three parameters, $f$, $g$, and $t$, and returns a plot. The advantage will be that it gives us a bunch of radio buttons at the bottom that we can use to select the different functions.\n",
    "\n",
    "Fair warning: the code in this post runs at reasonable speed in an IPython session, but it takes a *long* time in a notebook (hours) once you start calculating more than a couple of combinations of functions. \n",
    "\n",
    "We could certainly speed this up a bit by not calculating the convolutions explicitly, but it's really the image processing that slows us down. If you're playing around with this notebook interactively, I recommend tweaking the animation above instead; that's still reasonably fast. If you really want the below version, drastically decrease the number of options you pass to the `RadioWidget` (e.g. `f=RadioWidget(['smallbox','bigbox']),g=RadioWidget(['smallbox','saw'])`) and consider increasing the step size in the `RangeWidget` (e.g. `t=RangeWidget(0,2*nx,30)`)."
   ]
  },
  {
   "cell_type": "code",
   "execution_count": 16,
   "metadata": {
    "collapsed": true,
    "deletable": true,
    "editable": true
   },
   "outputs": [],
   "source": [
    "#from ipywidgets import StaticInteract, RangeWidget, RadioWidget, DropDownWidget\n",
    "#import ipywidgets as ipyw\n",
    "import ipywidgets.widgets as ipyww\n",
    "#import ipywidgets.interact as ipywi\n",
    "#reload(ipyww)\n",
    "#reload(ipywi)\n",
    "\n",
    "# pre-calculate the ymax and ymin\n",
    "scale = {}\n",
    "for f in Shapes.keys():\n",
    "    scale[f] = {}\n",
    "    for g in Shapes.keys():\n",
    "        _u1, _u2 = Shapes[f],Shapes[g]\n",
    "        scale[f][g] = 1.2*max(abs(signal.convolve(_u1,_u2)).max()*dx, abs(_u1).max(), abs(_u2).max())\n",
    "\n",
    "def cplot(f,g,t):\n",
    "    plt.clf()\n",
    "    fig, ax = plt.subplots()\n",
    "    _u1 = Shapes[f]\n",
    "    _u2 = Shapes[g]\n",
    "    _u1rev = _u1[::-1]\n",
    "    nsubx = subx.shape[0]\n",
    "    nsubx2 = int(subx.shape[0]/2)\n",
    "    nfullx = fullx.shape[0]\n",
    "    \n",
    "    y1 = zeros_like(fullx)\n",
    "    y2 = zeros_like(fullx)\n",
    "\n",
    "    y1[:subx.shape[0]] = _u1rev\n",
    "    y2[nsubx:2*nsubx] = _u2\n",
    "\n",
    "    #scale = 1.2*max(abs(signal.convolve(_u1,_u2)).max()*dx, abs(_u1).max(), abs(_u2).max()) \n",
    "    yconv = zeros_like(fullx)\n",
    "    for i in range(t):\n",
    "        y1 = y1 * 0.\n",
    "        y1[i:i+subx.shape[0]] = _u1rev\n",
    "        yconv[nsubx2+i] = (y1 * y2).sum()*dx\n",
    "    _y1 = zeros_like(fullx)\n",
    "    _y1[:_u1.shape[0]] = _u1\n",
    "    line1, = ax.plot(fullx, _y1, 'b-', label=f)\n",
    "    line2, = ax.plot(fullx, y2, 'g-', label=g)\n",
    "    line3, = ax.plot(fullx, yconv,'k--',linewidth=2,label=f + r' $\\ast$ ' + g)\n",
    "    line4, = ax.plot(fullx, y1, 'r-', label='flipped ' + f + ' (sliding)')\n",
    "    ax.set_ylim([-scale[f][g],scale[f][g]])\n",
    "    leg = ax.legend(loc='lower right', fancybox=True)\n",
    "    leg.get_frame().set_alpha(0.3)\n",
    "    plt.show()\n",
    "    #return fig"
   ]
  },
  {
   "cell_type": "code",
   "execution_count": 17,
   "metadata": {
    "collapsed": false
   },
   "outputs": [
    {
     "data": {
      "application/vnd.jupyter.widget-view+json": {
       "model_id": "82a7680f1fab446d80469a7fd592602d"
      }
     },
     "metadata": {},
     "output_type": "display_data"
    }
   ],
   "source": [
    "play = widgets.Play(\n",
    "#     interval=10,\n",
    "    value=0,\n",
    "    min=0,\n",
    "    max=2*nx,\n",
    "    step=5,\n",
    "    description=\"Press play\",\n",
    "    disabled=False\n",
    ")\n",
    "slider = widgets.IntSlider()\n",
    "widgets.jslink((play, 'value'), (slider, 'value'))\n",
    "widgets.HBox([play, slider])\n"
   ]
  },
  {
   "cell_type": "code",
   "execution_count": 8,
   "metadata": {
    "collapsed": true,
    "deletable": true,
    "editable": true
   },
   "outputs": [],
   "source": [
    "#%matplotlib inline"
   ]
  },
  {
   "cell_type": "code",
   "execution_count": 9,
   "metadata": {
    "collapsed": false,
    "deletable": true,
    "editable": true,
    "scrolled": false
   },
   "outputs": [
    {
     "data": {
      "application/vnd.jupyter.widget-view+json": {
       "model_id": "1d2db26f64174cc59f7b691654301803"
      }
     },
     "metadata": {},
     "output_type": "display_data"
    },
    {
     "data": {
      "text/plain": [
       "<function __main__.cplot>"
      ]
     },
     "execution_count": 9,
     "metadata": {},
     "output_type": "execute_result"
    }
   ],
   "source": [
    "interact(cplot,t=ipyww.IntSlider(description=\"t\",min=0,max=2*nx,step=5),\n",
    "         f=ipyww.RadioButtons(options=['poswedge','x2']),\n",
    "         g=ipyww.RadioButtons(options=['smallx2','delta']))"
   ]
  },
  {
   "cell_type": "code",
   "execution_count": 10,
   "metadata": {
    "collapsed": false,
    "deletable": true,
    "editable": true
   },
   "outputs": [
    {
     "data": {
      "application/vnd.jupyter.widget-view+json": {
       "model_id": "b246642bc00943a18784fb484e32ddbf"
      }
     },
     "metadata": {},
     "output_type": "display_data"
    }
   ],
   "source": [
    "_=interact(cplot,t=ipyww.IntSlider(description=\"t\",min=0,max=2*nx,step=5),\n",
    "                     f=ipyww.Dropdown(options=['poswedge','x2']),\n",
    "                     g=ipyww.Dropdown(options=['smallx2','delta']))"
   ]
  },
  {
   "cell_type": "code",
   "execution_count": 11,
   "metadata": {
    "collapsed": false,
    "deletable": true,
    "editable": true,
    "scrolled": false
   },
   "outputs": [
    {
     "data": {
      "application/vnd.jupyter.widget-view+json": {
       "model_id": "2ea8e0df8cbe4191a30cd46d2a72d37d"
      }
     },
     "metadata": {},
     "output_type": "display_data"
    }
   ],
   "source": [
    "_=interact(cplot,t=ipyww.IntSlider(description=\"t\",min=0,max=2*nx,step=5),\n",
    "                     f=ipyww.RadioButtons(options=list(Shapes.keys())),\n",
    "                     g=ipyww.RadioButtons(options=list(Shapes.keys())))"
   ]
  },
  {
   "cell_type": "markdown",
   "metadata": {
    "deletable": true,
    "editable": true
   },
   "source": [
    "So that answers most of our questions about what these things should look like. Not all of them, though. Play around a bit with $\\sin(x) \\ast x$ for the different versions of $\\sin$. Then work out the convolution integral. With a $u$ substitution ($u=\\tau$, $dv=sin(t-\\tau)d\\tau)$, we get $\\sin(x) \\ast x = \\tau\\cos(t-\\tau) + \\sin(t-\\tau)$. We can evaluate that for any discrete range we'd like, but it doesn't converge for $-\\infty$ to $\\infty$. Question: which other functions above are like that? How does this relate to our definition of \"nice\" functions in class?"
   ]
  },
  {
   "cell_type": "markdown",
   "metadata": {
    "deletable": true,
    "editable": true
   },
   "source": []
  }
 ],
 "metadata": {
  "kernelspec": {
   "display_name": "Python 3",
   "language": "python",
   "name": "python3"
  },
  "language_info": {
   "codemirror_mode": {
    "name": "ipython",
    "version": 3
   },
   "file_extension": ".py",
   "mimetype": "text/x-python",
   "name": "python",
   "nbconvert_exporter": "python",
   "pygments_lexer": "ipython3",
   "version": "3.6.0"
  },
  "widgets": {
   "state": {
    "3233ab6763634dce8bb3967dc082e2e7": {
     "views": [
      {
       "cell_index": 10
      }
     ]
    }
   },
   "version": "1.2.0"
  }
 },
 "nbformat": 4,
 "nbformat_minor": 1
}
