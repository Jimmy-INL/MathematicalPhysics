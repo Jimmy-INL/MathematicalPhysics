{
 "cells": [
  {
   "cell_type": "markdown",
   "metadata": {},
   "source": [
    "# The plucked and hammered string\n",
    "\n",
    "This is taken mainly from Boas, Ch. 17 and 13, and serves as a nice review of much of the class.\n",
    "\n",
    "## Given the shape of a plucked string at t=0, what does its time evolution look like?\n",
    "\n",
    "Say we have plucked a guitar (or fiddle!) string in the following shape at time $t=0$:"
   ]
  },
  {
   "cell_type": "code",
   "execution_count": 1,
   "metadata": {},
   "outputs": [],
   "source": [
    "import numpy as np, scipy as sp, seaborn as sns\n",
    "#%matplotlib inline\n",
    "from matplotlib import pyplot as plt\n",
    "from ipywidgets import interact, fixed"
   ]
  },
  {
   "cell_type": "code",
   "execution_count": 2,
   "metadata": {},
   "outputs": [
    {
     "data": {
      "image/png": "[encoded data removed]",
      "text/plain": [
       "<Figure size 720x72 with 1 Axes>"
      ]
     },
     "metadata": {},
     "output_type": "display_data"
    }
   ],
   "source": [
    "ell = 10\n",
    "h = 1\n",
    "npts = 1000\n",
    "x = np.linspace(0,ell,npts)\n",
    "y_exact = 2*h*x/ell\n",
    "y_exact[npts//2:] = -2*h*x[npts//2:]/ell + 2*h\n",
    "fig = plt.figure(figsize=(ell,h))\n",
    "plt.plot(x,y_exact)\n",
    "plt.xlabel('x')\n",
    "plt.ylabel('y')\n",
    "plt.vlines([ell/2],[0],[h],linestyle='--',label='h')\n",
    "plt.text(1.02*ell/2,h/2,'h')\n",
    "plt.show()"
   ]
  },
  {
   "cell_type": "markdown",
   "metadata": {},
   "source": [
    "What does the time evolution look like? Our strategy is\n",
    "\n",
    "1. Find the appropriate PDE\n",
    "2. Solve it in general\n",
    "3. Solve it for our particular initial conditions\n",
    "\n",
    "From Chapter 13 (and our class discussions and your intro mechanics class), we know that we're looking for the wave equation\n",
    "\n",
    "$$\n",
    "\\nabla^2u=\\frac{1}{v^2}\\frac{\\partial^2u}{\\partial t^2}\n",
    "$$\n",
    "\n",
    "Here, we look specifically for $y(x,t)$, and this becomes \n",
    "\n",
    "$$\n",
    "\\frac{\\partial^2y}{\\partial x^2} = \\frac{1}{v^2}\\frac{\\partial^2 y}{\\partial t^2}\n",
    "$$\n",
    "\n",
    "... Standard SOV ...\n",
    "\n",
    "... Solve the thing ..."
   ]
  },
  {
   "cell_type": "markdown",
   "metadata": {},
   "source": [
    "## Warm up problem\n",
    "\n",
    "Let f(x) be 0 from 0 to $l$, then 1 from $l$ to $2l$, then repeat. What are the $c_n$'s?\n",
    "\n",
    "... we solved this, and found ...\n",
    "\n",
    "$$\n",
    "c_n = \\left\\{\\begin{matrix}\n",
    "\\frac{1}{2} & n=0\\\\ \n",
    "0 & n \\mathrm{\\ is\\ even\\ (cosine\\ terms)}\\\\ \n",
    "\\frac{-1}{in\\pi} &  n \\mathrm{\\ is\\ odd}\n",
    "\\end{matrix}\\right.\n",
    "$$\n",
    "\n",
    "Which we can plot"
   ]
  },
  {
   "cell_type": "code",
   "execution_count": 3,
   "metadata": {},
   "outputs": [
    {
     "data": {
      "application/vnd.jupyter.widget-view+json": {
       "model_id": "e0689947abc84608b46f1c27f1f78954",
       "version_major": 2,
       "version_minor": 0
      },
      "text/html": [
       "<p>Failed to display Jupyter Widget of type <code>interactive</code>.</p>\n",
       "<p>\n",
       "  If you're reading this message in the Jupyter Notebook or JupyterLab Notebook, it may mean\n",
       "  that the widgets JavaScript is still loading. If this message persists, it\n",
       "  likely means that the widgets JavaScript library is either not installed or\n",
       "  not enabled. See the <a href=\"https://ipywidgets.readthedocs.io/en/stable/user_install.html\">Jupyter\n",
       "  Widgets Documentation</a> for setup instructions.\n",
       "</p>\n",
       "<p>\n",
       "  If you're reading this message in another frontend (for example, a static\n",
       "  rendering on GitHub or <a href=\"https://nbviewer.jupyter.org/\">NBViewer</a>),\n",
       "  it may mean that your frontend doesn't currently support widgets.\n",
       "</p>\n"
      ],
      "text/plain": [
       "interactive(children=(IntSlider(value=3, description='N', max=20, min=1), Output()), _dom_classes=('widget-interact',))"
      ]
     },
     "metadata": {},
     "output_type": "display_data"
    },
    {
     "data": {
      "image/png": "[encoded data removed]",
      "text/plain": [
       "<Figure size 432x288 with 1 Axes>"
      ]
     },
     "metadata": {},
     "output_type": "display_data"
    }
   ],
   "source": [
    "def plot_warmup_terms(N=3):\n",
    "    x = np.linspace(-2.1*ell,2.1*ell,1000)\n",
    "    fig = plt.figure()\n",
    "    y = np.zeros_like(x)\n",
    "    for n in range(0,N+1):\n",
    "        if n == 0:\n",
    "            this_term = np.zeros_like(x) + 1/2\n",
    "        elif n%2 == 0: \n",
    "            continue\n",
    "        else:\n",
    "            pos = 0 # FixMe\n",
    "            neg = 0 # FixMe\n",
    "            this_term = pos + neg\n",
    "        plt.plot(x,this_term,alpha=0.5,label='term $\\pm${n}'.format(n=n))\n",
    "        y = y + this_term\n",
    "    plt.plot(x,y,'k--',label='approximation')\n",
    "    plt.legend()\n",
    "    plt.show()\n",
    "_ = interact(plot_warmup_terms,N=(1,20))"
   ]
  },
  {
   "cell_type": "markdown",
   "metadata": {},
   "source": [
    "## Back to the topic at hand\n",
    "\n",
    "... solving, solving ...\n",
    "\n",
    "We get that the $b_n$'s for our plucked string are $\\frac{8h}{n^2\\pi^2}\\sin\\frac{n\\pi}{2}$ where the sign goes +1, 0, -1, 0, +1, 0, ... so\n",
    "\n",
    "$$\n",
    "f(x,0) = \\frac{8h}{\\pi^2}\\left(\\sin\\frac{\\pi x}{l}\n",
    "-\\frac{1}{3^2}\\sin\\frac{3\\pi x}{l}\n",
    "+\\frac{1}{5^2}\\sin\\frac{5\\pi x}{l}\n",
    "...\\right)\n",
    "$$\n",
    "\n",
    "and let's just go right ahead and plot that. How are we going to get the series of ones and zeros? $(-1)^{(n-1)/2}$ does it, as long as we're only looking at the real part."
   ]
  },
  {
   "cell_type": "code",
   "execution_count": 4,
   "metadata": {},
   "outputs": [
    {
     "name": "stdout",
     "output_type": "stream",
     "text": [
      "0.0, 1.0, 0.0, -1.0, -0.0, 1.0, 0.0, -1.0, -0.0, 1.0, "
     ]
    }
   ],
   "source": [
    "def triangle_coef(n):\n",
    "    c = ((-1)**((n-1)/2)).real\n",
    "    return np.round(c) # you often get .1e-16 instead of 0, for instance\n",
    "for i in range(10):\n",
    "    print(triangle_coef(i),end=\", \")"
   ]
  },
  {
   "cell_type": "code",
   "execution_count": 4,
   "metadata": {},
   "outputs": [
    {
     "data": {
      "application/vnd.jupyter.widget-view+json": {
       "model_id": "84827673e84c486db693f3b4f9a14d0e",
       "version_major": 2,
       "version_minor": 0
      },
      "text/html": [
       "<p>Failed to display Jupyter Widget of type <code>interactive</code>.</p>\n",
       "<p>\n",
       "  If you're reading this message in the Jupyter Notebook or JupyterLab Notebook, it may mean\n",
       "  that the widgets JavaScript is still loading. If this message persists, it\n",
       "  likely means that the widgets JavaScript library is either not installed or\n",
       "  not enabled. See the <a href=\"https://ipywidgets.readthedocs.io/en/stable/user_install.html\">Jupyter\n",
       "  Widgets Documentation</a> for setup instructions.\n",
       "</p>\n",
       "<p>\n",
       "  If you're reading this message in another frontend (for example, a static\n",
       "  rendering on GitHub or <a href=\"https://nbviewer.jupyter.org/\">NBViewer</a>),\n",
       "  it may mean that your frontend doesn't currently support widgets.\n",
       "</p>\n"
      ],
      "text/plain": [
       "interactive(children=(IntSlider(value=3, description='N', max=10), Output()), _dom_classes=('widget-interact',))"
      ]
     },
     "metadata": {},
     "output_type": "display_data"
    },
    {
     "data": {
      "image/png": "[encoded data removed]",
      "text/plain": [
       "<Figure size 720x151.2 with 1 Axes>"
      ]
     },
     "metadata": {},
     "output_type": "display_data"
    }
   ],
   "source": [
    "def plot_static_terms(N=3):\n",
    "    fig = plt.figure(figsize=(ell,h*2.1))\n",
    "    plt.plot(x,y_exact,'k',label='exact')\n",
    "    y = np.zeros_like(x)\n",
    "    for n in range(1,N+1):\n",
    "        if n%2 == 0: continue\n",
    "        this_term = 0 #(8*h/np.pi**2)*triangle_coef(n)*(1/n**2)*np.sin(n*np.pi*x/ell)\n",
    "        plt.plot(x,this_term,alpha=0.5,label='term {n}'.format(n=n))\n",
    "        y = y + this_term\n",
    "    plt.plot(x,y,'k--',label='approximation')\n",
    "    plt.legend()\n",
    "    plt.show()\n",
    "_ = interact(plot_static_terms,N=(0,10))"
   ]
  },
  {
   "cell_type": "markdown",
   "metadata": {},
   "source": [
    "## And what's your final answer?\n",
    "\n",
    "Remember, our final answer was\n",
    "\n",
    "$$\n",
    "y = \\sum_{n=1}^{\\infty} b_n \\sin{\\frac{n\\pi x}{l}} \\cos{\\frac{n\\pi vt}{l}} \\\\\n",
    "= \\frac{8h}{\\pi^2}\\left(\\sin\\frac{\\pi x}{l} \\cos{\\frac{\\pi vt}{l}}\n",
    "-\\frac{1}{3^2}\\sin\\frac{3\\pi x}{l} \\cos{\\frac{3\\pi vt}{l}}\n",
    "+\\frac{1}{5^2}\\sin\\frac{5\\pi x}{l} \\cos{\\frac{5\\pi vt}{l}}\n",
    "...\\right)\n",
    "$$\n",
    "\n",
    "so let's graph that."
   ]
  },
  {
   "cell_type": "code",
   "execution_count": 5,
   "metadata": {},
   "outputs": [
    {
     "data": {
      "application/vnd.jupyter.widget-view+json": {
       "model_id": "050954fd329c4e3daf20566ec3c4876a",
       "version_major": 2,
       "version_minor": 0
      },
      "text/html": [
       "<p>Failed to display Jupyter Widget of type <code>interactive</code>.</p>\n",
       "<p>\n",
       "  If you're reading this message in the Jupyter Notebook or JupyterLab Notebook, it may mean\n",
       "  that the widgets JavaScript is still loading. If this message persists, it\n",
       "  likely means that the widgets JavaScript library is either not installed or\n",
       "  not enabled. See the <a href=\"https://ipywidgets.readthedocs.io/en/stable/user_install.html\">Jupyter\n",
       "  Widgets Documentation</a> for setup instructions.\n",
       "</p>\n",
       "<p>\n",
       "  If you're reading this message in another frontend (for example, a static\n",
       "  rendering on GitHub or <a href=\"https://nbviewer.jupyter.org/\">NBViewer</a>),\n",
       "  it may mean that your frontend doesn't currently support widgets.\n",
       "</p>\n"
      ],
      "text/plain": [
       "interactive(children=(IntSlider(value=6, description='N', max=15), FloatSlider(value=0.25, description='t', max=5.0, step=0.05), Output()), _dom_classes=('widget-interact',))"
      ]
     },
     "metadata": {},
     "output_type": "display_data"
    },
    {
     "data": {
      "image/png": "[encoded data removed]",
      "text/plain": [
       "<Figure size 720x302.4 with 1 Axes>"
      ]
     },
     "metadata": {},
     "output_type": "display_data"
    }
   ],
   "source": [
    "def plot_plucked_terms(N=6,t=0.25,v=10):\n",
    "    fig = plt.figure(figsize=(ell,h*2.1*2))\n",
    "    plt.plot(x,y_exact,'k',label='exact',alpha=0.5)\n",
    "    y = np.zeros_like(x)\n",
    "    for n in range(1,N+1):\n",
    "        if n%2 == 0: continue\n",
    "        this_term = 0#(8*h/np.pi**2)*triangle_coef(n)*(1/n**2)*np.sin(n*np.pi*x/ell)\n",
    "        this_term = 0#this_term*np.cos(n*np.pi*v*t/ell)\n",
    "        plt.plot(x,this_term,alpha=0.3,label='term {n}'.format(n=n))\n",
    "        y = y + this_term\n",
    "    plt.plot(x,y,'k--',label='approximation')\n",
    "    plt.ylim([-h*1.1,h*1.1])\n",
    "    plt.legend()\n",
    "    plt.show()\n",
    "_ = interact(plot_plucked_terms,N=(0,15),t=(0,5,0.05),v=fixed(5))"
   ]
  },
  {
   "cell_type": "markdown",
   "metadata": {},
   "source": [
    "## Other ways\n",
    "\n",
    "In class, we also did the complex version."
   ]
  },
  {
   "cell_type": "markdown",
   "metadata": {},
   "source": [
    "## Hammered string, i.e. piano\n",
    "\n",
    "We solved this in class, for a velocity pulse of witdh $2w$ centered at $l/2$. Our solution was informative in its written form:\n",
    "\n",
    "$$\n",
    "y = \\sum_{n=1}^{\\infty} B_n \\sin{\\frac{n\\pi w}{l}} \\sin{\\frac{n\\pi x}{l}} \\cos{\\frac{n\\pi vt}{l}} \\\\\n",
    "= \\frac{4v_0l}{\\pi^2 v}\\left(\\sin{\\frac{\\pi w}{l}} \\sin\\frac{\\pi x}{l} \\cos{\\frac{\\pi vt}{l}}\n",
    "-\\frac{1}{3^2}\\sin{\\frac{3\\pi w}{l}} \\sin\\frac{3\\pi x}{l} \\cos{\\frac{3\\pi vt}{l}}\n",
    "+\\frac{1}{5^2}\\sin{\\frac{5\\pi w}{l}} \\sin\\frac{5\\pi x}{l} \\cos{\\frac{5\\pi vt}{l}}\n",
    "...\\right)\n",
    "$$\n",
    "\n",
    "where $B_n$ is the thing we had as $b_n$ before, $c$ is the speed of the wave\n",
    "\n",
    "- the coefficients look like before, but now also depend on an extra term which contains $w$ and $l$. \n",
    "- That term, however, does not contain any of our variables ($x$, $t$), so it really does get wrapped up as a coefficient, which we write as $b_n$. \n",
    "- The leading part of the coefficient also changed in form.\n",
    "\n",
    "Also, it's quite important to note that we dropped the $\\cos(t)$ solutions in favor of the $\\sin(t)$ solutions, since the initial displacement is zero."
   ]
  },
  {
   "cell_type": "code",
   "execution_count": 6,
   "metadata": {},
   "outputs": [
    {
     "data": {
      "application/vnd.jupyter.widget-view+json": {
       "model_id": "2fddf1802b2942788f46bd9fa9c02965",
       "version_major": 2,
       "version_minor": 0
      },
      "text/html": [
       "<p>Failed to display Jupyter Widget of type <code>interactive</code>.</p>\n",
       "<p>\n",
       "  If you're reading this message in the Jupyter Notebook or JupyterLab Notebook, it may mean\n",
       "  that the widgets JavaScript is still loading. If this message persists, it\n",
       "  likely means that the widgets JavaScript library is either not installed or\n",
       "  not enabled. See the <a href=\"https://ipywidgets.readthedocs.io/en/stable/user_install.html\">Jupyter\n",
       "  Widgets Documentation</a> for setup instructions.\n",
       "</p>\n",
       "<p>\n",
       "  If you're reading this message in another frontend (for example, a static\n",
       "  rendering on GitHub or <a href=\"https://nbviewer.jupyter.org/\">NBViewer</a>),\n",
       "  it may mean that your frontend doesn't currently support widgets.\n",
       "</p>\n"
      ],
      "text/plain": [
       "interactive(children=(IntSlider(value=50, description='N', max=55), FloatSlider(value=0.72, description='t', max=2.0, step=0.01), IntSlider(value=6, description='v', max=18, min=-6), FloatSlider(value=1.25, description='w', max=3.75, min=-1.25), FloatSlider(value=0.7, description='ymax', max=5.0, min=0.1), FloatSlider(value=2.5, description='v0', max=5.0, min=1.0), Output()), _dom_classes=('widget-interact',))"
      ]
     },
     "metadata": {},
     "output_type": "display_data"
    },
    {
     "data": {
      "image/png": "[encoded data removed]",
      "text/plain": [
       "<Figure size 720x302.4 with 1 Axes>"
      ]
     },
     "metadata": {},
     "output_type": "display_data"
    }
   ],
   "source": [
    "def plot_hammered_terms(N=50,t=0.72,v=6,w=ell/8,ymax=0.7,v0=2.5):\n",
    "    fig = plt.figure(figsize=(ell,h*2.1*2))\n",
    "    #plt.plot(x,y_exact,'k',label='exact',alpha=0.5)\n",
    "    y = np.zeros_like(x)\n",
    "    for n in range(1,N+1):\n",
    "        if n%2 == 0: continue\n",
    "        this_term = 0#(4*v0*ell/(v*np.pi**2))*triangle_coef(n)*(1/n**2)*np.sin(n*np.pi*x/ell)\n",
    "        this_term = 0#this_term*np.sin(n*np.pi*v*t/ell)\n",
    "        this_term = 0#this_term*np.sin(n*np.pi*w/ell)\n",
    "        plt.plot(x,this_term,alpha=0.3,label='term {n}'.format(n=n))\n",
    "        y = y + this_term\n",
    "    plt.plot(x,y,'k--',label='approximation')\n",
    "    plt.ylim([-ymax,ymax])\n",
    "    plt.legend()\n",
    "    plt.show()\n",
    "_ = interact(plot_hammered_terms,N=(0,55),t=(0,2,0.01),ymax=(.1,5,0.1),v0=(1,5,.1))"
   ]
  },
  {
   "cell_type": "code",
   "execution_count": null,
   "metadata": {
    "collapsed": true
   },
   "outputs": [],
   "source": []
  }
 ],
 "metadata": {
  "kernelspec": {
   "display_name": "Python 3",
   "language": "python",
   "name": "python3"
  },
  "language_info": {
   "codemirror_mode": {
    "name": "ipython",
    "version": 3
   },
   "file_extension": ".py",
   "mimetype": "text/x-python",
   "name": "python",
   "nbconvert_exporter": "python",
   "pygments_lexer": "ipython3",
   "version": "3.6.4"
  }
 },
 "nbformat": 4,
 "nbformat_minor": 1
}
